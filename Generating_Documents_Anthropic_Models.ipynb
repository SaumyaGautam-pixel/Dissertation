{
 "cells": [
  {
   "cell_type": "code",
   "execution_count": 20,
   "id": "25a4ae94",
   "metadata": {},
   "outputs": [],
   "source": [
    "import pandas as pd\n",
    "import seaborn as sns\n",
    "import matplotlib.pyplot as plt\n",
    "import numpy as np\n",
    "from matplotlib.colors import ListedColormap\n",
    "from matplotlib.colors import LinearSegmentedColormap\n",
    "import requests\n",
    "import json\n",
    "from IPython.display import display, Markdown\n",
    "import matplotlib.colors as mcolors"
   ]
  },
  {
   "cell_type": "markdown",
   "id": "131dc52f",
   "metadata": {},
   "source": [
    "## 1. Aim"
   ]
  },
  {
   "cell_type": "markdown",
   "id": "e3e6e399",
   "metadata": {},
   "source": [
    "Through this project we aim to leverage LLMs to automate the process of safety and health document generation."
   ]
  },
  {
   "cell_type": "markdown",
   "id": "e12fc87d",
   "metadata": {},
   "source": [
    "We have focused on generating two kinds of documents:"
   ]
  },
  {
   "cell_type": "markdown",
   "id": "3d41ab42",
   "metadata": {},
   "source": [
    "##### 1. Risk Assessment Document"
   ]
  },
  {
   "cell_type": "markdown",
   "id": "69700a87",
   "metadata": {},
   "source": [
    "###### 2. Job Safety Analysis Document"
   ]
  },
  {
   "cell_type": "markdown",
   "id": "479370d9",
   "metadata": {},
   "source": [
    "## 2. Importing the Dataset"
   ]
  },
  {
   "cell_type": "markdown",
   "id": "a5181dc8",
   "metadata": {},
   "source": [
    "### 2.1 Risk Assessment Dataset"
   ]
  },
  {
   "cell_type": "code",
   "execution_count": 27,
   "id": "a99857ca",
   "metadata": {},
   "outputs": [],
   "source": [
    "dataset_path = '/home/jovyan/Dissertation/Data-8.xlsx' #Load the dataset\n",
    "df_risk = pd.read_excel(dataset_path)"
   ]
  },
  {
   "cell_type": "code",
   "execution_count": 28,
   "id": "78576b94",
   "metadata": {},
   "outputs": [
    {
     "name": "stdout",
     "output_type": "stream",
     "text": [
      "The number of rows are 44000\n",
      "The number of columns are 16\n"
     ]
    }
   ],
   "source": [
    "# Get the number of rows and columns in the DataFrame\n",
    "rows, columns = df_risk.shape\n",
    "# Print the counts of rows and columns\n",
    "print('The number of rows are', rows)\n",
    "print('The number of columns are', columns)"
   ]
  },
  {
   "cell_type": "code",
   "execution_count": 29,
   "id": "a4d44ebc",
   "metadata": {},
   "outputs": [
    {
     "name": "stdout",
     "output_type": "stream",
     "text": [
      "<class 'pandas.core.frame.DataFrame'>\n",
      "RangeIndex: 44000 entries, 0 to 43999\n",
      "Data columns (total 16 columns):\n",
      " #   Column              Non-Null Count  Dtype  \n",
      "---  ------              --------------  -----  \n",
      " 0   Activity            44000 non-null  object \n",
      " 1   Hazard              44000 non-null  object \n",
      " 2   Identified at Risk  44000 non-null  object \n",
      " 3   Initial Risk L      44000 non-null  int64  \n",
      " 4   Initial Risk S      44000 non-null  int64  \n",
      " 5   Initial Risk R      44000 non-null  int64  \n",
      " 6   Control Measures    44000 non-null  object \n",
      " 7   Residual Risk L     44000 non-null  int64  \n",
      " 8   Residual Risk S     44000 non-null  int64  \n",
      " 9   Residual Risk R     44000 non-null  int64  \n",
      " 10  Remarks             0 non-null      float64\n",
      " 11  Document Type       44000 non-null  object \n",
      " 12  Industry            44000 non-null  object \n",
      " 13  Gender              44000 non-null  object \n",
      " 14  Country             44000 non-null  object \n",
      " 15  Local               44000 non-null  object \n",
      "dtypes: float64(1), int64(6), object(9)\n",
      "memory usage: 5.4+ MB\n"
     ]
    }
   ],
   "source": [
    "# Print a concise summary of the DataFrame\n",
    "df_risk.info()"
   ]
  },
  {
   "cell_type": "code",
   "execution_count": 30,
   "id": "957c8b14",
   "metadata": {},
   "outputs": [
    {
     "data": {
      "text/html": [
       "<div>\n",
       "<style scoped>\n",
       "    .dataframe tbody tr th:only-of-type {\n",
       "        vertical-align: middle;\n",
       "    }\n",
       "\n",
       "    .dataframe tbody tr th {\n",
       "        vertical-align: top;\n",
       "    }\n",
       "\n",
       "    .dataframe thead th {\n",
       "        text-align: right;\n",
       "    }\n",
       "</style>\n",
       "<table border=\"1\" class=\"dataframe\">\n",
       "  <thead>\n",
       "    <tr style=\"text-align: right;\">\n",
       "      <th></th>\n",
       "      <th>Activity</th>\n",
       "      <th>Hazard</th>\n",
       "      <th>Identified at Risk</th>\n",
       "      <th>Initial Risk L</th>\n",
       "      <th>Initial Risk S</th>\n",
       "      <th>Initial Risk R</th>\n",
       "      <th>Control Measures</th>\n",
       "      <th>Residual Risk L</th>\n",
       "      <th>Residual Risk S</th>\n",
       "      <th>Residual Risk R</th>\n",
       "      <th>Remarks</th>\n",
       "      <th>Document Type</th>\n",
       "      <th>Industry</th>\n",
       "      <th>Gender</th>\n",
       "      <th>Country</th>\n",
       "      <th>Local</th>\n",
       "    </tr>\n",
       "  </thead>\n",
       "  <tbody>\n",
       "    <tr>\n",
       "      <th>0</th>\n",
       "      <td>Site Entrance</td>\n",
       "      <td>Unauthorized access</td>\n",
       "      <td>Security Personnel</td>\n",
       "      <td>1</td>\n",
       "      <td>3</td>\n",
       "      <td>3</td>\n",
       "      <td>Safety induction and visible signage must be p...</td>\n",
       "      <td>1</td>\n",
       "      <td>2</td>\n",
       "      <td>2</td>\n",
       "      <td>NaN</td>\n",
       "      <td>Risk Assessment</td>\n",
       "      <td>Chemicals</td>\n",
       "      <td>Male</td>\n",
       "      <td>Country_5</td>\n",
       "      <td>International</td>\n",
       "    </tr>\n",
       "    <tr>\n",
       "      <th>1</th>\n",
       "      <td>Site Entrance</td>\n",
       "      <td>Struck by vehicle</td>\n",
       "      <td>Security Personnel</td>\n",
       "      <td>4</td>\n",
       "      <td>1</td>\n",
       "      <td>4</td>\n",
       "      <td>Safety induction and visible signage must be p...</td>\n",
       "      <td>3</td>\n",
       "      <td>1</td>\n",
       "      <td>3</td>\n",
       "      <td>NaN</td>\n",
       "      <td>Risk Assessment</td>\n",
       "      <td>Chemicals</td>\n",
       "      <td>Male</td>\n",
       "      <td>Country_4</td>\n",
       "      <td>Local</td>\n",
       "    </tr>\n",
       "    <tr>\n",
       "      <th>2</th>\n",
       "      <td>Site Entrance</td>\n",
       "      <td>Unauthorized access</td>\n",
       "      <td>Visitors</td>\n",
       "      <td>2</td>\n",
       "      <td>2</td>\n",
       "      <td>4</td>\n",
       "      <td>Safety induction and visible signage must be p...</td>\n",
       "      <td>2</td>\n",
       "      <td>2</td>\n",
       "      <td>4</td>\n",
       "      <td>NaN</td>\n",
       "      <td>Risk Assessment</td>\n",
       "      <td>Construction</td>\n",
       "      <td>Male</td>\n",
       "      <td>Country_1</td>\n",
       "      <td>International</td>\n",
       "    </tr>\n",
       "    <tr>\n",
       "      <th>3</th>\n",
       "      <td>Site Entrance</td>\n",
       "      <td>Struck by vehicle</td>\n",
       "      <td>Visitors</td>\n",
       "      <td>3</td>\n",
       "      <td>1</td>\n",
       "      <td>3</td>\n",
       "      <td>Safety induction and visible signage must be p...</td>\n",
       "      <td>2</td>\n",
       "      <td>1</td>\n",
       "      <td>2</td>\n",
       "      <td>NaN</td>\n",
       "      <td>Risk Assessment</td>\n",
       "      <td>Construction</td>\n",
       "      <td>Male</td>\n",
       "      <td>Country_4</td>\n",
       "      <td>Local</td>\n",
       "    </tr>\n",
       "    <tr>\n",
       "      <th>4</th>\n",
       "      <td>Site Entrance</td>\n",
       "      <td>Struck by vehicle</td>\n",
       "      <td>Visitors</td>\n",
       "      <td>2</td>\n",
       "      <td>4</td>\n",
       "      <td>8</td>\n",
       "      <td>Safety induction and visible signage must be p...</td>\n",
       "      <td>2</td>\n",
       "      <td>2</td>\n",
       "      <td>4</td>\n",
       "      <td>NaN</td>\n",
       "      <td>Risk Assessment</td>\n",
       "      <td>Chemicals</td>\n",
       "      <td>Male</td>\n",
       "      <td>Country_2</td>\n",
       "      <td>Local</td>\n",
       "    </tr>\n",
       "  </tbody>\n",
       "</table>\n",
       "</div>"
      ],
      "text/plain": [
       "        Activity               Hazard  Identified at Risk  Initial Risk L  \\\n",
       "0  Site Entrance  Unauthorized access  Security Personnel               1   \n",
       "1  Site Entrance    Struck by vehicle  Security Personnel               4   \n",
       "2  Site Entrance  Unauthorized access            Visitors               2   \n",
       "3  Site Entrance    Struck by vehicle            Visitors               3   \n",
       "4  Site Entrance    Struck by vehicle            Visitors               2   \n",
       "\n",
       "   Initial Risk S  Initial Risk R  \\\n",
       "0               3               3   \n",
       "1               1               4   \n",
       "2               2               4   \n",
       "3               1               3   \n",
       "4               4               8   \n",
       "\n",
       "                                    Control Measures  Residual Risk L  \\\n",
       "0  Safety induction and visible signage must be p...                1   \n",
       "1  Safety induction and visible signage must be p...                3   \n",
       "2  Safety induction and visible signage must be p...                2   \n",
       "3  Safety induction and visible signage must be p...                2   \n",
       "4  Safety induction and visible signage must be p...                2   \n",
       "\n",
       "   Residual Risk S  Residual Risk R  Remarks    Document Type      Industry  \\\n",
       "0                2                2      NaN  Risk Assessment     Chemicals   \n",
       "1                1                3      NaN  Risk Assessment     Chemicals   \n",
       "2                2                4      NaN  Risk Assessment  Construction   \n",
       "3                1                2      NaN  Risk Assessment  Construction   \n",
       "4                2                4      NaN  Risk Assessment     Chemicals   \n",
       "\n",
       "  Gender    Country          Local  \n",
       "0   Male  Country_5  International  \n",
       "1   Male  Country_4          Local  \n",
       "2   Male  Country_1  International  \n",
       "3   Male  Country_4          Local  \n",
       "4   Male  Country_2          Local  "
      ]
     },
     "execution_count": 30,
     "metadata": {},
     "output_type": "execute_result"
    }
   ],
   "source": [
    "df_risk.head() #display first five rows of the dataset"
   ]
  },
  {
   "cell_type": "markdown",
   "id": "adf3ed26",
   "metadata": {},
   "source": [
    "### 2.1.1 Variable Description"
   ]
  },
  {
   "cell_type": "markdown",
   "id": "f1d85642",
   "metadata": {},
   "source": [
    "| Variable Name        | Description                                       | Type    | Variable Type |\n",
    "|----------------------|---------------------------------------------------|---------|---------------|\n",
    "| Activity             | The specific activity where the hazard is identified | object  | Categorical   |\n",
    "| Hazard               | The type of hazard present                        | object  | Categorical   |\n",
    "| Identified at Risk   | The individuals at risk                           | object  | Categorical   |\n",
    "| Initial Risk L       | Initial likelihood of the risk                    | int64   | Numerical     |\n",
    "| Initial Risk S       | Initial severity of the risk                      | int64   | Numerical     |\n",
    "| Initial Risk R       | Initial risk rating                               | int64   | Numerical     |\n",
    "| Control Measures     | Measures implemented to control the hazard        | object  | Categorical   |\n",
    "| Residual Risk L      | Residual likelihood of the risk after control measures | int64   | Numerical     |\n",
    "| Residual Risk S      | Residual severity of the risk after control measures | int64   | Numerical     |\n",
    "| Residual Risk R      | Residual risk rating after control measures       | int64   | Numerical     |\n",
    "| Remarks              | Additional comments                               | float64 | Categorical   |\n",
    "| Document Type        | Type of document                                  | object  | Categorical   |\n",
    "| Industry             | Industry where the activity is performed          | object  | Categorical   |\n",
    "| Gender               | Gender of the person at risk                      | object  | Categorical   |\n",
    "| Country              | Country where the activity is performed           | object  | Categorical   |\n",
    "| Local                | Indicates if the activity is local or international | object  | Categorical   |\n"
   ]
  },
  {
   "cell_type": "markdown",
   "id": "930a4f5b",
   "metadata": {},
   "source": [
    "### 2.1.2 Missing Values"
   ]
  },
  {
   "cell_type": "code",
   "execution_count": 31,
   "id": "0ab789fa",
   "metadata": {},
   "outputs": [
    {
     "data": {
      "image/png": "[encoded data removed]",
      "text/plain": [
       "<Figure size 1200x800 with 1 Axes>"
      ]
     },
     "metadata": {},
     "output_type": "display_data"
    }
   ],
   "source": [
    "# Check for missing values\n",
    "missing_values = df_risk.isnull().sum()\n",
    "\n",
    "\n",
    "# Create a custom colormap: yellow for missing, pastel orange for non-missing\n",
    "colors = ['#FFECB3', '#FFA500']  # pastel orange and yellow\n",
    "cmap = ListedColormap(colors)\n",
    "\n",
    "# Visualize the missing values with the custom colormap\n",
    "plt.figure(figsize=(12, 8))\n",
    "sns.heatmap(df_risk.isnull(), cbar=False, cmap=cmap, yticklabels=False)\n",
    "plt.title('Missing Values in Dataset')\n",
    "plt.xlabel('Columns')\n",
    "plt.ylabel('Rows')\n",
    "plt.show()"
   ]
  },
  {
   "cell_type": "markdown",
   "id": "7181ad4b",
   "metadata": {},
   "source": [
    "Out of all the variables in the dataset, only 'Remarks' has null values."
   ]
  },
  {
   "cell_type": "markdown",
   "id": "5f2ac11e",
   "metadata": {},
   "source": [
    "### 2.2 Job Safety Analysis Dataset"
   ]
  },
  {
   "cell_type": "code",
   "execution_count": 32,
   "id": "fe84c675",
   "metadata": {},
   "outputs": [],
   "source": [
    "dataset_path_2 = '/home/jovyan/Dissertation/Consolidated_JSA.xlsx' #load the dataset\n",
    "df_jsa = pd.read_excel(dataset_path_2)"
   ]
  },
  {
   "cell_type": "code",
   "execution_count": 33,
   "id": "a9522af5",
   "metadata": {},
   "outputs": [
    {
     "name": "stdout",
     "output_type": "stream",
     "text": [
      "The number of rows are 2580\n",
      "The number of columns are 6\n"
     ]
    }
   ],
   "source": [
    "# Get the number of rows and columns in the DataFrame\n",
    "rows, columns = df_jsa.shape\n",
    "# Print the counts of rows and columns\n",
    "print('The number of rows are', rows)\n",
    "print('The number of columns are', columns)"
   ]
  },
  {
   "cell_type": "code",
   "execution_count": 34,
   "id": "ffabfba3",
   "metadata": {},
   "outputs": [
    {
     "name": "stdout",
     "output_type": "stream",
     "text": [
      "<class 'pandas.core.frame.DataFrame'>\n",
      "RangeIndex: 2580 entries, 0 to 2579\n",
      "Data columns (total 6 columns):\n",
      " #   Column                 Non-Null Count  Dtype \n",
      "---  ------                 --------------  ----- \n",
      " 0   Sr.No.                 2570 non-null   object\n",
      " 1   Sub-Activity Name      2567 non-null   object\n",
      " 2   Type Of Hazard         2564 non-null   object\n",
      " 3   Risk(s) Involved       2551 non-null   object\n",
      " 4   Risk Control measures  2565 non-null   object\n",
      " 5   Activity               2580 non-null   object\n",
      "dtypes: object(6)\n",
      "memory usage: 121.1+ KB\n"
     ]
    }
   ],
   "source": [
    "# Print a concise summary of the DataFrame\n",
    "df_jsa.info()"
   ]
  },
  {
   "cell_type": "code",
   "execution_count": 35,
   "id": "b044ab44",
   "metadata": {},
   "outputs": [
    {
     "data": {
      "text/html": [
       "<div>\n",
       "<style scoped>\n",
       "    .dataframe tbody tr th:only-of-type {\n",
       "        vertical-align: middle;\n",
       "    }\n",
       "\n",
       "    .dataframe tbody tr th {\n",
       "        vertical-align: top;\n",
       "    }\n",
       "\n",
       "    .dataframe thead th {\n",
       "        text-align: right;\n",
       "    }\n",
       "</style>\n",
       "<table border=\"1\" class=\"dataframe\">\n",
       "  <thead>\n",
       "    <tr style=\"text-align: right;\">\n",
       "      <th></th>\n",
       "      <th>Sr.No.</th>\n",
       "      <th>Sub-Activity Name</th>\n",
       "      <th>Type Of Hazard</th>\n",
       "      <th>Risk(s) Involved</th>\n",
       "      <th>Risk Control measures</th>\n",
       "      <th>Activity</th>\n",
       "    </tr>\n",
       "  </thead>\n",
       "  <tbody>\n",
       "    <tr>\n",
       "      <th>0</th>\n",
       "      <td>1</td>\n",
       "      <td>Manpower Mobilization</td>\n",
       "      <td>Untrained worker</td>\n",
       "      <td>Personal injury</td>\n",
       "      <td>Only inducted worker shall be deputed at the w...</td>\n",
       "      <td>Alluminium door fixing</td>\n",
       "    </tr>\n",
       "    <tr>\n",
       "      <th>1</th>\n",
       "      <td>1</td>\n",
       "      <td>Manpower Mobilization</td>\n",
       "      <td>Untrained worker</td>\n",
       "      <td>Personal injury</td>\n",
       "      <td>Given Tool Box Talk to all workers.</td>\n",
       "      <td>Alluminium door fixing</td>\n",
       "    </tr>\n",
       "    <tr>\n",
       "      <th>2</th>\n",
       "      <td>1</td>\n",
       "      <td>Manpower Mobilization</td>\n",
       "      <td>Untrained worker</td>\n",
       "      <td>Personal injury</td>\n",
       "      <td>Required work permits should be taken before s...</td>\n",
       "      <td>Alluminium door fixing</td>\n",
       "    </tr>\n",
       "    <tr>\n",
       "      <th>3</th>\n",
       "      <td>1</td>\n",
       "      <td>Manpower Mobilization</td>\n",
       "      <td>Untrained worker</td>\n",
       "      <td>Personal injury</td>\n",
       "      <td>Work Shall be carried out under continuous Sup...</td>\n",
       "      <td>Alluminium door fixing</td>\n",
       "    </tr>\n",
       "    <tr>\n",
       "      <th>4</th>\n",
       "      <td>2</td>\n",
       "      <td>Fixing of Frame</td>\n",
       "      <td>Fall of material, fall of man, electric shock,...</td>\n",
       "      <td>Personal Injury, property damage</td>\n",
       "      <td>Ensure only inspected ladder/ scaffold should ...</td>\n",
       "      <td>Alluminium door fixing</td>\n",
       "    </tr>\n",
       "  </tbody>\n",
       "</table>\n",
       "</div>"
      ],
      "text/plain": [
       "  Sr.No.      Sub-Activity Name  \\\n",
       "0      1  Manpower Mobilization   \n",
       "1      1  Manpower Mobilization   \n",
       "2      1  Manpower Mobilization   \n",
       "3      1  Manpower Mobilization   \n",
       "4      2        Fixing of Frame   \n",
       "\n",
       "                                      Type Of Hazard  \\\n",
       "0                                   Untrained worker   \n",
       "1                                   Untrained worker   \n",
       "2                                   Untrained worker   \n",
       "3                                   Untrained worker   \n",
       "4  Fall of material, fall of man, electric shock,...   \n",
       "\n",
       "                   Risk(s) Involved  \\\n",
       "0                   Personal injury   \n",
       "1                   Personal injury   \n",
       "2                   Personal injury   \n",
       "3                   Personal injury   \n",
       "4  Personal Injury, property damage   \n",
       "\n",
       "                               Risk Control measures                Activity  \n",
       "0  Only inducted worker shall be deputed at the w...  Alluminium door fixing  \n",
       "1                Given Tool Box Talk to all workers.  Alluminium door fixing  \n",
       "2  Required work permits should be taken before s...  Alluminium door fixing  \n",
       "3  Work Shall be carried out under continuous Sup...  Alluminium door fixing  \n",
       "4  Ensure only inspected ladder/ scaffold should ...  Alluminium door fixing  "
      ]
     },
     "execution_count": 35,
     "metadata": {},
     "output_type": "execute_result"
    }
   ],
   "source": [
    "df_jsa.head() #display first five rows of the dataset"
   ]
  },
  {
   "cell_type": "markdown",
   "id": "88e993a1",
   "metadata": {},
   "source": [
    "### 2.2.1 Variable Description"
   ]
  },
  {
   "cell_type": "markdown",
   "id": "1cbcc38c",
   "metadata": {},
   "source": [
    "| Variable Name          | Description                                           | Type   | Variable Type |\n",
    "|------------------------|-------------------------------------------------------|--------|---------------|\n",
    "| Sr.No.                 | Serial number of the entry                            | int64  | Numerical     |\n",
    "| Sub-Activity Name      | Name of the specific sub-activity within a project    | object | Categorical   |\n",
    "| Type Of Hazard         | The type of hazard identified in the sub-activity     | object | Categorical   |\n",
    "| Risk(s) Involved       | The risks involved in performing the sub-activity     | object | Categorical   |\n",
    "| Risk Control measures  | Measures implemented to control identified risks      | object | Categorical   |\n",
    "| Activity               | The main activity to which the sub-activity belongs   | object | Categorical   |\n",
    "\n"
   ]
  },
  {
   "cell_type": "markdown",
   "id": "98e30ab7",
   "metadata": {},
   "source": [
    "### 2.2.2 Missing Values"
   ]
  },
  {
   "cell_type": "code",
   "execution_count": 36,
   "id": "e6b5e4cd",
   "metadata": {},
   "outputs": [
    {
     "data": {
      "image/png": "[encoded data removed]",
      "text/plain": [
       "<Figure size 800x600 with 2 Axes>"
      ]
     },
     "metadata": {},
     "output_type": "display_data"
    }
   ],
   "source": [
    "# Calculate missing values\n",
    "missing_values = df_jsa.isnull()\n",
    "\n",
    "# Create a heatmap to visualize missing data\n",
    "plt.figure(figsize=(8, 6))\n",
    "# Using 'viridis' for a clear visual distinction: missing data will appear in one color, non-missing data in another\n",
    "sns.heatmap(missing_values, cbar=True, yticklabels=False, cmap='viridis')\n",
    "plt.title('Heatmap of Missing Values by Variable')\n",
    "plt.show()"
   ]
  },
  {
   "cell_type": "markdown",
   "id": "1bc69f37",
   "metadata": {},
   "source": [
    "## 3. Data Cleaning"
   ]
  },
  {
   "cell_type": "markdown",
   "id": "298b6672",
   "metadata": {},
   "source": [
    "### 3.1 Risk Assessment Dataset"
   ]
  },
  {
   "cell_type": "code",
   "execution_count": 37,
   "id": "bc2e822f",
   "metadata": {},
   "outputs": [],
   "source": [
    "# Using the .drop() method to remove the 'Remarks' column from the df_risk DataFrame\n",
    "df_risk.drop(columns=['Remarks'], inplace=True)  \n",
    "# 'columns' parameter specifies a list of column names to be removed. \n",
    "# 'inplace=True' modifies the DataFrame in place, meaning no new DataFrame is created and df_risk is directly updated.\n"
   ]
  },
  {
   "cell_type": "code",
   "execution_count": 38,
   "id": "65be8b73",
   "metadata": {},
   "outputs": [
    {
     "name": "stdout",
     "output_type": "stream",
     "text": [
      "<class 'pandas.core.frame.DataFrame'>\n",
      "RangeIndex: 44000 entries, 0 to 43999\n",
      "Data columns (total 15 columns):\n",
      " #   Column              Non-Null Count  Dtype \n",
      "---  ------              --------------  ----- \n",
      " 0   Activity            44000 non-null  object\n",
      " 1   Hazard              44000 non-null  object\n",
      " 2   Identified at Risk  44000 non-null  object\n",
      " 3   Initial Risk L      44000 non-null  int64 \n",
      " 4   Initial Risk S      44000 non-null  int64 \n",
      " 5   Initial Risk R      44000 non-null  int64 \n",
      " 6   Control Measures    44000 non-null  object\n",
      " 7   Residual Risk L     44000 non-null  int64 \n",
      " 8   Residual Risk S     44000 non-null  int64 \n",
      " 9   Residual Risk R     44000 non-null  int64 \n",
      " 10  Document Type       44000 non-null  object\n",
      " 11  Industry            44000 non-null  object\n",
      " 12  Gender              44000 non-null  object\n",
      " 13  Country             44000 non-null  object\n",
      " 14  Local               44000 non-null  object\n",
      "dtypes: int64(6), object(9)\n",
      "memory usage: 5.0+ MB\n"
     ]
    }
   ],
   "source": [
    "df_risk.info()  # Displays a summary of the DataFrame including column data types, non-null values, and memory usage."
   ]
  },
  {
   "cell_type": "markdown",
   "id": "d4b8f4b0",
   "metadata": {},
   "source": [
    "### 3.2 Job Safety Analysis Dataset"
   ]
  },
  {
   "cell_type": "code",
   "execution_count": 39,
   "id": "61bd08dc",
   "metadata": {},
   "outputs": [],
   "source": [
    "df_jsa.dropna(inplace=True)  # Removes rows with any NaN values in the DataFrame df_jsa and updates it in place."
   ]
  },
  {
   "cell_type": "code",
   "execution_count": 40,
   "id": "6cb9d7bc",
   "metadata": {},
   "outputs": [
    {
     "name": "stdout",
     "output_type": "stream",
     "text": [
      "<class 'pandas.core.frame.DataFrame'>\n",
      "Int64Index: 2535 entries, 0 to 2579\n",
      "Data columns (total 6 columns):\n",
      " #   Column                 Non-Null Count  Dtype \n",
      "---  ------                 --------------  ----- \n",
      " 0   Sr.No.                 2535 non-null   object\n",
      " 1   Sub-Activity Name      2535 non-null   object\n",
      " 2   Type Of Hazard         2535 non-null   object\n",
      " 3   Risk(s) Involved       2535 non-null   object\n",
      " 4   Risk Control measures  2535 non-null   object\n",
      " 5   Activity               2535 non-null   object\n",
      "dtypes: object(6)\n",
      "memory usage: 138.6+ KB\n"
     ]
    }
   ],
   "source": [
    "df_jsa.info()  # Outputs a concise summary of the df_jsa DataFrame, including the data types and non-null counts of each column."
   ]
  },
  {
   "cell_type": "markdown",
   "id": "8fe312fb",
   "metadata": {},
   "source": [
    "## 4. LLM Building"
   ]
  },
  {
   "cell_type": "markdown",
   "id": "ca6e8656",
   "metadata": {},
   "source": [
    "In order to start LLM modelling. we will first divide our task into two activities :"
   ]
  },
  {
   "cell_type": "markdown",
   "id": "597eb66f",
   "metadata": {},
   "source": [
    "1. Generating Risk Assessment Document\n",
    "2. Generating Job Safety Analaysis Document"
   ]
  },
  {
   "cell_type": "markdown",
   "id": "83b7634f",
   "metadata": {},
   "source": [
    "## For both tasks, the following models have been leveraged:\n",
    "1. Anthropic \\\n",
    "1.1 claude-3-sonnet-20240229 \\\n",
    "1.2 claude-3-opus-20240229 \\\n",
    "\n"
   ]
  },
  {
   "cell_type": "markdown",
   "id": "3b960ce7",
   "metadata": {},
   "source": [
    "We will first define api keys for both the models which whill help in fetching information from LLMs."
   ]
  },
  {
   "cell_type": "markdown",
   "id": "2b0f1942",
   "metadata": {},
   "source": [
    "### Accessing the OpenAI API Key"
   ]
  },
  {
   "cell_type": "code",
   "execution_count": 41,
   "id": "1d1a4cd9",
   "metadata": {},
   "outputs": [],
   "source": [
    "api_key_anthropic=''\n",
    "#api key has been removed due to privacy reasons"
   ]
  },
  {
   "cell_type": "markdown",
   "id": "d67efdee",
   "metadata": {},
   "source": [
    "### Accessing the OpenAI Endpoint"
   ]
  },
  {
   "cell_type": "code",
   "execution_count": 42,
   "id": "bc91d259",
   "metadata": {},
   "outputs": [],
   "source": [
    "api_url_anthropic=''\n",
    "#api url has been removed due to privacy reasons"
   ]
  },
  {
   "cell_type": "markdown",
   "id": "3908e2a3",
   "metadata": {},
   "source": [
    "### Defining Functions to Interact with the API Key"
   ]
  },
  {
   "cell_type": "markdown",
   "id": "8f9aa8f5",
   "metadata": {},
   "source": [
    "It is necessary to define functions which will help us in interacting with the LLMs through the API Key."
   ]
  },
  {
   "cell_type": "code",
   "execution_count": 43,
   "id": "62c56977",
   "metadata": {},
   "outputs": [],
   "source": [
    "def get_claude_response(input_text, model=None):\n",
    "    headers = {\n",
    "        'Authorization': api_key_anthropic,\n",
    "        'Content-Type': 'application/json'\n",
    "    }\n",
    "    \n",
    "    if model is None:\n",
    "        model = \"claude-3-opus-20240229\"  # Default model\n",
    "    \n",
    "    data = {\n",
    "        \"model\": model,\n",
    "        \"max_tokens\": 1024,\n",
    "        \"messages\": [\n",
    "            {\"role\": \"user\", \"content\": input_text}\n",
    "        ]\n",
    "    }\n",
    "    response = requests.post(api_url_anthropic, json=data, headers=headers)\n",
    "    \n",
    "    if response.status_code == 200:\n",
    "        response_data = response.json()\n",
    "        return extract_claude_message(response_data)\n",
    "    else:\n",
    "        return {\"statusCode\": response.status_code, \"body\": response.content.decode('utf-8')}\n",
    "\n",
    "def extract_claude_message(response_data):\n",
    "    # Adjust this part based on the actual structure of response_data\n",
    "    if 'content' in response_data and len(response_data['content']) > 0:\n",
    "        return response_data['content'][0]['text']\n",
    "    else:\n",
    "        return \"Error: 'content' not found in response\"\n",
    "\n",
    "def display_message(response):\n",
    "    if isinstance(response, dict):\n",
    "        error_message = \"Error \" + str(response.get(\"statusCode\", \"\")) + \": \" + response.get(\"body\", \"\")\n",
    "        markdown_content = \"---\\n\\n\" + error_message + \"\\n\\n---\"\n",
    "    else:\n",
    "        markdown_content = \"---\\n\\n\" + response + \"\\n\\n---\"\n",
    "\n",
    "    display(Markdown(\"<div style='color: #34568B;'>\\n\\n\" + markdown_content + \"\\n\\n</div>\"))"
   ]
  },
  {
   "cell_type": "markdown",
   "id": "c72e74e4",
   "metadata": {},
   "source": [
    "To achieve the best results we have performed multiple experiments to see which LLM and which technique effectively helps in achieving the desirable result."
   ]
  },
  {
   "cell_type": "markdown",
   "id": "25850d00",
   "metadata": {},
   "source": [
    "### 4.1 Generating Risk Assessment Document"
   ]
  },
  {
   "cell_type": "markdown",
   "id": "9616d9a1",
   "metadata": {},
   "source": [
    "#### Experiment 1: Detailed Function Based Prompt"
   ]
  },
  {
   "cell_type": "markdown",
   "id": "fdc267b0",
   "metadata": {},
   "source": [
    "##### Activity 1: Site Entrance"
   ]
  },
  {
   "cell_type": "code",
   "execution_count": 44,
   "id": "565c1086",
   "metadata": {},
   "outputs": [],
   "source": [
    "def generate_risk_prompt(data, activity_name): # Function to generate a prompt based on the most common risk levels for a specified activity in a DataFrame.\n",
    "    # Filters the DataFrame 'data' for rows where the 'Activity' column matches the specified activity_name.\n",
    "    activity_data = data[data['Activity'] == activity_name]\n",
    "    mode_risk_l = activity_data['Initial Risk L'].mode()[0] # Finds the mode (most frequently occurring value) of the 'Initial Risk L' (Likelihood) column.\n",
    "    mode_risk_s = activity_data['Initial Risk S'].mode()[0] # Finds the mode of the 'Initial Risk S' (Severity) column.\n",
    "    filtered_data = activity_data[\n",
    "        (activity_data['Initial Risk L'] == mode_risk_l) &\n",
    "        (activity_data['Initial Risk S'] == mode_risk_s)] # Filters 'activity_data' further to include only rows where both risk likelihood and severity match their respective modes.\n",
    "    \n",
    "    # Use groupby and first to prepare unique hazard data\n",
    "    unique_hazard_data = filtered_data.groupby('Hazard').first().reset_index()\n",
    "\n",
    "    # Calculate Initial Risk R and Residual Risk R\n",
    "    unique_hazard_data['Initial Risk R'] = unique_hazard_data['Initial Risk L'] * unique_hazard_data['Initial Risk S']\n",
    "    unique_hazard_data['Residual Risk R'] = unique_hazard_data['Residual Risk L'] * unique_hazard_data['Residual Risk S']\n",
    "\n",
    "    # Generate the prompt for the LLM\n",
    "    prompt = \"Generate a risk assessment document in markdown format for the activity 'Site Entrance'. Focus on the following details:\\n\"\n",
    "    for index, row in unique_hazard_data.iterrows():\n",
    "        # Get unique values of 'Identified at Risk' for each hazard\n",
    "        at_risk_unique = data[(data['Hazard'] == row['Hazard']) & (data['Activity'] == activity_name)]['Identified at Risk'].unique()\n",
    "        at_risk_list = \", \".join(at_risk_unique)\n",
    "        prompt += f\"- Hazard: {row['Hazard']}, Risk Level: L{row['Initial Risk L']}, S{row['Initial Risk S']}, R{row['Initial Risk R']}, Identified at risk: {at_risk_list}, Control Measures: {row['Control Measures']}, Residual Risk: L{row['Residual Risk L']}, S{row['Residual Risk S']}, R{row['Residual Risk R']}\\n\"\n",
    "    return prompt"
   ]
  },
  {
   "cell_type": "markdown",
   "id": "7561f77a",
   "metadata": {},
   "source": [
    "### claude-3-sonnet-20240229 "
   ]
  },
  {
   "cell_type": "code",
   "execution_count": 46,
   "id": "b8c32c6f",
   "metadata": {},
   "outputs": [
    {
     "data": {
      "text/markdown": [
       "<div style='color: #34568B;'>\n",
       "\n",
       "---\n",
       "\n",
       "```markdown\n",
       "# Risk Assessment: Site Entrance\n",
       "\n",
       "## Hazard 1: Struck by Vehicle\n",
       "- **Risk Level:** L4, S3, R12\n",
       "- **Identified at Risk:** Security Personnel, Visitors\n",
       "- **Control Measures:**\n",
       "  - Safety induction and visible signage must be present\n",
       "- **Residual Risk:** L4, S1, R4\n",
       "\n",
       "## Hazard 2: Unauthorized Access\n",
       "- **Risk Level:** L4, S3, R12\n",
       "- **Identified at Risk:** Security Personnel, Visitors\n",
       "- **Control Measures:**\n",
       "  - Safety induction and visible signage must be present\n",
       "- **Residual Risk:** L4, S3, R12\n",
       "```\n",
       "\n",
       "---\n",
       "\n",
       "</div>"
      ],
      "text/plain": [
       "<IPython.core.display.Markdown object>"
      ]
     },
     "metadata": {},
     "output_type": "display_data"
    }
   ],
   "source": [
    "df = df_risk  # Adjust the file path as necessary\n",
    "\n",
    "# Generate the summary prompt using the more detailed method\n",
    "risk_assessment_prompt = generate_risk_prompt(df, \"Site Entrance\")\n",
    "\n",
    "# Get the LLM response\n",
    "summary = get_claude_response(risk_assessment_prompt, model=\"claude-3-sonnet-20240229\")\n",
    "display_message(summary)"
   ]
  },
  {
   "cell_type": "markdown",
   "id": "69d12c73",
   "metadata": {},
   "source": [
    "### claude-3-opus-20240229"
   ]
  },
  {
   "cell_type": "code",
   "execution_count": 47,
   "id": "3ee7f3ae",
   "metadata": {},
   "outputs": [
    {
     "data": {
      "text/markdown": [
       "<div style='color: #34568B;'>\n",
       "\n",
       "---\n",
       "\n",
       "# Risk Assessment: Site Entrance\n",
       "\n",
       "## Hazard 1: Struck by vehicle\n",
       "\n",
       "- **Risk Level:**\n",
       "  - Likelihood: 4\n",
       "  - Severity: 3\n",
       "  - Risk Rating: 12\n",
       "\n",
       "- **Identified at risk:**\n",
       "  - Security Personnel\n",
       "  - Visitors\n",
       "\n",
       "- **Control Measures:**\n",
       "  - Safety induction must be conducted for all personnel and visitors entering the site\n",
       "  - Visible signage must be present to alert drivers and pedestrians of potential hazards\n",
       "\n",
       "- **Residual Risk:**\n",
       "  - Likelihood: 4\n",
       "  - Severity: 1\n",
       "  - Risk Rating: 4\n",
       "\n",
       "## Hazard 2: Unauthorized access\n",
       "\n",
       "- **Risk Level:**\n",
       "  - Likelihood: 4\n",
       "  - Severity: 3\n",
       "  - Risk Rating: 12\n",
       "\n",
       "- **Identified at risk:**\n",
       "  - Security Personnel\n",
       "  - Visitors\n",
       "\n",
       "- **Control Measures:**\n",
       "  - Safety induction must be conducted for all personnel and visitors entering the site\n",
       "  - Visible signage must be present to inform visitors of restricted areas and the need for authorization\n",
       "\n",
       "- **Residual Risk:**\n",
       "  - Likelihood: 4\n",
       "  - Severity: 3\n",
       "  - Risk Rating: 12\n",
       "\n",
       "---\n",
       "\n",
       "</div>"
      ],
      "text/plain": [
       "<IPython.core.display.Markdown object>"
      ]
     },
     "metadata": {},
     "output_type": "display_data"
    }
   ],
   "source": [
    "df = df_risk  # Adjust the file path as necessary\n",
    "\n",
    "# Generate the summary prompt using the more detailed method\n",
    "risk_assessment_prompt = generate_risk_prompt(df, \"Site Entrance\")\n",
    "\n",
    "# Get the LLM response\n",
    "summary = get_claude_response(risk_assessment_prompt, model=\"claude-3-opus-20240229\")\n",
    "display_message(summary)"
   ]
  },
  {
   "cell_type": "markdown",
   "id": "aaf97f00",
   "metadata": {},
   "source": [
    "#### Experiment 2: Detailed Function Based Prompting with Instructions"
   ]
  },
  {
   "cell_type": "code",
   "execution_count": 48,
   "id": "d449c6ce",
   "metadata": {},
   "outputs": [],
   "source": [
    "def generate_risk_prompt(data, activity_name):\n",
    "    # Filter and process data as previously detailed\n",
    "    activity_data = data[data['Activity'] == activity_name]\n",
    "    mode_risk_l = activity_data['Initial Risk L'].mode()[0]\n",
    "    mode_risk_s = activity_data['Initial Risk S'].mode()[0]\n",
    "    filtered_data = activity_data[\n",
    "        (activity_data['Initial Risk L'] == mode_risk_l) &\n",
    "        (activity_data['Initial Risk S'] == mode_risk_s)]\n",
    "    \n",
    "    # Use groupby and first to prepare unique hazard data\n",
    "    unique_hazard_data = filtered_data.groupby('Hazard').first().reset_index()\n",
    "\n",
    "    # Calculate Initial Risk R and Residual Risk R\n",
    "    unique_hazard_data['Initial Risk R'] = unique_hazard_data['Initial Risk L'] * unique_hazard_data['Initial Risk S']\n",
    "    unique_hazard_data['Residual Risk R'] = unique_hazard_data['Residual Risk L'] * unique_hazard_data['Residual Risk S']\n",
    "\n",
    "    # Generate the prompt for the LLM\n",
    "    prompt = \"Generate a risk assessment document in markdown format for the activity 'Site Entrance'. Focus on the following details without adding any other additional information such as introductions, recommendations, or meanings. Only include details from the dataset provided:\\n\"\n",
    "    for index, row in unique_hazard_data.iterrows():\n",
    "        # Get unique values of 'Identified at Risk' for each hazard\n",
    "        at_risk_unique = data[(data['Hazard'] == row['Hazard']) & (data['Activity'] == activity_name)]['Identified at Risk'].unique()\n",
    "        at_risk_list = \", \".join(at_risk_unique)\n",
    "        prompt += f\"- Hazard: {row['Hazard']}, Risk Level: L{row['Initial Risk L']}, S{row['Initial Risk S']}, R{row['Initial Risk R']}, Identified at risk: {at_risk_list}, Control Measures: {row['Control Measures']}, Residual Risk: L{row['Residual Risk L']}, S{row['Residual Risk S']}, R{row['Residual Risk R']}\\n\"\n",
    "    return prompt"
   ]
  },
  {
   "cell_type": "markdown",
   "id": "79d8b820",
   "metadata": {},
   "source": [
    "### claude-3-sonnet-20240229"
   ]
  },
  {
   "cell_type": "code",
   "execution_count": 49,
   "id": "0cae9362",
   "metadata": {},
   "outputs": [
    {
     "data": {
      "text/markdown": [
       "<div style='color: #34568B;'>\n",
       "\n",
       "---\n",
       "\n",
       "```markdown\n",
       "## Risk Assessment: Site Entrance\n",
       "\n",
       "### Hazard: Struck by vehicle\n",
       "- Risk Level: L4, S3, R12\n",
       "- Identified at risk: Security Personnel, Visitors\n",
       "- Control Measures: Safety induction and visible signage must be present\n",
       "- Residual Risk: L4, S1, R4\n",
       "\n",
       "### Hazard: Unauthorized access\n",
       "- Risk Level: L4, S3, R12\n",
       "- Identified at risk: Security Personnel, Visitors\n",
       "- Control Measures: Safety induction and visible signage must be present\n",
       "- Residual Risk: L4, S3, R12\n",
       "```\n",
       "\n",
       "---\n",
       "\n",
       "</div>"
      ],
      "text/plain": [
       "<IPython.core.display.Markdown object>"
      ]
     },
     "metadata": {},
     "output_type": "display_data"
    }
   ],
   "source": [
    "df = df_risk  # Adjust the file path as necessary\n",
    "\n",
    "# Generate the summary prompt using the more detailed method\n",
    "risk_assessment_prompt = generate_risk_prompt(df, \"Site Entrance\")\n",
    "\n",
    "# Get the LLM response\n",
    "summary = get_claude_response(risk_assessment_prompt, model=\"claude-3-sonnet-20240229\")\n",
    "display_message(summary)"
   ]
  },
  {
   "cell_type": "markdown",
   "id": "5ce69db1",
   "metadata": {},
   "source": [
    "### claude-3-opus-20240229 Model"
   ]
  },
  {
   "cell_type": "code",
   "execution_count": 50,
   "id": "98e4df4f",
   "metadata": {},
   "outputs": [
    {
     "data": {
      "text/markdown": [
       "<div style='color: #34568B;'>\n",
       "\n",
       "---\n",
       "\n",
       "# Risk Assessment: Site Entrance\n",
       "\n",
       "## Hazard: Struck by vehicle\n",
       "- Risk Level: L4, S3, R12\n",
       "- Identified at risk: Security Personnel, Visitors\n",
       "- Control Measures: Safety induction and visible signage must be present\n",
       "- Residual Risk: L4, S1, R4\n",
       "\n",
       "## Hazard: Unauthorized access\n",
       "- Risk Level: L4, S3, R12\n",
       "- Identified at risk: Security Personnel, Visitors\n",
       "- Control Measures: Safety induction and visible signage must be present\n",
       "- Residual Risk: L4, S3, R12\n",
       "\n",
       "---\n",
       "\n",
       "</div>"
      ],
      "text/plain": [
       "<IPython.core.display.Markdown object>"
      ]
     },
     "metadata": {},
     "output_type": "display_data"
    }
   ],
   "source": [
    "df = df_risk  # Adjust the file path as necessary\n",
    "\n",
    "# Generate the summary prompt using the more detailed method\n",
    "risk_assessment_prompt = generate_risk_prompt(df, \"Site Entrance\")\n",
    "\n",
    "# Get the LLM response\n",
    "summary = get_claude_response(risk_assessment_prompt, model=\"claude-3-opus-20240229\")\n",
    "display_message(summary)"
   ]
  },
  {
   "cell_type": "markdown",
   "id": "683358c3",
   "metadata": {},
   "source": [
    "### Risk Rating Matrix"
   ]
  },
  {
   "cell_type": "code",
   "execution_count": 51,
   "id": "af30234c",
   "metadata": {},
   "outputs": [
    {
     "name": "stdout",
     "output_type": "stream",
     "text": [
      "Generate a risk assessment document in markdown format for the activity 'Site Entrance'. Focus on the following details:\n",
      "- Hazard: Struck by vehicle, Risk Level: L4, S3, R12, Identified at risk: Visitors, Control Measures: Safety induction and visible signage must be present, Residual Risk: L2, S2, R4\n",
      "- Hazard: Unauthorized access, Risk Level: L4, S3, R12, Identified at risk: Visitors, Control Measures: Safety induction and visible signage must be present, Residual Risk: L4, S3, R12\n",
      "\n"
     ]
    },
    {
     "data": {
      "image/png": "[encoded data removed]",
      "text/plain": [
       "<Figure size 600x400 with 2 Axes>"
      ]
     },
     "metadata": {},
     "output_type": "display_data"
    },
    {
     "data": {
      "image/png": "[encoded data removed]",
      "text/plain": [
       "<Figure size 600x400 with 2 Axes>"
      ]
     },
     "metadata": {},
     "output_type": "display_data"
    }
   ],
   "source": [
    "# Function to generate risk assessment prompt\n",
    "def generate_risk_prompt(data, activity_name):\n",
    "    # Filter and process data\n",
    "    activity_data = data[data['Activity'] == activity_name]\n",
    "    mode_risk_l = activity_data['Initial Risk L'].mode()[0]\n",
    "    mode_risk_s = activity_data['Initial Risk S'].mode()[0]\n",
    "    mode_at_risk = activity_data['Identified at Risk'].mode()[0]\n",
    "    filtered_data = activity_data[\n",
    "        (activity_data['Initial Risk L'] == mode_risk_l) &\n",
    "        (activity_data['Initial Risk S'] == mode_risk_s) &\n",
    "        (activity_data['Identified at Risk'] == mode_at_risk)\n",
    "    ]\n",
    "    unique_hazard_data = filtered_data.groupby('Hazard').first().reset_index()\n",
    "\n",
    "    # Calculate Initial Risk R and Residual Risk R using mode values\n",
    "    unique_hazard_data['Initial Risk R'] = mode_risk_l * mode_risk_s\n",
    "    unique_hazard_data['Residual Risk R'] = unique_hazard_data['Residual Risk L'] * unique_hazard_data['Residual Risk S']\n",
    "\n",
    "    # Generate the prompt for the risk assessment document\n",
    "    prompt = f\"Generate a risk assessment document in markdown format for the activity '{activity_name}'. Focus on the following details:\\n\"\n",
    "    for index, row in unique_hazard_data.iterrows():\n",
    "        prompt += f\"- Hazard: {row['Hazard']}, Risk Level: L{mode_risk_l}, S{mode_risk_s}, R{row['Initial Risk R']}, Identified at risk: {row['Identified at Risk']}, Control Measures: {row['Control Measures']}, Residual Risk: L{row['Residual Risk L']}, S{row['Residual Risk S']}, R{row['Residual Risk R']}\\n\"\n",
    "    return prompt, unique_hazard_data, mode_risk_l, mode_risk_s\n",
    "\n",
    "# Function to plot risk matrix for each hazard\n",
    "def plot_risk_matrix(hazard_data, mode_risk_l, mode_risk_s):\n",
    "    for index, row in hazard_data.iterrows():\n",
    "        hazard = row['Hazard']\n",
    "        initial_risk = row['Initial Risk R']\n",
    "        likelihood = mode_risk_l\n",
    "        severity = mode_risk_s\n",
    "\n",
    "        # Define risk matrix dimensions\n",
    "        likelihood_values = np.arange(1, 6)\n",
    "        severity_values = np.arange(1, 6)\n",
    "        risk_matrix = np.zeros((5, 5))\n",
    "\n",
    "        # Fill the matrix with risk values\n",
    "        for l in likelihood_values:\n",
    "            for s in severity_values:\n",
    "                risk_matrix[l-1, s-1] = l * s\n",
    "\n",
    "        # Define the custom color map\n",
    "        colors = ['#00FF00', '#FFFF00', '#FF9900', '#FF0000']  # green, yellow, orange, red\n",
    "        cmap = mcolors.ListedColormap(colors)\n",
    "        bounds = [0, 5, 10, 15, 25]\n",
    "        norm = mcolors.BoundaryNorm(bounds, cmap.N)\n",
    "\n",
    "        # Plotting the risk matrix\n",
    "        fig, ax = plt.subplots(figsize=(6, 4))\n",
    "        cax = ax.matshow(risk_matrix, cmap=cmap, norm=norm)\n",
    "\n",
    "        # Annotate cells with risk value and highlight the specified cell\n",
    "        for i in range(5):\n",
    "            for j in range(5):\n",
    "                risk_value = int(risk_matrix[i, j])\n",
    "                if (i+1 == likelihood) and (j+1 == severity):\n",
    "                    ax.text(j, i, f'{risk_value}', va='center', ha='center', color='black', weight='bold', fontsize=12, bbox=dict(facecolor='white', edgecolor='none', boxstyle='round,pad=0.5'))\n",
    "                else:\n",
    "                    ax.text(j, i, f'{risk_value}', va='center', ha='center', color='black', fontsize=10)\n",
    "\n",
    "        # Set labels\n",
    "        ax.set_xticks(np.arange(5))\n",
    "        ax.set_yticks(np.arange(5))\n",
    "        ax.set_xticklabels(['1', '2', '3', '4', '5'])\n",
    "        ax.set_yticklabels(['1', '2', '3', '4', '5'])\n",
    "        ax.set_xlabel('Severity', fontsize=12)\n",
    "        ax.set_ylabel('Likelihood', fontsize=12)\n",
    "        ax.xaxis.set_label_position('top') \n",
    "        plt.title(f'Risk Matrix for {hazard}', fontsize=14, pad=20)\n",
    "        plt.colorbar(cax, label='Risk Value', boundaries=bounds, ticks=[1, 5, 10, 15, 20, 25])\n",
    "\n",
    "        # Remove grid lines\n",
    "        ax.grid(False)\n",
    "\n",
    "        # Add some stylistic elements\n",
    "        ax.spines[:].set_visible(False)\n",
    "        ax.set_xticks(np.arange(5+1)-.5, minor=True)\n",
    "        ax.set_yticks(np.arange(5+1)-.5, minor=True)\n",
    "        ax.grid(which=\"minor\", color=\"black\", linestyle='-', linewidth=2)\n",
    "        ax.tick_params(which=\"minor\", size=0)\n",
    "        \n",
    "        plt.show()\n",
    "# Use the provided df_risk DataFrame\n",
    "activity_name = 'Site Entrance'\n",
    "prompt, hazard_data, mode_risk_l, mode_risk_s = generate_risk_prompt(df_risk, activity_name)\n",
    "print(prompt)\n",
    "plot_risk_matrix(hazard_data, mode_risk_l, mode_risk_s)"
   ]
  },
  {
   "cell_type": "markdown",
   "id": "2873b6be",
   "metadata": {},
   "source": [
    "### Activity 2: Excavation"
   ]
  },
  {
   "cell_type": "markdown",
   "id": "5a515682",
   "metadata": {},
   "source": [
    "##### Experiment 1: Detailed Function Based Prompting"
   ]
  },
  {
   "cell_type": "code",
   "execution_count": 52,
   "id": "d8555a42",
   "metadata": {},
   "outputs": [],
   "source": [
    "def generate_risk_prompt(data, activity_name):\n",
    "    # Filter and process data as previously detailed\n",
    "    activity_data = data[data['Activity'] == activity_name]\n",
    "    mode_risk_l = activity_data['Initial Risk L'].mode()[0]\n",
    "    mode_risk_s = activity_data['Initial Risk S'].mode()[0]\n",
    "    filtered_data = activity_data[\n",
    "        (activity_data['Initial Risk L'] == mode_risk_l) &\n",
    "        (activity_data['Initial Risk S'] == mode_risk_s)]\n",
    "    \n",
    "    # Use groupby and first to prepare unique hazard data\n",
    "    unique_hazard_data = filtered_data.groupby('Hazard').first().reset_index()\n",
    "\n",
    "    # Calculate Initial Risk R and Residual Risk R\n",
    "    unique_hazard_data['Initial Risk R'] = unique_hazard_data['Initial Risk L'] * unique_hazard_data['Initial Risk S']\n",
    "    unique_hazard_data['Residual Risk R'] = unique_hazard_data['Residual Risk L'] * unique_hazard_data['Residual Risk S']\n",
    "\n",
    "    # Generate the prompt for the LLM\n",
    "    prompt = \"Generate a risk assessment document in markdown format for the activity 'Excavation'. Focus on the following details:\\n\"\n",
    "    for index, row in unique_hazard_data.iterrows():\n",
    "        # Get unique values of 'Identified at Risk' for each hazard\n",
    "        at_risk_unique = data[(data['Hazard'] == row['Hazard']) & (data['Activity'] == activity_name)]['Identified at Risk'].unique()\n",
    "        at_risk_list = \", \".join(at_risk_unique)\n",
    "        prompt += f\"- Hazard: {row['Hazard']}, Risk Level: L{row['Initial Risk L']}, S{row['Initial Risk S']}, R{row['Initial Risk R']}, Identified at risk: {at_risk_list}, Control Measures: {row['Control Measures']}, Residual Risk: L{row['Residual Risk L']}, S{row['Residual Risk S']}, R{row['Residual Risk R']}\\n\"\n",
    "    return prompt"
   ]
  },
  {
   "cell_type": "markdown",
   "id": "3c4b4948",
   "metadata": {},
   "source": [
    "### claude-3-sonnet-20240229"
   ]
  },
  {
   "cell_type": "code",
   "execution_count": 53,
   "id": "7b19b8cf",
   "metadata": {},
   "outputs": [
    {
     "data": {
      "text/markdown": [
       "<div style='color: #34568B;'>\n",
       "\n",
       "---\n",
       "\n",
       "```markdown\n",
       "# Risk Assessment: Excavation\n",
       "\n",
       "## Hazard: Struck by Vehicle\n",
       "- **Risk Level:** L4, S3, R12\n",
       "- **Identified at Risk:** Security Personnel, Visitors\n",
       "- **Control Measures:** Safety induction and visible signage must be present\n",
       "- **Residual Risk:** L4, S1, R4\n",
       "\n",
       "## Hazard: Unauthorized Access\n",
       "- **Risk Level:** L4, S3, R12\n",
       "- **Identified at Risk:** Security Personnel, Visitors\n",
       "- **Control Measures:** Safety induction and visible signage must be present\n",
       "- **Residual Risk:** L4, S3, R12\n",
       "```\n",
       "\n",
       "---\n",
       "\n",
       "</div>"
      ],
      "text/plain": [
       "<IPython.core.display.Markdown object>"
      ]
     },
     "metadata": {},
     "output_type": "display_data"
    }
   ],
   "source": [
    "df = df_risk  # Adjust the file path as necessary\n",
    "\n",
    "# Generate the summary prompt using the more detailed method\n",
    "risk_assessment_prompt = generate_risk_prompt(df, \"Site Entrance\")\n",
    "\n",
    "# Get the LLM response\n",
    "summary = get_claude_response(risk_assessment_prompt, model=\"claude-3-sonnet-20240229\")\n",
    "display_message(summary)"
   ]
  },
  {
   "cell_type": "markdown",
   "id": "2bafbc9d",
   "metadata": {},
   "source": [
    "### claude-3-opus-20240229"
   ]
  },
  {
   "cell_type": "code",
   "execution_count": 54,
   "id": "86e7b5fd",
   "metadata": {},
   "outputs": [
    {
     "data": {
      "text/markdown": [
       "<div style='color: #34568B;'>\n",
       "\n",
       "---\n",
       "\n",
       "# Risk Assessment: Excavation\n",
       "\n",
       "## Hazard 1: Struck by Vehicle\n",
       "\n",
       "**Risk Level:**\n",
       "- Likelihood: 4\n",
       "- Severity: 3\n",
       "- Risk Rating: 12\n",
       "\n",
       "**Identified at Risk:**\n",
       "- Security Personnel\n",
       "- Visitors\n",
       "\n",
       "**Control Measures:**\n",
       "- Safety induction must be conducted for all personnel involved in the excavation activity\n",
       "- Visible signage must be present around the excavation area to alert vehicles and pedestrians\n",
       "\n",
       "**Residual Risk:**\n",
       "- Likelihood: 4\n",
       "- Severity: 1\n",
       "- Risk Rating: 4\n",
       "\n",
       "## Hazard 2: Unauthorized Access\n",
       "\n",
       "**Risk Level:**\n",
       "- Likelihood: 4\n",
       "- Severity: 3\n",
       "- Risk Rating: 12\n",
       "\n",
       "**Identified at Risk:**\n",
       "- Security Personnel\n",
       "- Visitors\n",
       "\n",
       "**Control Measures:**\n",
       "- Safety induction must be conducted for all personnel involved in the excavation activity\n",
       "- Visible signage must be present around the excavation area to deter unauthorized access\n",
       "\n",
       "**Residual Risk:**\n",
       "- Likelihood: 4\n",
       "- Severity: 3\n",
       "- Risk Rating: 12\n",
       "\n",
       "## Risk Matrix\n",
       "\n",
       "| Likelihood | Severity | Risk Rating |\n",
       "|------------|----------|-------------|\n",
       "| 1          | 1        | 1           |\n",
       "| 2          | 2        | 4           |\n",
       "| 3          | 3        | 9           |\n",
       "| 4          | 4        | 16          |\n",
       "\n",
       "**Likelihood:**\n",
       "1. Rare\n",
       "2. Unlikely\n",
       "3. Possible\n",
       "4. Likely\n",
       "\n",
       "**Severity:**\n",
       "1. Minor\n",
       "2. Moderate\n",
       "3. Major\n",
       "4. Catastrophic\n",
       "\n",
       "**Risk Rating:**\n",
       "- 1-3: Low\n",
       "- 4-6: Medium\n",
       "- 8-12: High\n",
       "- 15-16: Extreme\n",
       "\n",
       "Note: The residual risk for \"Unauthorized Access\" remains unchanged as the control measures do not effectively reduce the risk level.\n",
       "\n",
       "---\n",
       "\n",
       "</div>"
      ],
      "text/plain": [
       "<IPython.core.display.Markdown object>"
      ]
     },
     "metadata": {},
     "output_type": "display_data"
    }
   ],
   "source": [
    "df = df_risk  # Adjust the file path as necessary\n",
    "\n",
    "# Generate the summary prompt using the more detailed method\n",
    "risk_assessment_prompt = generate_risk_prompt(df, \"Site Entrance\")\n",
    "\n",
    "# Get the LLM response\n",
    "summary = get_claude_response(risk_assessment_prompt, model=\"claude-3-opus-20240229\")\n",
    "display_message(summary)"
   ]
  },
  {
   "cell_type": "markdown",
   "id": "3ba73e22",
   "metadata": {},
   "source": [
    "##### Experiment 2: Function Based Prompt with Intructions"
   ]
  },
  {
   "cell_type": "code",
   "execution_count": 55,
   "id": "4029d9b5",
   "metadata": {},
   "outputs": [],
   "source": [
    "def generate_risk_prompt(data, activity_name):\n",
    "    # Filter and process data as previously detailed\n",
    "    activity_data = data[data['Activity'] == activity_name]\n",
    "    mode_risk_l = activity_data['Initial Risk L'].mode()[0]\n",
    "    mode_risk_s = activity_data['Initial Risk S'].mode()[0]\n",
    "    filtered_data = activity_data[\n",
    "        (activity_data['Initial Risk L'] == mode_risk_l) &\n",
    "        (activity_data['Initial Risk S'] == mode_risk_s)]\n",
    "    \n",
    "    # Use groupby and first to prepare unique hazard data\n",
    "    unique_hazard_data = filtered_data.groupby('Hazard').first().reset_index()\n",
    "\n",
    "    # Calculate Initial Risk R and Residual Risk R\n",
    "    unique_hazard_data['Initial Risk R'] = unique_hazard_data['Initial Risk L'] * unique_hazard_data['Initial Risk S']\n",
    "    unique_hazard_data['Residual Risk R'] = unique_hazard_data['Residual Risk L'] * unique_hazard_data['Residual Risk S']\n",
    "\n",
    "    # Generate the prompt for the LLM\n",
    "    prompt = \"Generate a risk assessment document in markdown format for the activity 'Excavation'. Focus on the following details without adding any other additional information such as introductions, recommendations, or meanings. Only include details from the dataset provided:\\n\"\n",
    "    for index, row in unique_hazard_data.iterrows():\n",
    "        # Get unique values of 'Identified at Risk' for each hazard\n",
    "        at_risk_unique = data[(data['Hazard'] == row['Hazard']) & (data['Activity'] == activity_name)]['Identified at Risk'].unique()\n",
    "        at_risk_list = \", \".join(at_risk_unique)\n",
    "        prompt += f\"- Hazard: {row['Hazard']}, Risk Level: L{row['Initial Risk L']}, S{row['Initial Risk S']}, R{row['Initial Risk R']}, Identified at risk: {at_risk_list}, Control Measures: {row['Control Measures']}, Residual Risk: L{row['Residual Risk L']}, S{row['Residual Risk S']}, R{row['Residual Risk R']}\\n\"\n",
    "    return prompt"
   ]
  },
  {
   "cell_type": "markdown",
   "id": "426d7415",
   "metadata": {},
   "source": [
    "### claude-3-sonnet-20240229"
   ]
  },
  {
   "cell_type": "code",
   "execution_count": 56,
   "id": "9630cfda",
   "metadata": {},
   "outputs": [
    {
     "data": {
      "text/markdown": [
       "<div style='color: #34568B;'>\n",
       "\n",
       "---\n",
       "\n",
       "```markdown\n",
       "## Risk Assessment: Excavation\n",
       "\n",
       "### Hazard: Struck by vehicle\n",
       "- Risk Level: L4, S3, R12\n",
       "- Identified at risk: Security Personnel, Visitors\n",
       "- Control Measures: Safety induction and visible signage must be present\n",
       "- Residual Risk: L4, S1, R4\n",
       "\n",
       "### Hazard: Unauthorized access\n",
       "- Risk Level: L4, S3, R12\n",
       "- Identified at risk: Security Personnel, Visitors\n",
       "- Control Measures: Safety induction and visible signage must be present\n",
       "- Residual Risk: L4, S3, R12\n",
       "```\n",
       "\n",
       "---\n",
       "\n",
       "</div>"
      ],
      "text/plain": [
       "<IPython.core.display.Markdown object>"
      ]
     },
     "metadata": {},
     "output_type": "display_data"
    }
   ],
   "source": [
    "df = df_risk  # Adjust the file path as necessary\n",
    "\n",
    "# Generate the summary prompt using the more detailed method\n",
    "risk_assessment_prompt = generate_risk_prompt(df, \"Site Entrance\")\n",
    "\n",
    "# Get the LLM response\n",
    "summary = get_claude_response(risk_assessment_prompt, model=\"claude-3-sonnet-20240229\")\n",
    "display_message(summary)"
   ]
  },
  {
   "cell_type": "markdown",
   "id": "226efa6e",
   "metadata": {},
   "source": [
    "### claude-3-opus-20240229"
   ]
  },
  {
   "cell_type": "code",
   "execution_count": 57,
   "id": "a3c1b5aa",
   "metadata": {},
   "outputs": [
    {
     "data": {
      "text/markdown": [
       "<div style='color: #34568B;'>\n",
       "\n",
       "---\n",
       "\n",
       "# Risk Assessment: Excavation\n",
       "\n",
       "## Hazard: Struck by vehicle\n",
       "- Risk Level: L4, S3, R12\n",
       "- Identified at risk: Security Personnel, Visitors\n",
       "- Control Measures: Safety induction and visible signage must be present\n",
       "- Residual Risk: L4, S1, R4\n",
       "\n",
       "## Hazard: Unauthorized access\n",
       "- Risk Level: L4, S3, R12\n",
       "- Identified at risk: Security Personnel, Visitors\n",
       "- Control Measures: Safety induction and visible signage must be present\n",
       "- Residual Risk: L4, S3, R12\n",
       "\n",
       "---\n",
       "\n",
       "</div>"
      ],
      "text/plain": [
       "<IPython.core.display.Markdown object>"
      ]
     },
     "metadata": {},
     "output_type": "display_data"
    }
   ],
   "source": [
    "df = df_risk  # Adjust the file path as necessary\n",
    "\n",
    "# Generate the summary prompt using the more detailed method\n",
    "risk_assessment_prompt = generate_risk_prompt(df, \"Site Entrance\")\n",
    "\n",
    "# Get the LLM response\n",
    "summary = get_claude_response(risk_assessment_prompt, model=\"claude-3-opus-20240229\")\n",
    "display_message(summary)"
   ]
  },
  {
   "cell_type": "markdown",
   "id": "38ed63e8",
   "metadata": {},
   "source": [
    "### Risk Rating Matrix"
   ]
  },
  {
   "cell_type": "code",
   "execution_count": 58,
   "id": "58340003",
   "metadata": {},
   "outputs": [
    {
     "name": "stdout",
     "output_type": "stream",
     "text": [
      "Generate a risk assessment document in markdown format for the activity 'Excavation'. Focus on the following details:\n",
      "- Hazard: Collapse of sides, Risk Level: L1, S1, R1, Identified at risk: Excavation Workers, Control Measures: Use of protective systems like sloping, shoring, and shielding., Residual Risk: L1, S1, R1\n",
      "- Hazard: Falling into excavation, Risk Level: L1, S1, R1, Identified at risk: Excavation Workers, Control Measures: Use of protective systems like sloping, shoring, and shielding., Residual Risk: L1, S1, R1\n",
      "\n"
     ]
    },
    {
     "data": {
      "image/png": "[encoded data removed]",
      "text/plain": [
       "<Figure size 600x400 with 2 Axes>"
      ]
     },
     "metadata": {},
     "output_type": "display_data"
    },
    {
     "data": {
      "image/png": "[encoded data removed]",
      "text/plain": [
       "<Figure size 600x400 with 2 Axes>"
      ]
     },
     "metadata": {},
     "output_type": "display_data"
    }
   ],
   "source": [
    "def generate_risk_prompt(data, activity_name):\n",
    "    # Filter and process data\n",
    "    activity_data = data[data['Activity'] == activity_name]\n",
    "    mode_risk_l = activity_data['Initial Risk L'].mode()[0]\n",
    "    mode_risk_s = activity_data['Initial Risk S'].mode()[0]\n",
    "    mode_at_risk = activity_data['Identified at Risk'].mode()[0]\n",
    "    filtered_data = activity_data[\n",
    "        (activity_data['Initial Risk L'] == mode_risk_l) &\n",
    "        (activity_data['Initial Risk S'] == mode_risk_s) &\n",
    "        (activity_data['Identified at Risk'] == mode_at_risk)\n",
    "    ]\n",
    "    unique_hazard_data = filtered_data.groupby('Hazard').first().reset_index()\n",
    "\n",
    "    # Calculate Initial Risk R and Residual Risk R using mode values\n",
    "    unique_hazard_data['Initial Risk R'] = mode_risk_l * mode_risk_s\n",
    "    unique_hazard_data['Residual Risk R'] = unique_hazard_data['Residual Risk L'] * unique_hazard_data['Residual Risk S']\n",
    "\n",
    "    # Generate the prompt for the risk assessment document\n",
    "    prompt = f\"Generate a risk assessment document in markdown format for the activity '{activity_name}'. Focus on the following details:\\n\"\n",
    "    for index, row in unique_hazard_data.iterrows():\n",
    "        prompt += f\"- Hazard: {row['Hazard']}, Risk Level: L{mode_risk_l}, S{mode_risk_s}, R{row['Initial Risk R']}, Identified at risk: {row['Identified at Risk']}, Control Measures: {row['Control Measures']}, Residual Risk: L{row['Residual Risk L']}, S{row['Residual Risk S']}, R{row['Residual Risk R']}\\n\"\n",
    "    return prompt, unique_hazard_data, mode_risk_l, mode_risk_s\n",
    "\n",
    "# Function to plot risk matrix for each hazard\n",
    "def plot_risk_matrix(hazard_data, mode_risk_l, mode_risk_s):\n",
    "    for index, row in hazard_data.iterrows():\n",
    "        hazard = row['Hazard']\n",
    "        initial_risk = row['Initial Risk R']\n",
    "        likelihood = mode_risk_l\n",
    "        severity = mode_risk_s\n",
    "\n",
    "        # Define risk matrix dimensions\n",
    "        likelihood_values = np.arange(1, 6)\n",
    "        severity_values = np.arange(1, 6)\n",
    "        risk_matrix = np.zeros((5, 5))\n",
    "\n",
    "        # Fill the matrix with risk values\n",
    "        for l in likelihood_values:\n",
    "            for s in severity_values:\n",
    "                risk_matrix[l-1, s-1] = l * s\n",
    "\n",
    "        # Define the custom color map\n",
    "        colors = ['#00FF00', '#FFFF00', '#FF9900', '#FF0000']  # green, yellow, orange, red\n",
    "        cmap = mcolors.ListedColormap(colors)\n",
    "        bounds = [0, 5, 10, 15, 25]\n",
    "        norm = mcolors.BoundaryNorm(bounds, cmap.N)\n",
    "\n",
    "        # Plotting the risk matrix\n",
    "        fig, ax = plt.subplots(figsize=(6, 4))\n",
    "        cax = ax.matshow(risk_matrix, cmap=cmap, norm=norm)\n",
    "\n",
    "        # Annotate cells with risk value and highlight the specified cell\n",
    "        for i in range(5):\n",
    "            for j in range(5):\n",
    "                risk_value = int(risk_matrix[i, j])\n",
    "                if (i+1 == likelihood) and (j+1 == severity):\n",
    "                    ax.text(j, i, f'{risk_value}', va='center', ha='center', color='black', weight='bold', fontsize=12, bbox=dict(facecolor='white', edgecolor='none', boxstyle='round,pad=0.5'))\n",
    "                else:\n",
    "                    ax.text(j, i, f'{risk_value}', va='center', ha='center', color='black', fontsize=10)\n",
    "\n",
    "        # Set labels\n",
    "        ax.set_xticks(np.arange(5))\n",
    "        ax.set_yticks(np.arange(5))\n",
    "        ax.set_xticklabels(['1', '2', '3', '4', '5'])\n",
    "        ax.set_yticklabels(['1', '2', '3', '4', '5'])\n",
    "        ax.set_xlabel('Severity', fontsize=12)\n",
    "        ax.set_ylabel('Likelihood', fontsize=12)\n",
    "        ax.xaxis.set_label_position('top') \n",
    "        plt.title(f'Risk Matrix for {hazard}', fontsize=14, pad=20)\n",
    "        plt.colorbar(cax, label='Risk Value', boundaries=bounds, ticks=[1, 5, 10, 15, 20, 25])\n",
    "\n",
    "        # Remove grid lines\n",
    "        ax.grid(False)\n",
    "\n",
    "        # Add some stylistic elements\n",
    "        ax.spines[:].set_visible(False)\n",
    "        ax.set_xticks(np.arange(5+1)-.5, minor=True)\n",
    "        ax.set_yticks(np.arange(5+1)-.5, minor=True)\n",
    "        ax.grid(which=\"minor\", color=\"black\", linestyle='-', linewidth=2)\n",
    "        ax.tick_params(which=\"minor\", size=0)\n",
    "        \n",
    "        plt.show()\n",
    "# Use the provided df_risk DataFrame\n",
    "activity_name = 'Excavation'\n",
    "prompt, hazard_data, mode_risk_l, mode_risk_s = generate_risk_prompt(df_risk, activity_name)\n",
    "print(prompt)\n",
    "plot_risk_matrix(hazard_data, mode_risk_l, mode_risk_s)"
   ]
  },
  {
   "cell_type": "markdown",
   "id": "347977ed",
   "metadata": {},
   "source": [
    "### Activity 3: Delivery Vehicles and Drivers"
   ]
  },
  {
   "cell_type": "markdown",
   "id": "49a129b4",
   "metadata": {},
   "source": [
    "##### Experiment 1: Defined Function Based Prompting"
   ]
  },
  {
   "cell_type": "code",
   "execution_count": 59,
   "id": "cf5e0f42",
   "metadata": {},
   "outputs": [],
   "source": [
    "def generate_risk_prompt(data, activity_name):\n",
    "    # Filter and process data as previously detailed\n",
    "    activity_data = data[data['Activity'] == activity_name]\n",
    "    mode_risk_l = activity_data['Initial Risk L'].mode()[0]\n",
    "    mode_risk_s = activity_data['Initial Risk S'].mode()[0]\n",
    "    filtered_data = activity_data[\n",
    "        (activity_data['Initial Risk L'] == mode_risk_l) &\n",
    "        (activity_data['Initial Risk S'] == mode_risk_s)]\n",
    "    \n",
    "    # Use groupby and first to prepare unique hazard data\n",
    "    unique_hazard_data = filtered_data.groupby('Hazard').first().reset_index()\n",
    "\n",
    "    # Calculate Initial Risk R and Residual Risk R\n",
    "    unique_hazard_data['Initial Risk R'] = unique_hazard_data['Initial Risk L'] * unique_hazard_data['Initial Risk S']\n",
    "    unique_hazard_data['Residual Risk R'] = unique_hazard_data['Residual Risk L'] * unique_hazard_data['Residual Risk S']\n",
    "\n",
    "    # Generate the prompt for the LLM\n",
    "    prompt = \"Generate a risk assessment document in markdown format for the activity 'Delivery vehicles & drivers'. Focus on the following details:\\n\"\n",
    "    for index, row in unique_hazard_data.iterrows():\n",
    "        # Get unique values of 'Identified at Risk' for each hazard\n",
    "        at_risk_unique = data[(data['Hazard'] == row['Hazard']) & (data['Activity'] == activity_name)]['Identified at Risk'].unique()\n",
    "        at_risk_list = \", \".join(at_risk_unique)\n",
    "        prompt += f\"- Hazard: {row['Hazard']}, Risk Level: L{row['Initial Risk L']}, S{row['Initial Risk S']}, R{row['Initial Risk R']}, Identified at risk: {at_risk_list}, Control Measures: {row['Control Measures']}, Residual Risk: L{row['Residual Risk L']}, S{row['Residual Risk S']}, R{row['Residual Risk R']}\\n\"\n",
    "    return prompt"
   ]
  },
  {
   "cell_type": "markdown",
   "id": "7b77066d",
   "metadata": {},
   "source": [
    "### claude-3-sonnet-20240229"
   ]
  },
  {
   "cell_type": "code",
   "execution_count": 66,
   "id": "649597f8",
   "metadata": {},
   "outputs": [
    {
     "data": {
      "text/markdown": [
       "<div style='color: #34568B;'>\n",
       "\n",
       "---\n",
       "\n",
       "```\n",
       "# Risk Assessment: Delivery vehicles & drivers\n",
       "\n",
       "## Hazard: Struck by vehicle\n",
       "- Risk Level: L4, S3, R12\n",
       "- Identified at risk: Security Personnel, Visitors\n",
       "- Control Measures: Safety induction and visible signage must be present\n",
       "- Residual Risk: L4, S1, R4\n",
       "\n",
       "## Hazard: Unauthorized access\n",
       "- Risk Level: L4, S3, R12\n",
       "- Identified at risk: Security Personnel, Visitors\n",
       "- Control Measures: Safety induction and visible signage must be present\n",
       "- Residual Risk: L4, S3, R12\n",
       "```\n",
       "\n",
       "---\n",
       "\n",
       "</div>"
      ],
      "text/plain": [
       "<IPython.core.display.Markdown object>"
      ]
     },
     "metadata": {},
     "output_type": "display_data"
    }
   ],
   "source": [
    "df = df_risk  # Adjust the file path as necessary\n",
    "\n",
    "# Generate the summary prompt using the more detailed method\n",
    "risk_assessment_prompt = generate_risk_prompt(df, \"Site Entrance\")\n",
    "\n",
    "# Get the LLM response\n",
    "summary = get_claude_response(risk_assessment_prompt, model=\"claude-3-sonnet-20240229\")\n",
    "display_message(summary)"
   ]
  },
  {
   "cell_type": "markdown",
   "id": "c598e771",
   "metadata": {},
   "source": [
    "### claude-3-opus-20240229"
   ]
  },
  {
   "cell_type": "code",
   "execution_count": 61,
   "id": "b404187b",
   "metadata": {},
   "outputs": [
    {
     "data": {
      "text/markdown": [
       "<div style='color: #34568B;'>\n",
       "\n",
       "---\n",
       "\n",
       "# Risk Assessment: Delivery Vehicles & Drivers\n",
       "\n",
       "## Hazard: Struck by Vehicle\n",
       "\n",
       "**Risk Level:** L4, S3, R12\n",
       "\n",
       "**Identified at Risk:**\n",
       "- Security Personnel\n",
       "- Visitors\n",
       "\n",
       "**Control Measures:**\n",
       "- Safety induction must be conducted for all personnel and visitors\n",
       "- Visible signage must be present to alert individuals of potential vehicle hazards\n",
       "\n",
       "**Residual Risk:** L4, S1, R4\n",
       "\n",
       "## Hazard: Unauthorized Access\n",
       "\n",
       "**Risk Level:** L4, S3, R12\n",
       "\n",
       "**Identified at Risk:**\n",
       "- Security Personnel\n",
       "- Visitors\n",
       "\n",
       "**Control Measures:**\n",
       "- Safety induction must be conducted for all personnel and visitors\n",
       "- Visible signage must be present to inform individuals about restricted areas and the requirement for authorization\n",
       "\n",
       "**Residual Risk:** L4, S3, R12\n",
       "\n",
       "### Additional Recommendations:\n",
       "- Implement a visitor management system to track and control access to the premises\n",
       "- Ensure all delivery vehicles are properly maintained and equipped with necessary safety features\n",
       "- Provide regular training to security personnel on managing vehicle traffic and preventing unauthorized access\n",
       "- Conduct periodic reviews of the risk assessment and update control measures as necessary\n",
       "\n",
       "By adhering to the identified control measures and recommendations, the risks associated with delivery vehicles and drivers can be effectively managed, ensuring the safety of security personnel and visitors.\n",
       "\n",
       "---\n",
       "\n",
       "</div>"
      ],
      "text/plain": [
       "<IPython.core.display.Markdown object>"
      ]
     },
     "metadata": {},
     "output_type": "display_data"
    }
   ],
   "source": [
    "df = df_risk  # Adjust the file path as necessary\n",
    "\n",
    "# Generate the summary prompt using the more detailed method\n",
    "risk_assessment_prompt = generate_risk_prompt(df, \"Site Entrance\")\n",
    "\n",
    "# Get the LLM response\n",
    "summary = get_claude_response(risk_assessment_prompt, model=\"claude-3-opus-20240229\")\n",
    "display_message(summary)"
   ]
  },
  {
   "cell_type": "markdown",
   "id": "4375058f",
   "metadata": {},
   "source": [
    "#### Experiment 2: Function Based Prompting with Instructions"
   ]
  },
  {
   "cell_type": "code",
   "execution_count": 62,
   "id": "7602d601",
   "metadata": {},
   "outputs": [],
   "source": [
    "def generate_risk_prompt(data, activity_name):\n",
    "    # Filter and process data as previously detailed\n",
    "    activity_data = data[data['Activity'] == activity_name]\n",
    "    mode_risk_l = activity_data['Initial Risk L'].mode()[0]\n",
    "    mode_risk_s = activity_data['Initial Risk S'].mode()[0]\n",
    "    filtered_data = activity_data[\n",
    "        (activity_data['Initial Risk L'] == mode_risk_l) &\n",
    "        (activity_data['Initial Risk S'] == mode_risk_s)]\n",
    "    \n",
    "    # Use groupby and first to prepare unique hazard data\n",
    "    unique_hazard_data = filtered_data.groupby('Hazard').first().reset_index()\n",
    "\n",
    "    # Calculate Initial Risk R and Residual Risk R\n",
    "    unique_hazard_data['Initial Risk R'] = unique_hazard_data['Initial Risk L'] * unique_hazard_data['Initial Risk S']\n",
    "    unique_hazard_data['Residual Risk R'] = unique_hazard_data['Residual Risk L'] * unique_hazard_data['Residual Risk S']\n",
    "\n",
    "    # Generate the prompt for the LLM\n",
    "    prompt = \"Generate a risk assessment document in markdown format for the activity 'Delivery vehicles & drivers'. Focus on the following details without adding any other additional information such as introductions, recommendations, or meanings. Only include details from the dataset provided:\\n\"\n",
    "    for index, row in unique_hazard_data.iterrows():\n",
    "        # Get unique values of 'Identified at Risk' for each hazard\n",
    "        at_risk_unique = data[(data['Hazard'] == row['Hazard']) & (data['Activity'] == activity_name)]['Identified at Risk'].unique()\n",
    "        at_risk_list = \", \".join(at_risk_unique)\n",
    "        prompt += f\"- Hazard: {row['Hazard']}, Risk Level: L{row['Initial Risk L']}, S{row['Initial Risk S']}, R{row['Initial Risk R']}, Identified at risk: {at_risk_list}, Control Measures: {row['Control Measures']}, Residual Risk: L{row['Residual Risk L']}, S{row['Residual Risk S']}, R{row['Residual Risk R']}\\n\"\n",
    "    return prompt\n"
   ]
  },
  {
   "cell_type": "markdown",
   "id": "3ee57f65",
   "metadata": {},
   "source": [
    "### claude-3-sonnet-20240229"
   ]
  },
  {
   "cell_type": "code",
   "execution_count": 65,
   "id": "b6f85ce6",
   "metadata": {},
   "outputs": [
    {
     "data": {
      "text/markdown": [
       "<div style='color: #34568B;'>\n",
       "\n",
       "---\n",
       "\n",
       "```markdown\n",
       "## Risk Assessment: Delivery vehicles & drivers\n",
       "\n",
       "### Hazard: Struck by vehicle\n",
       "- Risk Level: L4, S3, R12\n",
       "- Identified at risk: Security Personnel, Visitors\n",
       "- Control Measures: Safety induction and visible signage must be present\n",
       "- Residual Risk: L4, S1, R4\n",
       "\n",
       "### Hazard: Unauthorized access\n",
       "- Risk Level: L4, S3, R12  \n",
       "- Identified at risk: Security Personnel, Visitors\n",
       "- Control Measures: Safety induction and visible signage must be present\n",
       "- Residual Risk: L4, S3, R12\n",
       "```\n",
       "\n",
       "---\n",
       "\n",
       "</div>"
      ],
      "text/plain": [
       "<IPython.core.display.Markdown object>"
      ]
     },
     "metadata": {},
     "output_type": "display_data"
    }
   ],
   "source": [
    "df = df_risk  # Adjust the file path as necessary\n",
    "\n",
    "# Generate the summary prompt using the more detailed method\n",
    "risk_assessment_prompt = generate_risk_prompt(df, \"Site Entrance\")\n",
    "\n",
    "# Get the LLM response\n",
    "summary = get_claude_response(risk_assessment_prompt, model=\"claude-3-sonnet-20240229\")\n",
    "display_message(summary)"
   ]
  },
  {
   "cell_type": "markdown",
   "id": "0966e676",
   "metadata": {},
   "source": [
    "### claude-3-opus-20240229"
   ]
  },
  {
   "cell_type": "code",
   "execution_count": 67,
   "id": "501a2728",
   "metadata": {},
   "outputs": [
    {
     "data": {
      "text/markdown": [
       "<div style='color: #34568B;'>\n",
       "\n",
       "---\n",
       "\n",
       "# Risk Assessment: Delivery vehicles & drivers\n",
       "\n",
       "## Hazard: Struck by vehicle\n",
       "- Risk Level: L4, S3, R12\n",
       "- Identified at risk: Security Personnel, Visitors\n",
       "- Control Measures: Safety induction and visible signage must be present\n",
       "- Residual Risk: L4, S1, R4\n",
       "\n",
       "## Hazard: Unauthorized access\n",
       "- Risk Level: L4, S3, R12\n",
       "- Identified at risk: Security Personnel, Visitors\n",
       "- Control Measures: Safety induction and visible signage must be present\n",
       "- Residual Risk: L4, S3, R12\n",
       "\n",
       "---\n",
       "\n",
       "</div>"
      ],
      "text/plain": [
       "<IPython.core.display.Markdown object>"
      ]
     },
     "metadata": {},
     "output_type": "display_data"
    }
   ],
   "source": [
    "df = df_risk  # Adjust the file path as necessary\n",
    "\n",
    "# Generate the summary prompt using the more detailed method\n",
    "risk_assessment_prompt = generate_risk_prompt(df, \"Site Entrance\")\n",
    "\n",
    "# Get the LLM response\n",
    "summary = get_claude_response(risk_assessment_prompt, model=\"claude-3-opus-20240229\")\n",
    "display_message(summary)"
   ]
  },
  {
   "cell_type": "markdown",
   "id": "c308b330",
   "metadata": {},
   "source": [
    "### Risk Rating Matrix"
   ]
  },
  {
   "cell_type": "code",
   "execution_count": 68,
   "id": "71060503",
   "metadata": {},
   "outputs": [
    {
     "name": "stdout",
     "output_type": "stream",
     "text": [
      "Generate a risk assessment document in markdown format for the activity 'Delivery vehicles & drivers'. Focus on the following details:\n",
      "- Hazard: Collision, Risk Level: L4, S1, R4, Identified at risk: Logistics Personnel, Control Measures: Scheduled deliveries and trained staff for loading operations., Residual Risk: L1, S1, R1\n",
      "- Hazard: Loading and unloading injuries, Risk Level: L4, S1, R4, Identified at risk: Logistics Personnel, Control Measures: Scheduled deliveries and trained staff for loading operations., Residual Risk: L1, S1, R1\n",
      "\n"
     ]
    },
    {
     "data": {
      "image/png": "[encoded data removed]",
      "text/plain": [
       "<Figure size 600x400 with 2 Axes>"
      ]
     },
     "metadata": {},
     "output_type": "display_data"
    },
    {
     "data": {
      "image/png": "[encoded data removed]",
      "text/plain": [
       "<Figure size 600x400 with 2 Axes>"
      ]
     },
     "metadata": {},
     "output_type": "display_data"
    }
   ],
   "source": [
    "def generate_risk_prompt(data, activity_name):\n",
    "    # Filter and process data\n",
    "    activity_data = data[data['Activity'] == activity_name]\n",
    "    mode_risk_l = activity_data['Initial Risk L'].mode()[0]\n",
    "    mode_risk_s = activity_data['Initial Risk S'].mode()[0]\n",
    "    mode_at_risk = activity_data['Identified at Risk'].mode()[0]\n",
    "    filtered_data = activity_data[\n",
    "        (activity_data['Initial Risk L'] == mode_risk_l) &\n",
    "        (activity_data['Initial Risk S'] == mode_risk_s) &\n",
    "        (activity_data['Identified at Risk'] == mode_at_risk)\n",
    "    ]\n",
    "    unique_hazard_data = filtered_data.groupby('Hazard').first().reset_index()\n",
    "\n",
    "    # Calculate Initial Risk R and Residual Risk R using mode values\n",
    "    unique_hazard_data['Initial Risk R'] = mode_risk_l * mode_risk_s\n",
    "    unique_hazard_data['Residual Risk R'] = unique_hazard_data['Residual Risk L'] * unique_hazard_data['Residual Risk S']\n",
    "\n",
    "    # Generate the prompt for the risk assessment document\n",
    "    prompt = f\"Generate a risk assessment document in markdown format for the activity '{activity_name}'. Focus on the following details:\\n\"\n",
    "    for index, row in unique_hazard_data.iterrows():\n",
    "        prompt += f\"- Hazard: {row['Hazard']}, Risk Level: L{mode_risk_l}, S{mode_risk_s}, R{row['Initial Risk R']}, Identified at risk: {row['Identified at Risk']}, Control Measures: {row['Control Measures']}, Residual Risk: L{row['Residual Risk L']}, S{row['Residual Risk S']}, R{row['Residual Risk R']}\\n\"\n",
    "    return prompt, unique_hazard_data, mode_risk_l, mode_risk_s\n",
    "\n",
    "# Function to plot risk matrix for each hazard\n",
    "def plot_risk_matrix(hazard_data, mode_risk_l, mode_risk_s):\n",
    "    for index, row in hazard_data.iterrows():\n",
    "        hazard = row['Hazard']\n",
    "        initial_risk = row['Initial Risk R']\n",
    "        likelihood = mode_risk_l\n",
    "        severity = mode_risk_s\n",
    "\n",
    "        # Define risk matrix dimensions\n",
    "        likelihood_values = np.arange(1, 6)\n",
    "        severity_values = np.arange(1, 6)\n",
    "        risk_matrix = np.zeros((5, 5))\n",
    "\n",
    "        # Fill the matrix with risk values\n",
    "        for l in likelihood_values:\n",
    "            for s in severity_values:\n",
    "                risk_matrix[l-1, s-1] = l * s\n",
    "\n",
    "        # Define the custom color map\n",
    "        colors = ['#00FF00', '#FFFF00', '#FF9900', '#FF0000']  # green, yellow, orange, red\n",
    "        cmap = mcolors.ListedColormap(colors)\n",
    "        bounds = [0, 5, 10, 15, 25]\n",
    "        norm = mcolors.BoundaryNorm(bounds, cmap.N)\n",
    "\n",
    "        # Plotting the risk matrix\n",
    "        fig, ax = plt.subplots(figsize=(6, 4))\n",
    "        cax = ax.matshow(risk_matrix, cmap=cmap, norm=norm)\n",
    "\n",
    "        # Annotate cells with risk value and highlight the specified cell\n",
    "        for i in range(5):\n",
    "            for j in range(5):\n",
    "                risk_value = int(risk_matrix[i, j])\n",
    "                if (i+1 == likelihood) and (j+1 == severity):\n",
    "                    ax.text(j, i, f'{risk_value}', va='center', ha='center', color='black', weight='bold', fontsize=12, bbox=dict(facecolor='white', edgecolor='none', boxstyle='round,pad=0.5'))\n",
    "                else:\n",
    "                    ax.text(j, i, f'{risk_value}', va='center', ha='center', color='black', fontsize=10)\n",
    "\n",
    "        # Set labels\n",
    "        ax.set_xticks(np.arange(5))\n",
    "        ax.set_yticks(np.arange(5))\n",
    "        ax.set_xticklabels(['1', '2', '3', '4', '5'])\n",
    "        ax.set_yticklabels(['1', '2', '3', '4', '5'])\n",
    "        ax.set_xlabel('Severity', fontsize=12)\n",
    "        ax.set_ylabel('Likelihood', fontsize=12)\n",
    "        ax.xaxis.set_label_position('top') \n",
    "        plt.title(f'Risk Matrix for {hazard}', fontsize=14, pad=20)\n",
    "        plt.colorbar(cax, label='Risk Value', boundaries=bounds, ticks=[1, 5, 10, 15, 20, 25])\n",
    "\n",
    "        # Remove grid lines\n",
    "        ax.grid(False)\n",
    "\n",
    "        # Add some stylistic elements\n",
    "        ax.spines[:].set_visible(False)\n",
    "        ax.set_xticks(np.arange(5+1)-.5, minor=True)\n",
    "        ax.set_yticks(np.arange(5+1)-.5, minor=True)\n",
    "        ax.grid(which=\"minor\", color=\"black\", linestyle='-', linewidth=2)\n",
    "        ax.tick_params(which=\"minor\", size=0)\n",
    "        \n",
    "        plt.show()\n",
    "# Use the provided df_risk DataFrame\n",
    "activity_name = 'Delivery vehicles & drivers'\n",
    "prompt, hazard_data, mode_risk_l, mode_risk_s = generate_risk_prompt(df_risk, activity_name)\n",
    "print(prompt)\n",
    "plot_risk_matrix(hazard_data, mode_risk_l, mode_risk_s)"
   ]
  },
  {
   "cell_type": "markdown",
   "id": "76600fb9",
   "metadata": {},
   "source": [
    "### Activity 4: Dewatering"
   ]
  },
  {
   "cell_type": "markdown",
   "id": "ac749be6",
   "metadata": {},
   "source": [
    "#### Experiment 1: Defined Function Based Prompting"
   ]
  },
  {
   "cell_type": "code",
   "execution_count": 69,
   "id": "2b22fbbe",
   "metadata": {},
   "outputs": [],
   "source": [
    "def generate_risk_prompt(data, activity_name):\n",
    "    # Filter and process data as previously detailed\n",
    "    activity_data = data[data['Activity'] == activity_name]\n",
    "    mode_risk_l = activity_data['Initial Risk L'].mode()[0]\n",
    "    mode_risk_s = activity_data['Initial Risk S'].mode()[0]\n",
    "    filtered_data = activity_data[\n",
    "        (activity_data['Initial Risk L'] == mode_risk_l) &\n",
    "        (activity_data['Initial Risk S'] == mode_risk_s)]\n",
    "    \n",
    "    # Use groupby and first to prepare unique hazard data\n",
    "    unique_hazard_data = filtered_data.groupby('Hazard').first().reset_index()\n",
    "\n",
    "    # Calculate Initial Risk R and Residual Risk R\n",
    "    unique_hazard_data['Initial Risk R'] = unique_hazard_data['Initial Risk L'] * unique_hazard_data['Initial Risk S']\n",
    "    unique_hazard_data['Residual Risk R'] = unique_hazard_data['Residual Risk L'] * unique_hazard_data['Residual Risk S']\n",
    "\n",
    "    # Generate the prompt for the LLM\n",
    "    prompt = \"Generate a risk assessment document in markdown format for the activity 'Dewatering'. Focus on the following details:\\n\"\n",
    "    for index, row in unique_hazard_data.iterrows():\n",
    "        # Get unique values of 'Identified at Risk' for each hazard\n",
    "        at_risk_unique = data[(data['Hazard'] == row['Hazard']) & (data['Activity'] == activity_name)]['Identified at Risk'].unique()\n",
    "        at_risk_list = \", \".join(at_risk_unique)\n",
    "        prompt += f\"- Hazard: {row['Hazard']}, Risk Level: L{row['Initial Risk L']}, S{row['Initial Risk S']}, R{row['Initial Risk R']}, Identified at risk: {at_risk_list}, Control Measures: {row['Control Measures']}, Residual Risk: L{row['Residual Risk L']}, S{row['Residual Risk S']}, R{row['Residual Risk R']}\\n\"\n",
    "    return prompt\n"
   ]
  },
  {
   "cell_type": "markdown",
   "id": "e20c223a",
   "metadata": {},
   "source": [
    "### claude-3-sonnet-20240229"
   ]
  },
  {
   "cell_type": "code",
   "execution_count": 71,
   "id": "ed75b311",
   "metadata": {},
   "outputs": [
    {
     "data": {
      "text/markdown": [
       "<div style='color: #34568B;'>\n",
       "\n",
       "---\n",
       "\n",
       "# Risk Assessment for Dewatering Activity\n",
       "\n",
       "## Hazard: Struck by Vehicle\n",
       "\n",
       "- **Risk Level:** L4, S3, R12\n",
       "- **Identified at Risk:** Security Personnel, Visitors\n",
       "\n",
       "### Control Measures:\n",
       "\n",
       "- Safety induction and visible signage must be present.\n",
       "\n",
       "### Residual Risk:\n",
       "\n",
       "- L4, S1, R4\n",
       "\n",
       "## Hazard: Unauthorized Access\n",
       "\n",
       "- **Risk Level:** L4, S3, R12\n",
       "- **Identified at Risk:** Security Personnel, Visitors\n",
       "\n",
       "### Control Measures:\n",
       "\n",
       "- Safety induction and visible signage must be present.\n",
       "\n",
       "### Residual Risk:\n",
       "\n",
       "- L4, S3, R12\n",
       "\n",
       "---\n",
       "\n",
       "</div>"
      ],
      "text/plain": [
       "<IPython.core.display.Markdown object>"
      ]
     },
     "metadata": {},
     "output_type": "display_data"
    }
   ],
   "source": [
    "df = df_risk  # Adjust the file path as necessary\n",
    "\n",
    "# Generate the summary prompt using the more detailed method\n",
    "risk_assessment_prompt = generate_risk_prompt(df, \"Site Entrance\")\n",
    "\n",
    "# Get the LLM response\n",
    "summary = get_claude_response(risk_assessment_prompt, model=\"claude-3-sonnet-20240229\")\n",
    "display_message(summary)"
   ]
  },
  {
   "cell_type": "markdown",
   "id": "c021aac7",
   "metadata": {},
   "source": [
    "### claude-3-opus-20240229"
   ]
  },
  {
   "cell_type": "code",
   "execution_count": 72,
   "id": "d99643a4",
   "metadata": {},
   "outputs": [
    {
     "data": {
      "text/markdown": [
       "<div style='color: #34568B;'>\n",
       "\n",
       "---\n",
       "\n",
       "# Risk Assessment: Dewatering\n",
       "\n",
       "## Hazard: Struck by Vehicle\n",
       "\n",
       "**Risk Level:**\n",
       "- Likelihood: 4\n",
       "- Severity: 3\n",
       "- Risk Rating: 12\n",
       "\n",
       "**Identified at Risk:**\n",
       "- Security Personnel\n",
       "- Visitors\n",
       "\n",
       "**Control Measures:**\n",
       "- Safety induction must be conducted for all personnel involved in the activity\n",
       "- Visible signage must be present to alert personnel of the potential hazard\n",
       "\n",
       "**Residual Risk:**\n",
       "- Likelihood: 4\n",
       "- Severity: 1\n",
       "- Risk Rating: 4\n",
       "\n",
       "## Hazard: Unauthorized Access\n",
       "\n",
       "**Risk Level:**\n",
       "- Likelihood: 4\n",
       "- Severity: 3\n",
       "- Risk Rating: 12\n",
       "\n",
       "**Identified at Risk:**\n",
       "- Security Personnel\n",
       "- Visitors\n",
       "\n",
       "**Control Measures:**\n",
       "- Safety induction must be conducted for all personnel involved in the activity\n",
       "- Visible signage must be present to alert personnel of the potential hazard\n",
       "\n",
       "**Residual Risk:**\n",
       "- Likelihood: 4\n",
       "- Severity: 3\n",
       "- Risk Rating: 12\n",
       "\n",
       "---\n",
       "\n",
       "**Risk Matrix:**\n",
       "\n",
       "| Likelihood | Severity | Risk Rating |\n",
       "|------------|----------|-------------|\n",
       "| 1          | 1        | 1           |\n",
       "| 2          | 2        | 4           |\n",
       "| 3          | 3        | 9           |\n",
       "| 4          | 4        | 16          |\n",
       "\n",
       "**Likelihood:**\n",
       "1. Rare\n",
       "2. Unlikely\n",
       "3. Possible\n",
       "4. Likely\n",
       "\n",
       "**Severity:**\n",
       "1. Insignificant\n",
       "2. Minor\n",
       "3. Moderate\n",
       "4. Major\n",
       "\n",
       "**Risk Rating:**\n",
       "- 1-3: Low\n",
       "- 4-6: Medium\n",
       "- 8-12: High\n",
       "- 15-16: Extreme\n",
       "\n",
       "---\n",
       "\n",
       "</div>"
      ],
      "text/plain": [
       "<IPython.core.display.Markdown object>"
      ]
     },
     "metadata": {},
     "output_type": "display_data"
    }
   ],
   "source": [
    "df = df_risk  # Adjust the file path as necessary\n",
    "\n",
    "# Generate the summary prompt using the more detailed method\n",
    "risk_assessment_prompt = generate_risk_prompt(df, \"Site Entrance\")\n",
    "\n",
    "# Get the LLM response\n",
    "summary = get_claude_response(risk_assessment_prompt, model=\"claude-3-opus-20240229\")\n",
    "display_message(summary)"
   ]
  },
  {
   "cell_type": "markdown",
   "id": "3e5f6a28",
   "metadata": {},
   "source": [
    "#### Experiment 2: Defined Function Based Prompt with Instructions"
   ]
  },
  {
   "cell_type": "code",
   "execution_count": 73,
   "id": "3763df7e",
   "metadata": {},
   "outputs": [],
   "source": [
    "def generate_risk_prompt(data, activity_name):\n",
    "    # Filter and process data as previously detailed\n",
    "    activity_data = data[data['Activity'] == activity_name]\n",
    "    mode_risk_l = activity_data['Initial Risk L'].mode()[0]\n",
    "    mode_risk_s = activity_data['Initial Risk S'].mode()[0]\n",
    "    filtered_data = activity_data[\n",
    "        (activity_data['Initial Risk L'] == mode_risk_l) &\n",
    "        (activity_data['Initial Risk S'] == mode_risk_s)]\n",
    "    \n",
    "    # Use groupby and first to prepare unique hazard data\n",
    "    unique_hazard_data = filtered_data.groupby('Hazard').first().reset_index()\n",
    "\n",
    "    # Calculate Initial Risk R and Residual Risk R\n",
    "    unique_hazard_data['Initial Risk R'] = unique_hazard_data['Initial Risk L'] * unique_hazard_data['Initial Risk S']\n",
    "    unique_hazard_data['Residual Risk R'] = unique_hazard_data['Residual Risk L'] * unique_hazard_data['Residual Risk S']\n",
    "\n",
    "    # Generate the prompt for the LLM\n",
    "    prompt = \"Generate a risk assessment document in markdown format for the activity 'Dewatering'. Focus on the following details without adding any other additional information such as introductions, recommendations, or meanings. Only include details from the dataset provided:\\n\"\n",
    "    for index, row in unique_hazard_data.iterrows():\n",
    "        # Get unique values of 'Identified at Risk' for each hazard\n",
    "        at_risk_unique = data[(data['Hazard'] == row['Hazard']) & (data['Activity'] == activity_name)]['Identified at Risk'].unique()\n",
    "        at_risk_list = \", \".join(at_risk_unique)\n",
    "        prompt += f\"- Hazard: {row['Hazard']}, Risk Level: L{row['Initial Risk L']}, S{row['Initial Risk S']}, R{row['Initial Risk R']}, Identified at risk: {at_risk_list}, Control Measures: {row['Control Measures']}, Residual Risk: L{row['Residual Risk L']}, S{row['Residual Risk S']}, R{row['Residual Risk R']}\\n\"\n",
    "    return prompt"
   ]
  },
  {
   "cell_type": "markdown",
   "id": "05ab171f",
   "metadata": {},
   "source": [
    "### claude-3-sonnet-20240229"
   ]
  },
  {
   "cell_type": "code",
   "execution_count": 76,
   "id": "cdb4a980",
   "metadata": {},
   "outputs": [
    {
     "data": {
      "text/markdown": [
       "<div style='color: #34568B;'>\n",
       "\n",
       "---\n",
       "\n",
       "```markdown\n",
       "## Risk Assessment for Dewatering\n",
       "\n",
       "### Hazard: Struck by vehicle\n",
       "- Risk Level: L4, S3, R12\n",
       "- Identified at risk: Security Personnel, Visitors\n",
       "- Control Measures: Safety induction and visible signage must be present\n",
       "- Residual Risk: L4, S1, R4\n",
       "\n",
       "### Hazard: Unauthorized access\n",
       "- Risk Level: L4, S3, R12\n",
       "- Identified at risk: Security Personnel, Visitors\n",
       "- Control Measures: Safety induction and visible signage must be present\n",
       "- Residual Risk: L4, S3, R12\n",
       "```\n",
       "\n",
       "---\n",
       "\n",
       "</div>"
      ],
      "text/plain": [
       "<IPython.core.display.Markdown object>"
      ]
     },
     "metadata": {},
     "output_type": "display_data"
    }
   ],
   "source": [
    "df = df_risk  # Adjust the file path as necessary\n",
    "\n",
    "# Generate the summary prompt using the more detailed method\n",
    "risk_assessment_prompt = generate_risk_prompt(df, \"Site Entrance\")\n",
    "\n",
    "# Get the LLM response\n",
    "summary = get_claude_response(risk_assessment_prompt, model=\"claude-3-sonnet-20240229\")\n",
    "display_message(summary)"
   ]
  },
  {
   "cell_type": "markdown",
   "id": "ff150ce2",
   "metadata": {},
   "source": [
    "### claude-3-opus-20240229"
   ]
  },
  {
   "cell_type": "code",
   "execution_count": 75,
   "id": "15842ac6",
   "metadata": {},
   "outputs": [
    {
     "data": {
      "text/markdown": [
       "<div style='color: #34568B;'>\n",
       "\n",
       "---\n",
       "\n",
       "# Risk Assessment: Dewatering\n",
       "\n",
       "## Hazard: Struck by vehicle\n",
       "- Risk Level: L4, S3, R12\n",
       "- Identified at risk: Security Personnel, Visitors\n",
       "- Control Measures: Safety induction and visible signage must be present\n",
       "- Residual Risk: L4, S1, R4\n",
       "\n",
       "## Hazard: Unauthorized access\n",
       "- Risk Level: L4, S3, R12\n",
       "- Identified at risk: Security Personnel, Visitors\n",
       "- Control Measures: Safety induction and visible signage must be present\n",
       "- Residual Risk: L4, S3, R12\n",
       "\n",
       "---\n",
       "\n",
       "</div>"
      ],
      "text/plain": [
       "<IPython.core.display.Markdown object>"
      ]
     },
     "metadata": {},
     "output_type": "display_data"
    }
   ],
   "source": [
    "df = df_risk  # Adjust the file path as necessary\n",
    "\n",
    "# Generate the summary prompt using the more detailed method\n",
    "risk_assessment_prompt = generate_risk_prompt(df, \"Site Entrance\")\n",
    "\n",
    "# Get the LLM response\n",
    "summary = get_claude_response(risk_assessment_prompt, model=\"claude-3-opus-20240229\")\n",
    "display_message(summary)"
   ]
  },
  {
   "cell_type": "markdown",
   "id": "ad192a37",
   "metadata": {},
   "source": [
    "### Risk Rating Matrix"
   ]
  },
  {
   "cell_type": "code",
   "execution_count": 77,
   "id": "2d77f450",
   "metadata": {},
   "outputs": [
    {
     "name": "stdout",
     "output_type": "stream",
     "text": [
      "Generate a risk assessment document in markdown format for the activity 'Dewatering'. Focus on the following details:\n",
      "- Hazard: Drowning, Risk Level: L4, S3, R12, Identified at risk: Machine Operators, Control Measures: Use of submersible pumps, GFCI devices, and ensuring electrical safety., Residual Risk: L3, S2, R6\n",
      "- Hazard: Electrocution, Risk Level: L4, S3, R12, Identified at risk: Machine Operators, Control Measures: Use of submersible pumps, GFCI devices, and ensuring electrical safety., Residual Risk: L4, S2, R8\n",
      "\n"
     ]
    },
    {
     "data": {
      "image/png": "[encoded data removed]",
      "text/plain": [
       "<Figure size 600x400 with 2 Axes>"
      ]
     },
     "metadata": {},
     "output_type": "display_data"
    },
    {
     "data": {
      "image/png": "[encoded data removed]",
      "text/plain": [
       "<Figure size 600x400 with 2 Axes>"
      ]
     },
     "metadata": {},
     "output_type": "display_data"
    }
   ],
   "source": [
    "# Function to generate risk assessment prompt\n",
    "def generate_risk_prompt(data, activity_name):\n",
    "    # Filter and process data\n",
    "    activity_data = data[data['Activity'] == activity_name]\n",
    "    mode_risk_l = activity_data['Initial Risk L'].mode()[0]\n",
    "    mode_risk_s = activity_data['Initial Risk S'].mode()[0]\n",
    "    mode_at_risk = activity_data['Identified at Risk'].mode()[0]\n",
    "    filtered_data = activity_data[\n",
    "        (activity_data['Initial Risk L'] == mode_risk_l) &\n",
    "        (activity_data['Initial Risk S'] == mode_risk_s) &\n",
    "        (activity_data['Identified at Risk'] == mode_at_risk)\n",
    "    ]\n",
    "    unique_hazard_data = filtered_data.groupby('Hazard').first().reset_index()\n",
    "\n",
    "    # Calculate Initial Risk R and Residual Risk R using mode values\n",
    "    unique_hazard_data['Initial Risk R'] = mode_risk_l * mode_risk_s\n",
    "    unique_hazard_data['Residual Risk R'] = unique_hazard_data['Residual Risk L'] * unique_hazard_data['Residual Risk S']\n",
    "\n",
    "    # Generate the prompt for the risk assessment document\n",
    "    prompt = f\"Generate a risk assessment document in markdown format for the activity '{activity_name}'. Focus on the following details:\\n\"\n",
    "    for index, row in unique_hazard_data.iterrows():\n",
    "        prompt += f\"- Hazard: {row['Hazard']}, Risk Level: L{mode_risk_l}, S{mode_risk_s}, R{row['Initial Risk R']}, Identified at risk: {row['Identified at Risk']}, Control Measures: {row['Control Measures']}, Residual Risk: L{row['Residual Risk L']}, S{row['Residual Risk S']}, R{row['Residual Risk R']}\\n\"\n",
    "    return prompt, unique_hazard_data, mode_risk_l, mode_risk_s\n",
    "\n",
    "# Function to plot risk matrix for each hazard\n",
    "def plot_risk_matrix(hazard_data, mode_risk_l, mode_risk_s):\n",
    "    for index, row in hazard_data.iterrows():\n",
    "        hazard = row['Hazard']\n",
    "        initial_risk = row['Initial Risk R']\n",
    "        likelihood = mode_risk_l\n",
    "        severity = mode_risk_s\n",
    "\n",
    "        # Define risk matrix dimensions\n",
    "        likelihood_values = np.arange(1, 6)\n",
    "        severity_values = np.arange(1, 6)\n",
    "        risk_matrix = np.zeros((5, 5))\n",
    "\n",
    "        # Fill the matrix with risk values\n",
    "        for l in likelihood_values:\n",
    "            for s in severity_values:\n",
    "                risk_matrix[l-1, s-1] = l * s\n",
    "\n",
    "        # Define the custom color map\n",
    "        colors = ['#00FF00', '#FFFF00', '#FF9900', '#FF0000']  # green, yellow, orange, red\n",
    "        cmap = mcolors.ListedColormap(colors)\n",
    "        bounds = [0, 5, 10, 15, 25]\n",
    "        norm = mcolors.BoundaryNorm(bounds, cmap.N)\n",
    "\n",
    "        # Plotting the risk matrix\n",
    "        fig, ax = plt.subplots(figsize=(6, 4))\n",
    "        cax = ax.matshow(risk_matrix, cmap=cmap, norm=norm)\n",
    "\n",
    "        # Annotate cells with risk value and highlight the specified cell\n",
    "        for i in range(5):\n",
    "            for j in range(5):\n",
    "                risk_value = int(risk_matrix[i, j])\n",
    "                if (i+1 == likelihood) and (j+1 == severity):\n",
    "                    ax.text(j, i, f'{risk_value}', va='center', ha='center', color='black', weight='bold', fontsize=12, bbox=dict(facecolor='white', edgecolor='none', boxstyle='round,pad=0.5'))\n",
    "                else:\n",
    "                    ax.text(j, i, f'{risk_value}', va='center', ha='center', color='black', fontsize=10)\n",
    "\n",
    "        # Set labels\n",
    "        ax.set_xticks(np.arange(5))\n",
    "        ax.set_yticks(np.arange(5))\n",
    "        ax.set_xticklabels(['1', '2', '3', '4', '5'])\n",
    "        ax.set_yticklabels(['1', '2', '3', '4', '5'])\n",
    "        ax.set_xlabel('Severity', fontsize=12)\n",
    "        ax.set_ylabel('Likelihood', fontsize=12)\n",
    "        ax.xaxis.set_label_position('top') \n",
    "        plt.title(f'Risk Matrix for {hazard}', fontsize=14, pad=20)\n",
    "        plt.colorbar(cax, label='Risk Value', boundaries=bounds, ticks=[1, 5, 10, 15, 20, 25])\n",
    "\n",
    "        # Remove grid lines\n",
    "        ax.grid(False)\n",
    "\n",
    "        # Add some stylistic elements\n",
    "        ax.spines[:].set_visible(False)\n",
    "        ax.set_xticks(np.arange(5+1)-.5, minor=True)\n",
    "        ax.set_yticks(np.arange(5+1)-.5, minor=True)\n",
    "        ax.grid(which=\"minor\", color=\"black\", linestyle='-', linewidth=2)\n",
    "        ax.tick_params(which=\"minor\", size=0)\n",
    "        \n",
    "        plt.show()\n",
    "# Use the provided df_risk DataFrame\n",
    "activity_name = 'Dewatering'\n",
    "prompt, hazard_data, mode_risk_l, mode_risk_s = generate_risk_prompt(df_risk, activity_name)\n",
    "print(prompt)\n",
    "plot_risk_matrix(hazard_data, mode_risk_l, mode_risk_s)"
   ]
  },
  {
   "cell_type": "markdown",
   "id": "9d158a8e",
   "metadata": {},
   "source": [
    "### Activity 5: Shuttering"
   ]
  },
  {
   "cell_type": "markdown",
   "id": "2f0d8a6f",
   "metadata": {},
   "source": [
    "#### Experiment 1: Function Based Prompting"
   ]
  },
  {
   "cell_type": "code",
   "execution_count": 78,
   "id": "99a1722e",
   "metadata": {},
   "outputs": [],
   "source": [
    "def generate_risk_prompt(data, activity_name):\n",
    "    # Filter and process data as previously detailed\n",
    "    activity_data = data[data['Activity'] == activity_name]\n",
    "    mode_risk_l = activity_data['Initial Risk L'].mode()[0]\n",
    "    mode_risk_s = activity_data['Initial Risk S'].mode()[0]\n",
    "    filtered_data = activity_data[\n",
    "        (activity_data['Initial Risk L'] == mode_risk_l) &\n",
    "        (activity_data['Initial Risk S'] == mode_risk_s)]\n",
    "    \n",
    "    # Use groupby and first to prepare unique hazard data\n",
    "    unique_hazard_data = filtered_data.groupby('Hazard').first().reset_index()\n",
    "\n",
    "    # Calculate Initial Risk R and Residual Risk R\n",
    "    unique_hazard_data['Initial Risk R'] = unique_hazard_data['Initial Risk L'] * unique_hazard_data['Initial Risk S']\n",
    "    unique_hazard_data['Residual Risk R'] = unique_hazard_data['Residual Risk L'] * unique_hazard_data['Residual Risk S']\n",
    "\n",
    "    # Generate the prompt for the LLM\n",
    "    prompt = \"Generate a risk assessment document in markdown format for the activity 'Shuttering'. Focus on the following details:\\n\"\n",
    "    for index, row in unique_hazard_data.iterrows():\n",
    "        # Get unique values of 'Identified at Risk' for each hazard\n",
    "        at_risk_unique = data[(data['Hazard'] == row['Hazard']) & (data['Activity'] == activity_name)]['Identified at Risk'].unique()\n",
    "        at_risk_list = \", \".join(at_risk_unique)\n",
    "        prompt += f\"- Hazard: {row['Hazard']}, Risk Level: L{row['Initial Risk L']}, S{row['Initial Risk S']}, R{row['Initial Risk R']}, Identified at risk: {at_risk_list}, Control Measures: {row['Control Measures']}, Residual Risk: L{row['Residual Risk L']}, S{row['Residual Risk S']}, R{row['Residual Risk R']}\\n\"\n",
    "    return prompt\n"
   ]
  },
  {
   "cell_type": "markdown",
   "id": "6a46c6e0",
   "metadata": {},
   "source": [
    "### claude-3-sonnet-20240229"
   ]
  },
  {
   "cell_type": "code",
   "execution_count": 79,
   "id": "cbd3af61",
   "metadata": {},
   "outputs": [
    {
     "data": {
      "text/markdown": [
       "<div style='color: #34568B;'>\n",
       "\n",
       "---\n",
       "\n",
       "```markdown\n",
       "# Risk Assessment: Shuttering\n",
       "\n",
       "## Hazard: Struck by vehicle\n",
       "- **Risk Level:** L4, S3, R12\n",
       "- **Identified at risk:** Security Personnel, Visitors\n",
       "- **Control Measures:** Safety induction and visible signage must be present\n",
       "- **Residual Risk:** L4, S1, R4\n",
       "\n",
       "## Hazard: Unauthorized access\n",
       "- **Risk Level:** L4, S3, R12\n",
       "- **Identified at risk:** Security Personnel, Visitors\n",
       "- **Control Measures:** Safety induction and visible signage must be present\n",
       "- **Residual Risk:** L4, S3, R12\n",
       "```\n",
       "\n",
       "---\n",
       "\n",
       "</div>"
      ],
      "text/plain": [
       "<IPython.core.display.Markdown object>"
      ]
     },
     "metadata": {},
     "output_type": "display_data"
    }
   ],
   "source": [
    "df = df_risk  # Adjust the file path as necessary\n",
    "\n",
    "# Generate the summary prompt using the more detailed method\n",
    "risk_assessment_prompt = generate_risk_prompt(df, \"Site Entrance\")\n",
    "\n",
    "# Get the LLM response\n",
    "summary = get_claude_response(risk_assessment_prompt, model=\"claude-3-sonnet-20240229\")\n",
    "display_message(summary)"
   ]
  },
  {
   "cell_type": "markdown",
   "id": "dca06242",
   "metadata": {},
   "source": [
    "### claude-3-opus-20240229"
   ]
  },
  {
   "cell_type": "code",
   "execution_count": 80,
   "id": "f4fe4caf",
   "metadata": {},
   "outputs": [
    {
     "data": {
      "text/markdown": [
       "<div style='color: #34568B;'>\n",
       "\n",
       "---\n",
       "\n",
       "# Risk Assessment: Shuttering\n",
       "\n",
       "## Hazard: Struck by vehicle\n",
       "- Risk Level:\n",
       "  - Likelihood: 4\n",
       "  - Severity: 3\n",
       "  - Risk Rating: 12\n",
       "- Identified at risk:\n",
       "  - Security Personnel\n",
       "  - Visitors\n",
       "- Control Measures:\n",
       "  - Safety induction must be conducted for all personnel involved\n",
       "  - Visible signage must be present to alert drivers and pedestrians\n",
       "- Residual Risk:\n",
       "  - Likelihood: 4\n",
       "  - Severity: 1\n",
       "  - Risk Rating: 4\n",
       "\n",
       "## Hazard: Unauthorized access\n",
       "- Risk Level:\n",
       "  - Likelihood: 4\n",
       "  - Severity: 3\n",
       "  - Risk Rating: 12\n",
       "- Identified at risk:\n",
       "  - Security Personnel\n",
       "  - Visitors\n",
       "- Control Measures:\n",
       "  - Safety induction must be conducted for all personnel involved\n",
       "  - Visible signage must be present to indicate restricted areas\n",
       "- Residual Risk:\n",
       "  - Likelihood: 4\n",
       "  - Severity: 3\n",
       "  - Risk Rating: 12\n",
       "\n",
       "---\n",
       "\n",
       "</div>"
      ],
      "text/plain": [
       "<IPython.core.display.Markdown object>"
      ]
     },
     "metadata": {},
     "output_type": "display_data"
    }
   ],
   "source": [
    "df = df_risk  # Adjust the file path as necessary\n",
    "\n",
    "# Generate the summary prompt using the more detailed method\n",
    "risk_assessment_prompt = generate_risk_prompt(df, \"Site Entrance\")\n",
    "\n",
    "# Get the LLM response\n",
    "summary = get_claude_response(risk_assessment_prompt, model=\"claude-3-opus-20240229\")\n",
    "display_message(summary)"
   ]
  },
  {
   "cell_type": "markdown",
   "id": "7c0027c4",
   "metadata": {},
   "source": [
    "#### Experiment 2: Defined Function based Prompt with Instructions"
   ]
  },
  {
   "cell_type": "code",
   "execution_count": 81,
   "id": "20dbecd7",
   "metadata": {},
   "outputs": [],
   "source": [
    "def generate_risk_prompt(data, activity_name):\n",
    "    # Filter and process data as previously detailed\n",
    "    activity_data = data[data['Activity'] == activity_name]\n",
    "    mode_risk_l = activity_data['Initial Risk L'].mode()[0]\n",
    "    mode_risk_s = activity_data['Initial Risk S'].mode()[0]\n",
    "    filtered_data = activity_data[\n",
    "        (activity_data['Initial Risk L'] == mode_risk_l) &\n",
    "        (activity_data['Initial Risk S'] == mode_risk_s)]\n",
    "    \n",
    "    # Use groupby and first to prepare unique hazard data\n",
    "    unique_hazard_data = filtered_data.groupby('Hazard').first().reset_index()\n",
    "\n",
    "    # Calculate Initial Risk R and Residual Risk R\n",
    "    unique_hazard_data['Initial Risk R'] = unique_hazard_data['Initial Risk L'] * unique_hazard_data['Initial Risk S']\n",
    "    unique_hazard_data['Residual Risk R'] = unique_hazard_data['Residual Risk L'] * unique_hazard_data['Residual Risk S']\n",
    "\n",
    "    # Generate the prompt for the LLM\n",
    "    prompt = \"Generate a risk assessment document in markdown format for the activity 'Shuttering'. Focus on the following details without adding any other additional information such as introductions, recommendations, or meanings. Only include details from the dataset provided:\\n\"\n",
    "    for index, row in unique_hazard_data.iterrows():\n",
    "        # Get unique values of 'Identified at Risk' for each hazard\n",
    "        at_risk_unique = data[(data['Hazard'] == row['Hazard']) & (data['Activity'] == activity_name)]['Identified at Risk'].unique()\n",
    "        at_risk_list = \", \".join(at_risk_unique)\n",
    "        prompt += f\"- Hazard: {row['Hazard']}, Risk Level: L{row['Initial Risk L']}, S{row['Initial Risk S']}, R{row['Initial Risk R']}, Identified at risk: {at_risk_list}, Control Measures: {row['Control Measures']}, Residual Risk: L{row['Residual Risk L']}, S{row['Residual Risk S']}, R{row['Residual Risk R']}\\n\"\n",
    "    return prompt"
   ]
  },
  {
   "cell_type": "markdown",
   "id": "33d60dca",
   "metadata": {},
   "source": [
    "### claude-3-sonnet-20240229"
   ]
  },
  {
   "cell_type": "code",
   "execution_count": 82,
   "id": "fe9b0f6f",
   "metadata": {},
   "outputs": [
    {
     "data": {
      "text/markdown": [
       "<div style='color: #34568B;'>\n",
       "\n",
       "---\n",
       "\n",
       "```markdown\n",
       "## Risk Assessment: Shuttering\n",
       "\n",
       "### Hazard: Struck by vehicle\n",
       "- Risk Level: L4, S3, R12\n",
       "- Identified at risk: Security Personnel, Visitors\n",
       "- Control Measures: Safety induction and visible signage must be present\n",
       "- Residual Risk: L4, S1, R4\n",
       "\n",
       "### Hazard: Unauthorized access\n",
       "- Risk Level: L4, S3, R12\n",
       "- Identified at risk: Security Personnel, Visitors\n",
       "- Control Measures: Safety induction and visible signage must be present\n",
       "- Residual Risk: L4, S3, R12\n",
       "```\n",
       "\n",
       "---\n",
       "\n",
       "</div>"
      ],
      "text/plain": [
       "<IPython.core.display.Markdown object>"
      ]
     },
     "metadata": {},
     "output_type": "display_data"
    }
   ],
   "source": [
    "df = df_risk  # Adjust the file path as necessary\n",
    "\n",
    "# Generate the summary prompt using the more detailed method\n",
    "risk_assessment_prompt = generate_risk_prompt(df, \"Site Entrance\")\n",
    "\n",
    "# Get the LLM response\n",
    "summary = get_claude_response(risk_assessment_prompt, model=\"claude-3-sonnet-20240229\")\n",
    "display_message(summary)"
   ]
  },
  {
   "cell_type": "markdown",
   "id": "935aff5a",
   "metadata": {},
   "source": [
    "### claude-3-opus-20240229"
   ]
  },
  {
   "cell_type": "code",
   "execution_count": 83,
   "id": "79d17dc5",
   "metadata": {},
   "outputs": [
    {
     "data": {
      "text/markdown": [
       "<div style='color: #34568B;'>\n",
       "\n",
       "---\n",
       "\n",
       "# Risk Assessment: Shuttering\n",
       "\n",
       "## Hazard: Struck by vehicle\n",
       "- Risk Level: L4, S3, R12\n",
       "- Identified at risk:\n",
       "  - Security Personnel\n",
       "  - Visitors\n",
       "- Control Measures:\n",
       "  - Safety induction and visible signage must be present\n",
       "- Residual Risk: L4, S1, R4\n",
       "\n",
       "## Hazard: Unauthorized access\n",
       "- Risk Level: L4, S3, R12\n",
       "- Identified at risk:\n",
       "  - Security Personnel\n",
       "  - Visitors\n",
       "- Control Measures:\n",
       "  - Safety induction and visible signage must be present\n",
       "- Residual Risk: L4, S3, R12\n",
       "\n",
       "---\n",
       "\n",
       "</div>"
      ],
      "text/plain": [
       "<IPython.core.display.Markdown object>"
      ]
     },
     "metadata": {},
     "output_type": "display_data"
    }
   ],
   "source": [
    "df = df_risk  # Adjust the file path as necessary\n",
    "\n",
    "# Generate the summary prompt using the more detailed method\n",
    "risk_assessment_prompt = generate_risk_prompt(df, \"Site Entrance\")\n",
    "\n",
    "# Get the LLM response\n",
    "summary = get_claude_response(risk_assessment_prompt, model=\"claude-3-opus-20240229\")\n",
    "display_message(summary)"
   ]
  },
  {
   "cell_type": "markdown",
   "id": "b1d2e1b5",
   "metadata": {},
   "source": [
    "### Risk Rating Matrix"
   ]
  },
  {
   "cell_type": "code",
   "execution_count": 84,
   "id": "66fde367",
   "metadata": {},
   "outputs": [
    {
     "name": "stdout",
     "output_type": "stream",
     "text": [
      "Generate a risk assessment document in markdown format for the activity 'Shuttering'. Focus on the following details:\n",
      "- Hazard: Falling objects, Risk Level: L1, S4, R4, Identified at risk: Construction Workers, Control Measures: Mandatory use of helmets and clearing pathways., Residual Risk: L1, S2, R2\n",
      "- Hazard: Tripping hazards, Risk Level: L1, S4, R4, Identified at risk: Construction Workers, Control Measures: Mandatory use of helmets and clearing pathways., Residual Risk: L1, S2, R2\n",
      "\n"
     ]
    },
    {
     "data": {
      "image/png": "[encoded data removed]",
      "text/plain": [
       "<Figure size 600x400 with 2 Axes>"
      ]
     },
     "metadata": {},
     "output_type": "display_data"
    },
    {
     "data": {
      "image/png": "[encoded data removed]",
      "text/plain": [
       "<Figure size 600x400 with 2 Axes>"
      ]
     },
     "metadata": {},
     "output_type": "display_data"
    }
   ],
   "source": [
    "# Function to generate risk assessment prompt\n",
    "def generate_risk_prompt(data, activity_name):\n",
    "    # Filter and process data\n",
    "    activity_data = data[data['Activity'] == activity_name]\n",
    "    mode_risk_l = activity_data['Initial Risk L'].mode()[0]\n",
    "    mode_risk_s = activity_data['Initial Risk S'].mode()[0]\n",
    "    mode_at_risk = activity_data['Identified at Risk'].mode()[0]\n",
    "    filtered_data = activity_data[\n",
    "        (activity_data['Initial Risk L'] == mode_risk_l) &\n",
    "        (activity_data['Initial Risk S'] == mode_risk_s) &\n",
    "        (activity_data['Identified at Risk'] == mode_at_risk)\n",
    "    ]\n",
    "    unique_hazard_data = filtered_data.groupby('Hazard').first().reset_index()\n",
    "\n",
    "    # Calculate Initial Risk R and Residual Risk R using mode values\n",
    "    unique_hazard_data['Initial Risk R'] = mode_risk_l * mode_risk_s\n",
    "    unique_hazard_data['Residual Risk R'] = unique_hazard_data['Residual Risk L'] * unique_hazard_data['Residual Risk S']\n",
    "\n",
    "    # Generate the prompt for the risk assessment document\n",
    "    prompt = f\"Generate a risk assessment document in markdown format for the activity '{activity_name}'. Focus on the following details:\\n\"\n",
    "    for index, row in unique_hazard_data.iterrows():\n",
    "        prompt += f\"- Hazard: {row['Hazard']}, Risk Level: L{mode_risk_l}, S{mode_risk_s}, R{row['Initial Risk R']}, Identified at risk: {row['Identified at Risk']}, Control Measures: {row['Control Measures']}, Residual Risk: L{row['Residual Risk L']}, S{row['Residual Risk S']}, R{row['Residual Risk R']}\\n\"\n",
    "    return prompt, unique_hazard_data, mode_risk_l, mode_risk_s\n",
    "\n",
    "# Function to plot risk matrix for each hazard\n",
    "def plot_risk_matrix(hazard_data, mode_risk_l, mode_risk_s):\n",
    "    for index, row in hazard_data.iterrows():\n",
    "        hazard = row['Hazard']\n",
    "        initial_risk = row['Initial Risk R']\n",
    "        likelihood = mode_risk_l\n",
    "        severity = mode_risk_s\n",
    "\n",
    "        # Define risk matrix dimensions\n",
    "        likelihood_values = np.arange(1, 6)\n",
    "        severity_values = np.arange(1, 6)\n",
    "        risk_matrix = np.zeros((5, 5))\n",
    "\n",
    "        # Fill the matrix with risk values\n",
    "        for l in likelihood_values:\n",
    "            for s in severity_values:\n",
    "                risk_matrix[l-1, s-1] = l * s\n",
    "\n",
    "        # Define the custom color map\n",
    "        colors = ['#00FF00', '#FFFF00', '#FF9900', '#FF0000']  # green, yellow, orange, red\n",
    "        cmap = mcolors.ListedColormap(colors)\n",
    "        bounds = [0, 5, 10, 15, 25]\n",
    "        norm = mcolors.BoundaryNorm(bounds, cmap.N)\n",
    "\n",
    "        # Plotting the risk matrix\n",
    "        fig, ax = plt.subplots(figsize=(6, 4))\n",
    "        cax = ax.matshow(risk_matrix, cmap=cmap, norm=norm)\n",
    "\n",
    "        # Annotate cells with risk value and highlight the specified cell\n",
    "        for i in range(5):\n",
    "            for j in range(5):\n",
    "                risk_value = int(risk_matrix[i, j])\n",
    "                if (i+1 == likelihood) and (j+1 == severity):\n",
    "                    ax.text(j, i, f'{risk_value}', va='center', ha='center', color='black', weight='bold', fontsize=12, bbox=dict(facecolor='white', edgecolor='none', boxstyle='round,pad=0.5'))\n",
    "                else:\n",
    "                    ax.text(j, i, f'{risk_value}', va='center', ha='center', color='black', fontsize=10)\n",
    "\n",
    "        # Set labels\n",
    "        ax.set_xticks(np.arange(5))\n",
    "        ax.set_yticks(np.arange(5))\n",
    "        ax.set_xticklabels(['1', '2', '3', '4', '5'])\n",
    "        ax.set_yticklabels(['1', '2', '3', '4', '5'])\n",
    "        ax.set_xlabel('Severity', fontsize=12)\n",
    "        ax.set_ylabel('Likelihood', fontsize=12)\n",
    "        ax.xaxis.set_label_position('top') \n",
    "        plt.title(f'Risk Matrix for {hazard}', fontsize=14, pad=20)\n",
    "        plt.colorbar(cax, label='Risk Value', boundaries=bounds, ticks=[1, 5, 10, 15, 20, 25])\n",
    "\n",
    "        # Remove grid lines\n",
    "        ax.grid(False)\n",
    "\n",
    "        # Add some stylistic elements\n",
    "        ax.spines[:].set_visible(False)\n",
    "        ax.set_xticks(np.arange(5+1)-.5, minor=True)\n",
    "        ax.set_yticks(np.arange(5+1)-.5, minor=True)\n",
    "        ax.grid(which=\"minor\", color=\"black\", linestyle='-', linewidth=2)\n",
    "        ax.tick_params(which=\"minor\", size=0)\n",
    "        \n",
    "        plt.show()\n",
    "# Use the provided df_risk DataFrame\n",
    "activity_name = 'Shuttering'\n",
    "prompt, hazard_data, mode_risk_l, mode_risk_s = generate_risk_prompt(df_risk, activity_name)\n",
    "print(prompt)\n",
    "plot_risk_matrix(hazard_data, mode_risk_l, mode_risk_s)"
   ]
  },
  {
   "cell_type": "markdown",
   "id": "3ce8b245",
   "metadata": {},
   "source": [
    "### Activity 6: Concreting"
   ]
  },
  {
   "cell_type": "markdown",
   "id": "6f080ac8",
   "metadata": {},
   "source": [
    "##### Experiment 1: Defined Function Based Prompting"
   ]
  },
  {
   "cell_type": "code",
   "execution_count": 85,
   "id": "2fdc825d",
   "metadata": {},
   "outputs": [],
   "source": [
    "def generate_risk_prompt(data, activity_name):\n",
    "    # Filter and process data as previously detailed\n",
    "    activity_data = data[data['Activity'] == activity_name]\n",
    "    mode_risk_l = activity_data['Initial Risk L'].mode()[0]\n",
    "    mode_risk_s = activity_data['Initial Risk S'].mode()[0]\n",
    "    filtered_data = activity_data[\n",
    "        (activity_data['Initial Risk L'] == mode_risk_l) &\n",
    "        (activity_data['Initial Risk S'] == mode_risk_s)]\n",
    "    \n",
    "    # Use groupby and first to prepare unique hazard data\n",
    "    unique_hazard_data = filtered_data.groupby('Hazard').first().reset_index()\n",
    "\n",
    "    # Calculate Initial Risk R and Residual Risk R\n",
    "    unique_hazard_data['Initial Risk R'] = unique_hazard_data['Initial Risk L'] * unique_hazard_data['Initial Risk S']\n",
    "    unique_hazard_data['Residual Risk R'] = unique_hazard_data['Residual Risk L'] * unique_hazard_data['Residual Risk S']\n",
    "\n",
    "    # Generate the prompt for the LLM\n",
    "    prompt = \"Generate a risk assessment document in markdown format for the activity 'Concreting'. Focus on the following details:\\n\"\n",
    "    for index, row in unique_hazard_data.iterrows():\n",
    "        # Get unique values of 'Identified at Risk' for each hazard\n",
    "        at_risk_unique = data[(data['Hazard'] == row['Hazard']) & (data['Activity'] == activity_name)]['Identified at Risk'].unique()\n",
    "        at_risk_list = \", \".join(at_risk_unique)\n",
    "        prompt += f\"- Hazard: {row['Hazard']}, Risk Level: L{row['Initial Risk L']}, S{row['Initial Risk S']}, R{row['Initial Risk R']}, Identified at risk: {at_risk_list}, Control Measures: {row['Control Measures']}, Residual Risk: L{row['Residual Risk L']}, S{row['Residual Risk S']}, R{row['Residual Risk R']}\\n\"\n",
    "    return prompt\n"
   ]
  },
  {
   "cell_type": "markdown",
   "id": "f99bd6cf",
   "metadata": {},
   "source": [
    "### claude-3-sonnet-20240229"
   ]
  },
  {
   "cell_type": "code",
   "execution_count": 88,
   "id": "88fa5f54",
   "metadata": {},
   "outputs": [
    {
     "data": {
      "text/markdown": [
       "<div style='color: #34568B;'>\n",
       "\n",
       "---\n",
       "\n",
       "```markdown\n",
       "# Risk Assessment: Concreting\n",
       "\n",
       "## Hazard 1: Struck by Vehicle\n",
       "\n",
       "- Risk Level: L4, S3, R12\n",
       "- Identified at Risk: Security Personnel, Visitors\n",
       "\n",
       "### Control Measures:\n",
       "- Safety induction and visible signage must be present.\n",
       "\n",
       "### Residual Risk: L4, S1, R4\n",
       "\n",
       "## Hazard 2: Unauthorized Access\n",
       "\n",
       "- Risk Level: L4, S3, R12\n",
       "- Identified at Risk: Security Personnel, Visitors\n",
       "\n",
       "### Control Measures:\n",
       "- Safety induction and visible signage must be present.\n",
       "\n",
       "### Residual Risk: L4, S3, R12\n",
       "```\n",
       "\n",
       "---\n",
       "\n",
       "</div>"
      ],
      "text/plain": [
       "<IPython.core.display.Markdown object>"
      ]
     },
     "metadata": {},
     "output_type": "display_data"
    }
   ],
   "source": [
    "df = df_risk  # Adjust the file path as necessary\n",
    "\n",
    "# Generate the summary prompt using the more detailed method\n",
    "risk_assessment_prompt = generate_risk_prompt(df, \"Site Entrance\")\n",
    "\n",
    "# Get the LLM response\n",
    "summary = get_claude_response(risk_assessment_prompt, model=\"claude-3-sonnet-20240229\")\n",
    "display_message(summary)"
   ]
  },
  {
   "cell_type": "markdown",
   "id": "e1de2306",
   "metadata": {},
   "source": [
    "### claude-3-opus-20240229"
   ]
  },
  {
   "cell_type": "code",
   "execution_count": 87,
   "id": "b0563ed4",
   "metadata": {},
   "outputs": [
    {
     "data": {
      "text/markdown": [
       "<div style='color: #34568B;'>\n",
       "\n",
       "---\n",
       "\n",
       "# Risk Assessment: Concreting\n",
       "\n",
       "## Hazard: Struck by vehicle\n",
       "- Risk Level:\n",
       "  - Likelihood: 4\n",
       "  - Severity: 3\n",
       "  - Risk Rating: 12\n",
       "- Identified at risk:\n",
       "  - Security Personnel\n",
       "  - Visitors\n",
       "- Control Measures:\n",
       "  - Safety induction must be conducted for all personnel involved in the activity\n",
       "  - Visible signage must be present to alert vehicles and pedestrians of the ongoing work\n",
       "- Residual Risk:\n",
       "  - Likelihood: 4\n",
       "  - Severity: 1\n",
       "  - Risk Rating: 4\n",
       "\n",
       "## Hazard: Unauthorized access\n",
       "- Risk Level:\n",
       "  - Likelihood: 4\n",
       "  - Severity: 3\n",
       "  - Risk Rating: 12\n",
       "- Identified at risk:\n",
       "  - Security Personnel\n",
       "  - Visitors\n",
       "- Control Measures:\n",
       "  - Safety induction must be conducted for all personnel involved in the activity\n",
       "  - Visible signage must be present to restrict access to the work area\n",
       "- Residual Risk:\n",
       "  - Likelihood: 4\n",
       "  - Severity: 3\n",
       "  - Risk Rating: 12\n",
       "\n",
       "Please note that this risk assessment is based on the provided information and may require further evaluation and adaptation to suit the specific worksite and conditions. It is essential to regularly review and update the risk assessment as the work progresses or if any changes occur.\n",
       "\n",
       "---\n",
       "\n",
       "</div>"
      ],
      "text/plain": [
       "<IPython.core.display.Markdown object>"
      ]
     },
     "metadata": {},
     "output_type": "display_data"
    }
   ],
   "source": [
    "df = df_risk  # Adjust the file path as necessary\n",
    "\n",
    "# Generate the summary prompt using the more detailed method\n",
    "risk_assessment_prompt = generate_risk_prompt(df, \"Site Entrance\")\n",
    "\n",
    "# Get the LLM response\n",
    "summary = get_claude_response(risk_assessment_prompt, model=\"claude-3-opus-20240229\")\n",
    "display_message(summary)"
   ]
  },
  {
   "cell_type": "markdown",
   "id": "f12ffad8",
   "metadata": {},
   "source": [
    "#### Experiment 2: Defined Function Based prompting with Instructions"
   ]
  },
  {
   "cell_type": "code",
   "execution_count": 89,
   "id": "4398cf8f",
   "metadata": {},
   "outputs": [],
   "source": [
    "def generate_risk_prompt(data, activity_name):\n",
    "    # Filter and process data as previously detailed\n",
    "    activity_data = data[data['Activity'] == activity_name]\n",
    "    mode_risk_l = activity_data['Initial Risk L'].mode()[0]\n",
    "    mode_risk_s = activity_data['Initial Risk S'].mode()[0]\n",
    "    filtered_data = activity_data[\n",
    "        (activity_data['Initial Risk L'] == mode_risk_l) &\n",
    "        (activity_data['Initial Risk S'] == mode_risk_s)]\n",
    "    \n",
    "    # Use groupby and first to prepare unique hazard data\n",
    "    unique_hazard_data = filtered_data.groupby('Hazard').first().reset_index()\n",
    "\n",
    "    # Calculate Initial Risk R and Residual Risk R\n",
    "    unique_hazard_data['Initial Risk R'] = unique_hazard_data['Initial Risk L'] * unique_hazard_data['Initial Risk S']\n",
    "    unique_hazard_data['Residual Risk R'] = unique_hazard_data['Residual Risk L'] * unique_hazard_data['Residual Risk S']\n",
    "\n",
    "    # Generate the prompt for the LLM\n",
    "    prompt = \"Generate a risk assessment document in markdown format for the activity 'Concreting'. Focus on the following details without adding any other additional information such as introductions, recommendations, or meanings. Only include details from the dataset provided:\\n\"\n",
    "    for index, row in unique_hazard_data.iterrows():\n",
    "        # Get unique values of 'Identified at Risk' for each hazard\n",
    "        at_risk_unique = data[(data['Hazard'] == row['Hazard']) & (data['Activity'] == activity_name)]['Identified at Risk'].unique()\n",
    "        at_risk_list = \", \".join(at_risk_unique)\n",
    "        prompt += f\"- Hazard: {row['Hazard']}, Risk Level: L{row['Initial Risk L']}, S{row['Initial Risk S']}, R{row['Initial Risk R']}, Identified at risk: {at_risk_list}, Control Measures: {row['Control Measures']}, Residual Risk: L{row['Residual Risk L']}, S{row['Residual Risk S']}, R{row['Residual Risk R']}\\n\"\n",
    "    return prompt"
   ]
  },
  {
   "cell_type": "markdown",
   "id": "582b5c5c",
   "metadata": {},
   "source": [
    "### claude-3-sonnet-20240229"
   ]
  },
  {
   "cell_type": "code",
   "execution_count": 90,
   "id": "79e9b0fe",
   "metadata": {},
   "outputs": [
    {
     "data": {
      "text/markdown": [
       "<div style='color: #34568B;'>\n",
       "\n",
       "---\n",
       "\n",
       "```markdown\n",
       "# Risk Assessment for Concreting\n",
       "\n",
       "## Hazard: Struck by vehicle\n",
       "- Risk Level: L4, S3, R12\n",
       "- Identified at risk: Security Personnel, Visitors\n",
       "- Control Measures: Safety induction and visible signage must be present\n",
       "- Residual Risk: L4, S1, R4\n",
       "\n",
       "## Hazard: Unauthorized access\n",
       "- Risk Level: L4, S3, R12\n",
       "- Identified at risk: Security Personnel, Visitors\n",
       "- Control Measures: Safety induction and visible signage must be present\n",
       "- Residual Risk: L4, S3, R12\n",
       "```\n",
       "\n",
       "---\n",
       "\n",
       "</div>"
      ],
      "text/plain": [
       "<IPython.core.display.Markdown object>"
      ]
     },
     "metadata": {},
     "output_type": "display_data"
    }
   ],
   "source": [
    "df = df_risk  # Adjust the file path as necessary\n",
    "\n",
    "# Generate the summary prompt using the more detailed method\n",
    "risk_assessment_prompt = generate_risk_prompt(df, \"Site Entrance\")\n",
    "\n",
    "# Get the LLM response\n",
    "summary = get_claude_response(risk_assessment_prompt, model=\"claude-3-sonnet-20240229\")\n",
    "display_message(summary)"
   ]
  },
  {
   "cell_type": "markdown",
   "id": "47fbe05f",
   "metadata": {},
   "source": [
    "### claude-3-opus-20240229"
   ]
  },
  {
   "cell_type": "code",
   "execution_count": 91,
   "id": "d9dcca19",
   "metadata": {},
   "outputs": [
    {
     "data": {
      "text/markdown": [
       "<div style='color: #34568B;'>\n",
       "\n",
       "---\n",
       "\n",
       "# Risk Assessment: Concreting\n",
       "\n",
       "## Hazard: Struck by vehicle\n",
       "- Risk Level: L4, S3, R12\n",
       "- Identified at risk: Security Personnel, Visitors\n",
       "- Control Measures: Safety induction and visible signage must be present\n",
       "- Residual Risk: L4, S1, R4\n",
       "\n",
       "## Hazard: Unauthorized access\n",
       "- Risk Level: L4, S3, R12\n",
       "- Identified at risk: Security Personnel, Visitors\n",
       "- Control Measures: Safety induction and visible signage must be present\n",
       "- Residual Risk: L4, S3, R12\n",
       "\n",
       "---\n",
       "\n",
       "</div>"
      ],
      "text/plain": [
       "<IPython.core.display.Markdown object>"
      ]
     },
     "metadata": {},
     "output_type": "display_data"
    }
   ],
   "source": [
    "df = df_risk  # Adjust the file path as necessary\n",
    "\n",
    "# Generate the summary prompt using the more detailed method\n",
    "risk_assessment_prompt = generate_risk_prompt(df, \"Site Entrance\")\n",
    "\n",
    "# Get the LLM response\n",
    "summary = get_claude_response(risk_assessment_prompt, model=\"claude-3-opus-20240229\")\n",
    "display_message(summary)"
   ]
  },
  {
   "cell_type": "markdown",
   "id": "23bfd204",
   "metadata": {},
   "source": [
    "### Risk Rating Matrix"
   ]
  },
  {
   "cell_type": "code",
   "execution_count": 92,
   "id": "45ccbdd2",
   "metadata": {},
   "outputs": [
    {
     "name": "stdout",
     "output_type": "stream",
     "text": [
      "Generate a risk assessment document in markdown format for the activity 'Concreting'. Focus on the following details:\n",
      "- Hazard: Eye damage, Risk Level: L5, S3, R15, Identified at risk: Concrete Workers, Control Measures: Provision of protective gear like gloves and eye protection, use skin protection and dust masks., Residual Risk: L5, S3, R15\n",
      "- Hazard: Skin irritation, Risk Level: L5, S3, R15, Identified at risk: Concrete Workers, Control Measures: Provision of protective gear like gloves and eye protection, use skin protection and dust masks., Residual Risk: L2, S2, R4\n",
      "\n"
     ]
    },
    {
     "data": {
      "image/png": "[encoded data removed]",
      "text/plain": [
       "<Figure size 600x400 with 2 Axes>"
      ]
     },
     "metadata": {},
     "output_type": "display_data"
    },
    {
     "data": {
      "image/png": "[encoded data removed]",
      "text/plain": [
       "<Figure size 600x400 with 2 Axes>"
      ]
     },
     "metadata": {},
     "output_type": "display_data"
    }
   ],
   "source": [
    "# Function to generate risk assessment prompt\n",
    "def generate_risk_prompt(data, activity_name):\n",
    "    # Filter and process data\n",
    "    activity_data = data[data['Activity'] == activity_name]\n",
    "    mode_risk_l = activity_data['Initial Risk L'].mode()[0]\n",
    "    mode_risk_s = activity_data['Initial Risk S'].mode()[0]\n",
    "    mode_at_risk = activity_data['Identified at Risk'].mode()[0]\n",
    "    filtered_data = activity_data[\n",
    "        (activity_data['Initial Risk L'] == mode_risk_l) &\n",
    "        (activity_data['Initial Risk S'] == mode_risk_s) &\n",
    "        (activity_data['Identified at Risk'] == mode_at_risk)\n",
    "    ]\n",
    "    unique_hazard_data = filtered_data.groupby('Hazard').first().reset_index()\n",
    "\n",
    "    # Calculate Initial Risk R and Residual Risk R using mode values\n",
    "    unique_hazard_data['Initial Risk R'] = mode_risk_l * mode_risk_s\n",
    "    unique_hazard_data['Residual Risk R'] = unique_hazard_data['Residual Risk L'] * unique_hazard_data['Residual Risk S']\n",
    "\n",
    "    # Generate the prompt for the risk assessment document\n",
    "    prompt = f\"Generate a risk assessment document in markdown format for the activity '{activity_name}'. Focus on the following details:\\n\"\n",
    "    for index, row in unique_hazard_data.iterrows():\n",
    "        prompt += f\"- Hazard: {row['Hazard']}, Risk Level: L{mode_risk_l}, S{mode_risk_s}, R{row['Initial Risk R']}, Identified at risk: {row['Identified at Risk']}, Control Measures: {row['Control Measures']}, Residual Risk: L{row['Residual Risk L']}, S{row['Residual Risk S']}, R{row['Residual Risk R']}\\n\"\n",
    "    return prompt, unique_hazard_data, mode_risk_l, mode_risk_s\n",
    "\n",
    "# Function to plot risk matrix for each hazard\n",
    "def plot_risk_matrix(hazard_data, mode_risk_l, mode_risk_s):\n",
    "    for index, row in hazard_data.iterrows():\n",
    "        hazard = row['Hazard']\n",
    "        initial_risk = row['Initial Risk R']\n",
    "        likelihood = mode_risk_l\n",
    "        severity = mode_risk_s\n",
    "\n",
    "        # Define risk matrix dimensions\n",
    "        likelihood_values = np.arange(1, 6)\n",
    "        severity_values = np.arange(1, 6)\n",
    "        risk_matrix = np.zeros((5, 5))\n",
    "\n",
    "        # Fill the matrix with risk values\n",
    "        for l in likelihood_values:\n",
    "            for s in severity_values:\n",
    "                risk_matrix[l-1, s-1] = l * s\n",
    "\n",
    "        # Define the custom color map\n",
    "        colors = ['#00FF00', '#FFFF00', '#FF9900', '#FF0000']  # green, yellow, orange, red\n",
    "        cmap = mcolors.ListedColormap(colors)\n",
    "        bounds = [0, 5, 10, 15, 25]\n",
    "        norm = mcolors.BoundaryNorm(bounds, cmap.N)\n",
    "\n",
    "        # Plotting the risk matrix\n",
    "        fig, ax = plt.subplots(figsize=(6, 4))\n",
    "        cax = ax.matshow(risk_matrix, cmap=cmap, norm=norm)\n",
    "\n",
    "        # Annotate cells with risk value and highlight the specified cell\n",
    "        for i in range(5):\n",
    "            for j in range(5):\n",
    "                risk_value = int(risk_matrix[i, j])\n",
    "                if (i+1 == likelihood) and (j+1 == severity):\n",
    "                    ax.text(j, i, f'{risk_value}', va='center', ha='center', color='black', weight='bold', fontsize=12, bbox=dict(facecolor='white', edgecolor='none', boxstyle='round,pad=0.5'))\n",
    "                else:\n",
    "                    ax.text(j, i, f'{risk_value}', va='center', ha='center', color='black', fontsize=10)\n",
    "\n",
    "        # Set labels\n",
    "        ax.set_xticks(np.arange(5))\n",
    "        ax.set_yticks(np.arange(5))\n",
    "        ax.set_xticklabels(['1', '2', '3', '4', '5'])\n",
    "        ax.set_yticklabels(['1', '2', '3', '4', '5'])\n",
    "        ax.set_xlabel('Severity', fontsize=12)\n",
    "        ax.set_ylabel('Likelihood', fontsize=12)\n",
    "        ax.xaxis.set_label_position('top') \n",
    "        plt.title(f'Risk Matrix for {hazard}', fontsize=14, pad=20)\n",
    "        plt.colorbar(cax, label='Risk Value', boundaries=bounds, ticks=[1, 5, 10, 15, 20, 25])\n",
    "\n",
    "        # Remove grid lines\n",
    "        ax.grid(False)\n",
    "\n",
    "        # Add some stylistic elements\n",
    "        ax.spines[:].set_visible(False)\n",
    "        ax.set_xticks(np.arange(5+1)-.5, minor=True)\n",
    "        ax.set_yticks(np.arange(5+1)-.5, minor=True)\n",
    "        ax.grid(which=\"minor\", color=\"black\", linestyle='-', linewidth=2)\n",
    "        ax.tick_params(which=\"minor\", size=0)\n",
    "        \n",
    "        plt.show()\n",
    "# Use the provided df_risk DataFrame\n",
    "activity_name = 'Concreting'\n",
    "prompt, hazard_data, mode_risk_l, mode_risk_s = generate_risk_prompt(df_risk, activity_name)\n",
    "print(prompt)\n",
    "plot_risk_matrix(hazard_data, mode_risk_l, mode_risk_s)"
   ]
  },
  {
   "cell_type": "markdown",
   "id": "0d493b30",
   "metadata": {},
   "source": [
    "### 4.2 Generating Job Safety Analysis Document"
   ]
  },
  {
   "cell_type": "markdown",
   "id": "93a18d23-d2e4-4766-8b0e-a28bf73a4cbe",
   "metadata": {},
   "source": [
    "#### claude-3-sonnet-20240229"
   ]
  },
  {
   "cell_type": "markdown",
   "id": "49050131-7151-45e4-9a74-7e00b7dcbace",
   "metadata": {},
   "source": [
    "#### Experiment 1: Defined Function Based Prompting"
   ]
  },
  {
   "cell_type": "code",
   "execution_count": 126,
   "id": "4380dcf6-4a0c-4e3a-997a-dd550aa3145f",
   "metadata": {},
   "outputs": [],
   "source": [
    "def get_claude_response(input_text, model=None):\n",
    "    # Sets up the headers for the API request, including authorization and content type.\n",
    "    headers = {\n",
    "        'Authorization': api_key_anthropic,  # Use your Claude API key.\n",
    "        'Content-Type': 'application/json'  # Specifies the request content format.\n",
    "    }\n",
    "    \n",
    "    # Sets a default model if none is provided.\n",
    "    if model is None:\n",
    "        model = \"claude-3-sonnet-20240229\"  # Default model name, adjustable as needed.\n",
    "    \n",
    "    # Constructs the JSON payload for the API request.\n",
    "    data = {\n",
    "        \"model\": model,  # The AI model to use for the request.\n",
    "        \"max_tokens\": 1024,  # Maximum number of tokens in the response.\n",
    "        \"messages\": [\n",
    "            {\"role\": \"user\", \"content\": input_text}  # The user message content for the AI to respond to.\n",
    "        ]\n",
    "    }\n",
    "    \n",
    "    # Sends the POST request to the Claude API endpoint.\n",
    "    response = requests.post(api_url_anthropic, json=data, headers=headers)\n",
    "    \n",
    "    # Checks if the request was successful (HTTP status code 200).\n",
    "    if response.status_code == 200:\n",
    "        response_data = response.json()  # Parse the JSON response data.\n",
    "        return extract_claude_message(response_data)  # Extract the AI's response message.\n",
    "    else:\n",
    "        # Returns a dictionary containing the error status code and message if the request fails.\n",
    "        return {\"statusCode\": response.status_code, \"body\": response.content.decode('utf-8')}\n",
    "\n",
    "def extract_claude_message(response_data):\n",
    "    # Checks if 'content' exists in the response data and if it contains any messages.\n",
    "    if 'content' in response_data and len(response_data['content']) > 0:\n",
    "        # Returns the text of the first message in the content array.\n",
    "        return response_data['content'][0]['text']\n",
    "    else:\n",
    "        # Returns an error message if 'content' is not found in the response data.\n",
    "        return \"Error: 'content' not found in response\"\n",
    "\n",
    "def display_message(response):\n",
    "    # Checks if the response is a dictionary, which indicates an error occurred.\n",
    "    if isinstance(response, dict):\n",
    "        # Constructs an error message string from the dictionary contents.\n",
    "        error_message = \"Error \" + str(response.get(\"statusCode\", \"\")) + \": \" + response.get(\"body\", \"\")\n",
    "        markdown_content = \"---\\n\\n\" + error_message + \"\\n\\n---\"  # Formats the error message in Markdown.\n",
    "    else:\n",
    "        # Formats the AI response message in Markdown.\n",
    "        markdown_content = \"---\\n\\n\" + response + \"\\n\\n---\"\n",
    "\n",
    "    # Displays the formatted Markdown content in a styled HTML div.\n",
    "    display(Markdown(\"<div style='color: #34568B;'>\\n\\n\" + markdown_content + \"\\n\\n</div>\"))\n",
    "\n"
   ]
  },
  {
   "cell_type": "markdown",
   "id": "b31dc6a7-5a5a-437b-9a08-1956e25f6bff",
   "metadata": {},
   "source": [
    "## Function to Generate JSA Document"
   ]
  },
  {
   "cell_type": "code",
   "execution_count": 96,
   "id": "bd4a9ea7-f66b-4901-9eb4-68f82db379a0",
   "metadata": {},
   "outputs": [],
   "source": [
    "def generate_jsa_prompt_from_df(df, activity_name, start_index, batch_size):\n",
    "    # Filter DataFrame for a specific activity\n",
    "    df_filtered = df[df['Activity'] == activity_name]\n",
    "    # Groups the filtered DataFrame by 'Sub-Activity Name' to process data for each sub-activity separately.\n",
    "    grouped = df_filtered.groupby('Sub-Activity Name')\n",
    "    prompt_text = \"\"  # Initializes an empty string to accumulate the JSA content for each sub-activity.\n",
    "    \n",
    "    # Enumerates over each group, where 'i' is the index, 'name' is the sub-activity name, and 'group' is the DataFrame subset.\n",
    "    for i, (name, group) in enumerate(grouped):\n",
    "        if i < start_index:\n",
    "            continue  # Skips groups until reaching the specified start index.\n",
    "        if i >= start_index + batch_size:\n",
    "            break  # Stops processing once the batch size limit is reached.\n",
    "\n",
    "        # Extracts details from the group, converting unique values to strings and formatting them.\n",
    "        sub_activity = name  # Current sub-activity name.\n",
    "        hazard = \", \".join(map(str, group['Type Of Hazard'].unique()))  # Concatenates unique hazard types into a string.\n",
    "        risks = \", \".join(map(str, group['Risk(s) Involved'].unique()))  # Concatenates unique risks into a string.\n",
    "        measures = \"\\n\".join(map(str, group['Risk Control measures'].unique()))  # Formats control measures with new lines.\n",
    "\n",
    "        # Constructs a formatted text block for the current sub-activity's safety analysis.\n",
    "        sub_activity_text = f\"Sub-Activity: {sub_activity}\\n\"\n",
    "        hazard_text = f\"Type Of Hazard: {hazard}\\n\"\n",
    "        risks_text = f\"Risk(s) Involved: {risks}\\n\"\n",
    "        measures_text = f\"Risk Control measures:\\n{measures}\\n\"\n",
    "        \n",
    "        # Appends the formatted text block to the overall prompt text.\n",
    "        prompt_text += sub_activity_text + hazard_text + risks_text + measures_text + \"\\n\\n\"\n",
    "    \n",
    "    # Defines the full prompt including the main activity and all processed sub-activity details.\n",
    "    full_prompt = f\"Generate a Job Safety Analysis document for the following activity: {activity_name}.\\n\\n\" + prompt_text\n",
    "    return full_prompt  # Returns the complete formatted prompt for generating a JSA document."
   ]
  },
  {
   "cell_type": "markdown",
   "id": "067047d9-07ef-4e17-a21b-b62ef8dd559b",
   "metadata": {},
   "source": [
    "#### Activity 1: Area Hard Barrication"
   ]
  },
  {
   "cell_type": "code",
   "execution_count": null,
   "id": "64fc6b23-94ff-4972-beca-e9357ed3722b",
   "metadata": {},
   "outputs": [],
   "source": []
  },
  {
   "cell_type": "code",
   "execution_count": 97,
   "id": "106251c6-7186-441e-be14-f2eed42e4af8",
   "metadata": {},
   "outputs": [
    {
     "data": {
      "text/markdown": [
       "<div style='color: #34568B;'>\n",
       "\n",
       "---\n",
       "\n",
       "Here is the Job Safety Analysis (JSA) document for the activity of Area Hard Barrication:\n",
       "\n",
       "Job Safety Analysis\n",
       "\n",
       "Activity: Area Hard Barrication\n",
       "\n",
       "Sub-Activity: Barrication\n",
       "Type of Hazard: Fall of material  \n",
       "Risk(s) Involved: Personal Injury\n",
       "Risk Control Measures:\n",
       "- Ensure inducted labor at the site\n",
       "- Ensure sufficient manpower for carriage of material\n",
       "- Ensure use of Full Body Safety Harness (FBSH) while barrication near the edge of the pit\n",
       "\n",
       "Sub-Activity: Loading & Unloading  \n",
       "Type of Hazard: Fall/Slip/Trip\n",
       "Risk(s) Involved: Personal Injury\n",
       "Risk Control Measures:\n",
       "- Evaluate the capacity of the dumper\n",
       "- Provision of banksman for guiding the process and stopper for vehicles\n",
       "- Ensure level ground for unloading dumper at the dumping area\n",
       "- Material stacking not less than 1.5 meters from the edge of the pit\n",
       "- Ensure safe working height for stacking of the material (1.5 meters)\n",
       "\n",
       "Sub-Activity: Manpower Mobilization\n",
       "Type of Hazard: Untrained worker\n",
       "Risk(s) Involved: Personal Injury, Breakdown\n",
       "Risk Control Measures:\n",
       "- Only inducted workers shall be deputed at the workplace\n",
       "- Provide Tool Box Talk to all workers\n",
       "- Ensure daily maintenance of the excavator\n",
       "\n",
       "Sub-Activity: Material Transport\n",
       "Type of Hazard: Road Accident\n",
       "Risk(s) Involved: Personal Injury, Loss of Property\n",
       "Risk Control Measures:\n",
       "- Identify the route of the vehicle\n",
       "- Check the competency of the vehicle driver\n",
       "- Check the authorization papers of the driver & vehicle\n",
       "- Confirm fitness of the vehicle (brakes, tail lamps, reverse horns)\n",
       "\n",
       "Sub-Activity: Work During Dark Hours\n",
       "Type of Hazard: Darkness, Fall of Person, Fall of Machinery\n",
       "Risk(s) Involved: Personal Injury, Damage to Property\n",
       "Risk Control Measures:\n",
       "- Obtain a night work permit from the concerned engineering and safety department\n",
       "- Ensure proper illumination during dark hours\n",
       "- Electrical cables should be at least 2 meters in height; no exposed electrical wires; ensure earthing\n",
       "- Illuminate the route\n",
       "\n",
       "---\n",
       "\n",
       "</div>"
      ],
      "text/plain": [
       "<IPython.core.display.Markdown object>"
      ]
     },
     "metadata": {},
     "output_type": "display_data"
    }
   ],
   "source": [
    "# usage\n",
    "df = df_jsa  # Ensure your Excel file is loaded into a DataFrame\n",
    "activity_name = \"Area Hard barrication\"  # Specify the activity name you are interested in\n",
    "jsa_prompt = generate_jsa_prompt_from_df(df, activity_name, 0, 5)\n",
    "jsa_document = get_claude_response(jsa_prompt)\n",
    "display_message(jsa_document)"
   ]
  },
  {
   "cell_type": "markdown",
   "id": "ff4ce6db-4ca0-4365-a060-0f901a02dc52",
   "metadata": {},
   "source": [
    "#### Activity 2: Anti-termite Treatment"
   ]
  },
  {
   "cell_type": "code",
   "execution_count": 98,
   "id": "3428a75e-febc-48a5-8e45-aeee6cc4b048",
   "metadata": {},
   "outputs": [
    {
     "data": {
      "text/markdown": [
       "<div style='color: #34568B;'>\n",
       "\n",
       "---\n",
       "\n",
       "Job Safety Analysis (JSA) for Anti-Termite Treatment\n",
       "\n",
       "Sub-Activity: Anti-Termite Treatment\n",
       "\n",
       "Potential Hazards:\n",
       "1. Toxic Material\n",
       "2. Dermatitis\n",
       "\n",
       "Risks Involved:\n",
       "1. Inhalation of toxic fumes\n",
       "2. Injection (accidental piercing of the skin)\n",
       "3. Eye irritation\n",
       "4. Skin irritation\n",
       "\n",
       "Risk Control Measures:\n",
       "1. Use of all required Personal Protective Equipment (PPE) such as respirators, goggles, chemical-resistant gloves, and protective clothing.\n",
       "2. Material Safety Data Sheets (MSDS) for the chemicals used shall be made available at the site.\n",
       "3. Follow safe handling and use procedures for the chemicals as per the MSDS and manufacturer's instructions.\n",
       "4. Thoroughly wash hands and any other body parts exposed to chemicals before eating, drinking, or after completing work.\n",
       "5. Obtain a Work Permit prior to the activity, ensuring all necessary precautions are in place.\n",
       "6. Store chemicals in a designated, secure storage area with restricted entry and proper inventory management.\n",
       "\n",
       "Sub-Activity: Manpower Mobilization\n",
       "\n",
       "Potential Hazards:\n",
       "1. Untrained workers\n",
       "2. Lack of skill awareness\n",
       "\n",
       "Risks Involved:\n",
       "1. Personal injury\n",
       "\n",
       "Risk Control Measures:\n",
       "1. Deploy only inducted and trained workers at the workplace.\n",
       "2. Conduct Tool Box Talks (TBT) for all workers, covering safety procedures, hazard awareness, and proper use of PPE.\n",
       "\n",
       "---\n",
       "\n",
       "</div>"
      ],
      "text/plain": [
       "<IPython.core.display.Markdown object>"
      ]
     },
     "metadata": {},
     "output_type": "display_data"
    }
   ],
   "source": [
    "# usage\n",
    "df = df_jsa  # Ensure your Excel file is loaded into a DataFrame\n",
    "activity_name = \"Anti-termite treatment\"  # Specify the activity name you are interested in\n",
    "jsa_prompt = generate_jsa_prompt_from_df(df, activity_name, 0, 5)\n",
    "jsa_document = get_claude_response(jsa_prompt)\n",
    "display_message(jsa_document)"
   ]
  },
  {
   "cell_type": "markdown",
   "id": "5b03cc0f-ee39-4361-a448-ff6ee599df34",
   "metadata": {},
   "source": [
    "#### Activity 3: Alluminium Door Fixing"
   ]
  },
  {
   "cell_type": "code",
   "execution_count": 99,
   "id": "4d114416-ce80-4958-856c-1d1d8be9aa56",
   "metadata": {},
   "outputs": [
    {
     "data": {
      "text/markdown": [
       "<div style='color: #34568B;'>\n",
       "\n",
       "---\n",
       "\n",
       "Job Safety Analysis (JSA) Document\n",
       "\n",
       "Activity: Aluminum Door Fixing\n",
       "\n",
       "Sub-Activity: Fixing of Frame\n",
       "Type of Hazard: Fall of material, fall of man, electric shock, fall of equipment\n",
       "Risk(s) Involved: Personal Injury, property damage\n",
       "Risk Control Measures:\n",
       "- Ensure only inspected ladders or scaffolds are used for work.\n",
       "- Ensure only inspected portable equipment is used for work.\n",
       "- Ensure safety harnesses (Full Body Safety Harness) are used above 2 meters height.\n",
       "- Ensure tools and materials are secured with ropes at height (work platform).\n",
       "- Ensure no one stands below a load.\n",
       "\n",
       "Sub-Activity: Manpower Mobilization\n",
       "Type of Hazard: Untrained workers\n",
       "Risk(s) Involved: Personal injury\n",
       "Risk Control Measures:\n",
       "- Only inducted (trained) workers shall be deployed at the workplace.\n",
       "- Provide Tool Box Talks to all workers.\n",
       "- Obtain required work permits before starting the activity.\n",
       "- Work shall be carried out under continuous supervision.\n",
       "\n",
       "Sub-Activity: Work during Dark Hours\n",
       "Type of Hazard: Darkness, fall of person, fall of machinery\n",
       "Risk(s) Involved: Personal injury, damage to property\n",
       "Risk Control Measures:\n",
       "- Obtain a night work permit from the concerned engineering and safety department.\n",
       "- Ensure personnel can safely carry the required weight.\n",
       "- Electrical cables should be routed at a minimum height of 2 meters. No exposed electrical wires. Ensure proper earthing.\n",
       "- Ensure the work route is adequately illuminated.\n",
       "\n",
       "Please note that this JSA document is based on the information provided, and it should be reviewed and updated as necessary to ensure the safety of workers and the workplace.\n",
       "\n",
       "---\n",
       "\n",
       "</div>"
      ],
      "text/plain": [
       "<IPython.core.display.Markdown object>"
      ]
     },
     "metadata": {},
     "output_type": "display_data"
    }
   ],
   "source": [
    "# usage\n",
    "df = df_jsa  # Ensure your Excel file is loaded into a DataFrame\n",
    "activity_name = \"Alluminium door fixing\"  # Specify the activity name you are interested in\n",
    "jsa_prompt = generate_jsa_prompt_from_df(df, activity_name, 0, 5)\n",
    "jsa_document = get_claude_response(jsa_prompt)\n",
    "display_message(jsa_document)"
   ]
  },
  {
   "cell_type": "markdown",
   "id": "44144919-8031-4a4b-a104-f4a386646170",
   "metadata": {},
   "source": [
    "#### Activity 4: Column Shuttering"
   ]
  },
  {
   "cell_type": "code",
   "execution_count": 101,
   "id": "7f1790ec-15a9-4391-ba4c-c961932d9243",
   "metadata": {},
   "outputs": [
    {
     "data": {
      "text/markdown": [
       "<div style='color: #34568B;'>\n",
       "\n",
       "---\n",
       "\n",
       "Here is a Job Safety Analysis document for the activity of Column Shuttering:\n",
       "\n",
       "Job Safety Analysis: Column Shuttering\n",
       "\n",
       "Sub-Activity: Manpower Mobilization\n",
       "Type of Hazard: Untrained worker, lack of skill awareness  \n",
       "Risk(s) Involved: Personal injury\n",
       "Risk Control Measures:\n",
       "- Only inducted workers shall be deputed at the workplace.\n",
       "- Provide Tool Box Talk to all workers.\n",
       "\n",
       "Sub-Activity: Shuttering  \n",
       "Type of Hazard: Fall of material/collapse of shuttering, trip/fall of personnel, nail piercing\n",
       "Risk(s) Involved: Injury/property damage, personnel injury/fatal, personnel injury  \n",
       "Risk Control Measures:\n",
       "- Use of basic PPE (hard hats, safety shoes, gloves, etc.)\n",
       "- Thoroughly inspect steel frame staging before erection.\n",
       "- Maintain proper housekeeping/stacking of materials in an isolated area.\n",
       "- Construct tubular steel scaffolds/staging as per the approved scheme.\n",
       "- Work shall be carried out by competent personnel under proper supervision.\n",
       "- Ensure struts and diagonal braces are in proper position and secured.\n",
       "- Use sufficient workers when lifting/placing shutter boards to avoid falling materials.\n",
       "- Provide full body safety harnesses for laborers working on scaffolds.  \n",
       "- Support scaffolds properly to avoid overturning.\n",
       "- Remove loose nails from the site and bend over protruding nails.\n",
       "- Inspect timber jacks, joists, stringers and ledgers for defects like cracks/knots.\n",
       "\n",
       "Sub-Activity: Staging\n",
       "Type of Hazard: Fall of person, material\n",
       "Risk(s) Involved: Personal injury  \n",
       "Risk Control Measures:  \n",
       "- Barricade the area to restrict entry.\n",
       "- Ensure each worker uses a full body safety harness with anchor points.\n",
       "- Check cuplock verticals for bending and breakages.  \n",
       "- Place ledgers every 500mm and cover them with cups.\n",
       "- Maintain good housekeeping at the work site.\n",
       "\n",
       "Sub-Activity: Work during dark hours\n",
       "Type of Hazard: Darkness, fall of person, fall of machinery\n",
       "Risk(s) Involved: Personal injury, damage to property\n",
       "Risk Control Measures:\n",
       "- Obtain night work permit from concerned engineering and safety department.  \n",
       "- Ensure proper illumination during dark hours.\n",
       "- Electrical cables should be routed at least 2m high with no exposed wires. Provide earthing.\n",
       "- Illuminate routes and work areas.\n",
       "\n",
       "---\n",
       "\n",
       "</div>"
      ],
      "text/plain": [
       "<IPython.core.display.Markdown object>"
      ]
     },
     "metadata": {},
     "output_type": "display_data"
    }
   ],
   "source": [
    "# usage\n",
    "df = df_jsa  # Ensure your Excel file is loaded into a DataFrame\n",
    "activity_name = \"Column Shuttering\"  # Specify the activity name you are interested in\n",
    "jsa_prompt = generate_jsa_prompt_from_df(df, activity_name, 0, 5)\n",
    "jsa_document = get_claude_response(jsa_prompt)\n",
    "display_message(jsa_document)"
   ]
  },
  {
   "cell_type": "markdown",
   "id": "bb3d46d5-32d9-4251-80a6-1152f968ef5b",
   "metadata": {},
   "source": [
    "#### Activity 5: Rebaring"
   ]
  },
  {
   "cell_type": "code",
   "execution_count": 102,
   "id": "39922bff-4138-489d-9451-9ea27f16ac76",
   "metadata": {},
   "outputs": [
    {
     "data": {
      "text/markdown": [
       "<div style='color: #34568B;'>\n",
       "\n",
       "---\n",
       "\n",
       "Job Safety Analysis (JSA) for Rebaring Activity\n",
       "\n",
       "Sub-Activity: Drilling of holes on column\n",
       "\n",
       "Type of Hazard: Fall of material, Fall of person\n",
       "Risk(s) Involved: Personal injury\n",
       "\n",
       "Risk Control Measures:\n",
       "1. Ensure safe scaffolding, e.g., proper access, working platform with mid-rail, top rail with support.\n",
       "2. Ensure the drilling machine is inspected, and the cable and industrial pin top are damage-free.\n",
       "3. Ensure workers working at height wear a full body harness.\n",
       "4. Ensure tools and other materials on the working platform are securely bound.\n",
       "5. Ensure the use of inspected tools and tackles.\n",
       "\n",
       "Sub-Activity: Manpower Mobilization\n",
       "\n",
       "Type of Hazard: Untrained worker\n",
       "Risk(s) Involved: Personal injury\n",
       "\n",
       "Risk Control Measures:\n",
       "1. Only inducted workers shall be deployed at the workplace.\n",
       "2. Provide Tool Box Talk to all workers.\n",
       "\n",
       "Sub-Activity: Work during dark hours\n",
       "\n",
       "Type of Hazard: Darkness, fall of person, fall of machinery\n",
       "Risk(s) Involved: Personal injury, damage to property\n",
       "\n",
       "Risk Control Measures:\n",
       "1. Obtain a night work permit from the concerned engineering and safety department.\n",
       "2. Ensure proper illumination during dark hours.\n",
       "3. Electrical cables should be routed at a minimum height of 2 meters. No exposed electrical wires. Ensure proper earthing.\n",
       "4. Ensure the route is illuminated.\n",
       "\n",
       "Additional Precautions:\n",
       "1. Ensure all workers are wearing appropriate personal protective equipment (PPE) such as hard hats, safety shoes, gloves, and eye protection.\n",
       "2. Establish a designated safe zone and restrict access to unauthorized personnel.\n",
       "3. Conduct regular inspections of the work area, tools, and equipment to identify and address potential hazards.\n",
       "4. Implement proper housekeeping practices to maintain a clean and organized work environment.\n",
       "5. Provide adequate first-aid facilities and trained personnel at the worksite.\n",
       "6. Ensure effective communication channels and emergency response procedures are in place.\n",
       "\n",
       "Note: This JSA is a general guideline, and it is essential to review and modify it according to the specific project requirements, site conditions, and applicable local regulations.\n",
       "\n",
       "---\n",
       "\n",
       "</div>"
      ],
      "text/plain": [
       "<IPython.core.display.Markdown object>"
      ]
     },
     "metadata": {},
     "output_type": "display_data"
    }
   ],
   "source": [
    "# usage\n",
    "df = df_jsa  # Ensure your Excel file is loaded into a DataFrame\n",
    "activity_name = \"Rebaring\"  # Specify the activity name you are interested in\n",
    "jsa_prompt = generate_jsa_prompt_from_df(df, activity_name, 0, 5)\n",
    "jsa_document = get_claude_response(jsa_prompt)\n",
    "display_message(jsa_document)"
   ]
  },
  {
   "cell_type": "code",
   "execution_count": null,
   "id": "a02a6ecc-b67f-4713-a168-06717f63acff",
   "metadata": {},
   "outputs": [],
   "source": []
  },
  {
   "cell_type": "markdown",
   "id": "92cc2a2f",
   "metadata": {},
   "source": [
    "#### Experiment 2: Defined Function with Instructions"
   ]
  },
  {
   "cell_type": "code",
   "execution_count": 127,
   "id": "32e93c48-4f64-4493-917d-00532f820c7b",
   "metadata": {},
   "outputs": [],
   "source": [
    "def generate_jsa_prompt_from_df(df, activity_name, start_index, batch_size):\n",
    "    # Filter the DataFrame to include only rows corresponding to the specified activity.\n",
    "    df_filtered = df[df['Activity'] == activity_name]\n",
    "    \n",
    "    # Group the filtered DataFrame by 'Sub-Activity Name' to organize data for each sub-activity.\n",
    "    grouped = df_filtered.groupby('Sub-Activity Name')\n",
    "    \n",
    "    # Initialize an empty string to accumulate the formatted text for the JSA content.\n",
    "    prompt_text = \"\"\n",
    "    \n",
    "    # Enumerate over each group, where 'i' is the index, 'name' is the sub-activity name, and 'group' is the DataFrame subset.\n",
    "    for i, (name, group) in enumerate(grouped):\n",
    "        if i < start_index:\n",
    "            continue  # Skip groups until reaching the specified starting index.\n",
    "        if i >= start_index + batch_size:\n",
    "            break  # Stop processing after reaching the specified batch size.\n",
    "\n",
    "        # Extract and format unique details from the group into strings.\n",
    "        sub_activity = name  # Current sub-activity name.\n",
    "        hazard = \", \".join(map(str, group['Type Of Hazard'].unique()))  # Join unique hazard types into a single string.\n",
    "        risks = \", \".join(map(str, group['Risk(s) Involved'].unique()))  # Join unique risks into a single string.\n",
    "        measures = \"\\n\".join(map(str, group['Risk Control measures'].unique()))  # Format control measures with new lines.\n",
    "\n",
    "        # Construct a formatted text block for the current sub-activity's safety analysis content.\n",
    "        sub_activity_text = f\"Sub-Activity: {sub_activity}\\n\"\n",
    "        hazard_text = f\"Type Of Hazard: {hazard}\\n\"\n",
    "        risks_text = f\"Risk(s) Involved: {risks}\\n\"\n",
    "        measures_text = f\"Risk Control measures:\\n{measures}\\n\"\n",
    "        \n",
    "        # Append the formatted text block to the overall prompt text.\n",
    "        prompt_text += sub_activity_text + hazard_text + risks_text + measures_text + \"\\n\\n\"\n",
    "    \n",
    "    # Construct the full prompt with a header specifying the activity and instructions to focus on dataset details.\n",
    "    full_prompt = (f\"Generate a Job Safety Analysis document for the following activity: {activity_name}.\\n\\n\" +\n",
    "                  \"Focus on the following details without adding any other additional information such as introductions, recommendations, or meanings. Only include details from the dataset provided:\\n\" +\n",
    "                  prompt_text)\n",
    "    \n",
    "    return full_prompt  # Return the complete, formatted prompt for generating a JSA document."
   ]
  },
  {
   "cell_type": "markdown",
   "id": "f08dc1f8-171a-428d-a167-7a5788b650a4",
   "metadata": {},
   "source": [
    "#### Activity 1: Area Hard Barrication"
   ]
  },
  {
   "cell_type": "code",
   "execution_count": 104,
   "id": "0405389a-b085-4f25-bd1f-cab7f26db672",
   "metadata": {},
   "outputs": [
    {
     "data": {
      "text/markdown": [
       "<div style='color: #34568B;'>\n",
       "\n",
       "---\n",
       "\n",
       "Job Safety Analysis Document:\n",
       "\n",
       "Sub-Activity: Barrication\n",
       "Type Of Hazard: Fall of material\n",
       "Risk(s) Involved: Personal Injury\n",
       "Risk Control measures:\n",
       "- Ensure inducted labour at site\n",
       "- Ensure sufficient manpower for carriage of material\n",
       "- Ensure use of FBSH while barrication near edge of the pit\n",
       "\n",
       "Sub-Activity: Loading & unloading \n",
       "Type Of Hazard: Fall/Slip/Trip\n",
       "Risk(s) Involved: Personal injury\n",
       "Risk Control measures:\n",
       "- Evaluating the capacity of the dumper\n",
       "- Provision of banks man for guiding the process and stopper for vehicle\n",
       "- Ensuring the level ground for unloading dumper at dumping area\n",
       "- Material stacking not less than 1.5 mtrs from the edge of the pit\n",
       "- Ensuring safe working height for stacking of the material (1.5 mtrs)\n",
       "\n",
       "Sub-Activity: Manpower Mobilization\n",
       "Type Of Hazard: Untrained worker  \n",
       "Risk(s) Involved: Personal injury, Break down\n",
       "Risk Control measures:\n",
       "- Only inducted worker shall be deputed at the work place\n",
       "- Given Tool Box Talk to all workers\n",
       "- Ensure daily maintenance of excavator\n",
       "\n",
       "Sub-Activity: Material transports\n",
       "Type Of Hazard: Road accident\n",
       "Risk(s) Involved: Personal injury, loss of property\n",
       "Risk Control measures:\n",
       "- Identifying the route of the vehicle\n",
       "- Checking the competency of the vehicle driver\n",
       "- Checking of authorization papers of driver & vehicle\n",
       "- Confirming fitness of the vehicle- viz. breaks, tale lamps, reverse horns\n",
       "\n",
       "Sub-Activity: Work during dark hours\n",
       "Type Of Hazard: Darkness, fall of person, fall of machinery\n",
       "Risk(s) Involved: Personal injury, damage to property  \n",
       "Risk Control measures:\n",
       "- Night work permit to be taken from concern engg.and safety dept.\n",
       "- Ensure proper illumination during dark hours\n",
       "- Electrical cable should lead min 2 m height. No exposed electrical wire. Earthing\n",
       "- Route shall be illuminated\n",
       "\n",
       "---\n",
       "\n",
       "</div>"
      ],
      "text/plain": [
       "<IPython.core.display.Markdown object>"
      ]
     },
     "metadata": {},
     "output_type": "display_data"
    }
   ],
   "source": [
    "# usage\n",
    "df = df_jsa  # Ensure your Excel file is loaded into a DataFrame\n",
    "activity_name = \"Area Hard barrication\"  # Specify the activity name you are interested in\n",
    "jsa_prompt = generate_jsa_prompt_from_df(df, activity_name, 0, 5)\n",
    "jsa_document = get_claude_response(jsa_prompt)\n",
    "display_message(jsa_document)"
   ]
  },
  {
   "cell_type": "markdown",
   "id": "657c37f6-b18f-4159-9fd4-763915a56f22",
   "metadata": {},
   "source": [
    "#### Activity 2: Anti-Termite Treatment"
   ]
  },
  {
   "cell_type": "code",
   "execution_count": 105,
   "id": "01593c99-e234-46d7-9c69-8c8d1e6f0032",
   "metadata": {},
   "outputs": [
    {
     "data": {
      "text/markdown": [
       "<div style='color: #34568B;'>\n",
       "\n",
       "---\n",
       "\n",
       "Job Safety Analysis\n",
       "\n",
       "Sub-Activity: Anti-Termite Treatment\n",
       "Type Of Hazard: Toxic Material, Dermitites\n",
       "Risk(s) Involved: Inhaling, Injecting, Eye irritation, Skin irritation\n",
       "Risk Control Measures: \n",
       "- Use of all required PPE's\n",
       "- MSDS shall be made available at the site\n",
       "- Work shall be carried out as per safe use of chemical\n",
       "- Thoroughly wash the hands and other body parts exposed to chemicals before eating food/after completion of work\n",
       "- Work Permit shall be taken prior to the activity\n",
       "- Chemicals shall be stored in a dedicated storage area with restricted entry and properly accounted for\n",
       "\n",
       "Sub-Activity: Manpower Mobilization\n",
       "Type Of Hazard: Untrained workers, lack of skill awareness\n",
       "Risk(s) Involved: Personal injury\n",
       "Risk Control Measures:\n",
       "- Only inducted workers shall be deputed at the workplace\n",
       "- Provide Tool Box Talk to all workers\n",
       "\n",
       "---\n",
       "\n",
       "</div>"
      ],
      "text/plain": [
       "<IPython.core.display.Markdown object>"
      ]
     },
     "metadata": {},
     "output_type": "display_data"
    }
   ],
   "source": [
    "# usage\n",
    "df = df_jsa  # Ensure your Excel file is loaded into a DataFrame\n",
    "activity_name = \"Anti-termite treatment\"  # Specify the activity name you are interested in\n",
    "jsa_prompt = generate_jsa_prompt_from_df(df, activity_name, 0, 5)\n",
    "jsa_document = get_claude_response(jsa_prompt)\n",
    "display_message(jsa_document)"
   ]
  },
  {
   "cell_type": "code",
   "execution_count": null,
   "id": "0593ab43-d750-4f4e-8d76-2f0708b66f53",
   "metadata": {},
   "outputs": [],
   "source": []
  },
  {
   "cell_type": "markdown",
   "id": "5cbea9e1-ea3f-4aa5-83c0-1e6e2c2a539e",
   "metadata": {},
   "source": [
    "#### Activity 3: Alluminium Door Fixing"
   ]
  },
  {
   "cell_type": "code",
   "execution_count": null,
   "id": "8eb3d842-bb87-48c2-ae03-dc84177239f8",
   "metadata": {},
   "outputs": [],
   "source": []
  },
  {
   "cell_type": "code",
   "execution_count": null,
   "id": "4fd5ef2a-82c3-4646-93c0-16c982c9f5d4",
   "metadata": {},
   "outputs": [],
   "source": []
  },
  {
   "cell_type": "code",
   "execution_count": 106,
   "id": "f6d9ca75-49eb-43a1-bf42-afb69599f9a2",
   "metadata": {},
   "outputs": [
    {
     "data": {
      "text/markdown": [
       "<div style='color: #34568B;'>\n",
       "\n",
       "---\n",
       "\n",
       "Job Safety Analysis for Aluminium Door Fixing\n",
       "\n",
       "Sub-Activity: Fixing of Frame\n",
       "Type Of Hazard: Fall of material, fall of man, electric shock, fall of equipment\n",
       "Risk(s) Involved: Personal Injury, property damage\n",
       "Risk Control measures:\n",
       "- Ensure only inspected ladder/ scaffold should use for work\n",
       "- Ensure only inspected portable equipments should use for work\n",
       "- Ensure safety belt(FBSH) above 2 mtr. Height\n",
       "- Ensure tools and material should fix with rope at height (work platform)\n",
       "- Ensure person should not stand below load\n",
       "\n",
       "Sub-Activity: Manpower Mobilization\n",
       "Type Of Hazard: Untrained worker\n",
       "Risk(s) Involved: Personal injury\n",
       "Risk Control measures:\n",
       "- Only inducted worker shall be deputed at the work place.\n",
       "- Given Tool Box Talk to all workers.\n",
       "- Required work permits should be taken before start of activity\n",
       "- Work Shall be carried out under continuous Supervision.\n",
       "\n",
       "Sub-Activity: Work during dark hours\n",
       "Type Of Hazard: Darkness, fall of person, fall of machinery\n",
       "Risk(s) Involved: Personal injury, damage to property\n",
       "Risk Control measures:\n",
       "- Night work permit to be taken from concern engg.and safety dept.\n",
       "- Ensure person can carry weight\n",
       "- Electrical cable should lead min 2 m height. No exposed electrical wire.Earthing.\n",
       "- Route shall be illuminated.\n",
       "\n",
       "---\n",
       "\n",
       "</div>"
      ],
      "text/plain": [
       "<IPython.core.display.Markdown object>"
      ]
     },
     "metadata": {},
     "output_type": "display_data"
    }
   ],
   "source": [
    "# usage\n",
    "df = df_jsa  # Ensure your Excel file is loaded into a DataFrame\n",
    "activity_name = \"Alluminium door fixing\"  # Specify the activity name you are interested in\n",
    "jsa_prompt = generate_jsa_prompt_from_df(df, activity_name, 0, 5)\n",
    "jsa_document = get_claude_response(jsa_prompt)\n",
    "display_message(jsa_document)"
   ]
  },
  {
   "cell_type": "markdown",
   "id": "723bcf2c-cbf6-49cd-9a3b-d6435aba9f65",
   "metadata": {},
   "source": [
    "#### Activity 4: Column Shuttering"
   ]
  },
  {
   "cell_type": "code",
   "execution_count": 107,
   "id": "9aeb7b60-939a-4ae8-9989-9de78b8c5c1c",
   "metadata": {},
   "outputs": [
    {
     "data": {
      "text/markdown": [
       "<div style='color: #34568B;'>\n",
       "\n",
       "---\n",
       "\n",
       "Job Safety Analysis - Column Shuttering\n",
       "\n",
       "Sub-Activity: Manpower Mobilization\n",
       "Type Of Hazard: Untrained worker, lack of skill awareness\n",
       "Risk(s) Involved: Personal injury\n",
       "Risk Control Measures:\n",
       "- Only inducted worker shall be deputed at the work place.\n",
       "- Given Tool Box Talk to all workers.\n",
       "\n",
       "Sub-Activity: Shuttering  \n",
       "Type Of Hazard: Fall of material / Collapse of shuttering, Trip / fall of personnel, Nail Piercing\n",
       "Risk(s) Involved: Injury/property damage, Personnel injury / fatal, Personnel injury\n",
       "Risk Control Measures:\n",
       "- Use of Basic PPE\n",
       "- Before erection of steel frame staging is started, a through inspection should be undertaken on it.\n",
       "- Proper housekeeping/stacking of material in an isolated area.\n",
       "- Tubular steel scaffolds / staging to be made as per the scheme.\n",
       "- Work shall be carried out by competent person under proper supervision of foremen / incharge.\n",
       "- Struts and diagonal brace must be in proper position and secured for frames to develop full load carrying capacity.\n",
       "- Lifting of shutter boards & placing in position shall be done by sufficient nos of workers to avoid fall of material.\n",
       "- Labours standing on scaffolds hall be given FBSH.\n",
       "- Scaffolds shall be supported to avoid overturning.\n",
       "- Loose nail should be removed from site & nails which have came out of ply shall also be bent or removed.\n",
       "- Timber jacks, joists, stringers and ledgers should be inspected for defects such as cracks / excessive knots.\n",
       "\n",
       "Sub-Activity: Staging\n",
       "Type Of Hazard: Fall of person, material\n",
       "Risk(s) Involved: Personal Injury\n",
       "Risk Control Measures:  \n",
       "- Area barricade to restrict entry.\n",
       "- Ensure (FBSH) full body safety harness anchor by each workmen.\n",
       "- Cuplock verticals are checked against bending & breakages\n",
       "- Ledgers shall be placed at every 500mm & same shall be covered with the cups.\n",
       "- Maintain good house keeping at work site.\n",
       "\n",
       "Sub-Activity: Work during dark hours\n",
       "Type Of Hazard: Darkness, fall of person, fall of machinery  \n",
       "Risk(s) Involved: Personal injury, damage to property\n",
       "Risk Control Measures:\n",
       "- Night work permit to be taken from concern engg.and safety dept.  \n",
       "- Ensure proper illumination during dark hours.\n",
       "- Electrical cable should lead min 2 m height. No exposed electrical wire. Earthing.\n",
       "- Route shall be illuminated.\n",
       "\n",
       "---\n",
       "\n",
       "</div>"
      ],
      "text/plain": [
       "<IPython.core.display.Markdown object>"
      ]
     },
     "metadata": {},
     "output_type": "display_data"
    }
   ],
   "source": [
    "# usage\n",
    "df = df_jsa  # Ensure your Excel file is loaded into a DataFrame\n",
    "activity_name = \"Column Shuttering\"  # Specify the activity name you are interested in\n",
    "jsa_prompt = generate_jsa_prompt_from_df(df, activity_name, 0, 5)\n",
    "jsa_document = get_claude_response(jsa_prompt)\n",
    "display_message(jsa_document)"
   ]
  },
  {
   "cell_type": "markdown",
   "id": "8ffeff0d-8fdc-4a76-87e4-470c186c5508",
   "metadata": {},
   "source": [
    "#### Activity 5: Rebaring"
   ]
  },
  {
   "cell_type": "code",
   "execution_count": 108,
   "id": "49366a8b-1666-41d5-a8fb-5a2b451eba71",
   "metadata": {},
   "outputs": [
    {
     "data": {
      "text/markdown": [
       "<div style='color: #34568B;'>\n",
       "\n",
       "---\n",
       "\n",
       "Job Safety Analysis - Rebaring\n",
       "\n",
       "Sub-Activity: Drilling of holes on column\n",
       "Type Of Hazard: Fall of material, Fall of person\n",
       "Risk(s) Involved: Personal injury\n",
       "Risk Control measures:\n",
       "- Ensure safe scaffolding e.g. access, working platform with mid rail, top rail with support\n",
       "- Ensure drilling machine should be inspected with damage-free cable and industrial pin top\n",
       "- Ensure worker working on height with Full body harness\n",
       "- Ensure tools and other material on working platform should be bound\n",
       "- Ensure use of inspected tools & tackles\n",
       "\n",
       "Sub-Activity: Manpower Mobilization\n",
       "Type Of Hazard: Untrained worker\n",
       "Risk(s) Involved: Personal injury\n",
       "Risk Control measures:\n",
       "- Only inducted worker shall be deputed at the work place.\n",
       "- Give Tool Box Talk to all workers.\n",
       "\n",
       "Sub-Activity: Work during dark hours\n",
       "Type Of Hazard: Darkness, fall of person, fall of machinery\n",
       "Risk(s) Involved: Personal injury, damage to property\n",
       "Risk Control measures:\n",
       "- Night work permit to be taken from concerned engineering and safety department.\n",
       "- Ensure proper illumination during dark hours.\n",
       "- Electrical cable should be led minimum 2 meters height. No exposed electrical wire. Earthing.\n",
       "- Route shall be illuminated.\n",
       "\n",
       "---\n",
       "\n",
       "</div>"
      ],
      "text/plain": [
       "<IPython.core.display.Markdown object>"
      ]
     },
     "metadata": {},
     "output_type": "display_data"
    }
   ],
   "source": [
    "# usage\n",
    "df = df_jsa  # Ensure your Excel file is loaded into a DataFrame\n",
    "activity_name = \"Rebaring\"  # Specify the activity name you are interested in\n",
    "jsa_prompt = generate_jsa_prompt_from_df(df, activity_name, 0, 5)\n",
    "jsa_document = get_claude_response(jsa_prompt)\n",
    "display_message(jsa_document)"
   ]
  },
  {
   "cell_type": "markdown",
   "id": "f72f3535-56ee-476a-8ea8-65bf2f008aa3",
   "metadata": {},
   "source": [
    "### claude-3-opus-20240229"
   ]
  },
  {
   "cell_type": "markdown",
   "id": "6607054d-03cd-40b0-bb55-cc540a0874f8",
   "metadata": {},
   "source": [
    "#### Experiment 1: Defined Function Based Prompting"
   ]
  },
  {
   "cell_type": "code",
   "execution_count": null,
   "id": "9eb5ee55-b402-4874-be92-5057c57612d4",
   "metadata": {},
   "outputs": [],
   "source": []
  },
  {
   "cell_type": "code",
   "execution_count": 128,
   "id": "ba238fae-1d7d-44cb-9c16-df0086f6f6a0",
   "metadata": {},
   "outputs": [],
   "source": [
    "def get_claude_response(input_text, model=None):\n",
    "    # Sets up the headers for the API request, including authorization and content type.\n",
    "    headers = {\n",
    "        'Authorization': api_key_anthropic,  # Use your Claude API key.\n",
    "        'Content-Type': 'application/json'  # Specifies the request content format.\n",
    "    }\n",
    "    \n",
    "    # Sets a default model if none is provided.\n",
    "    if model is None:\n",
    "        model = \"claude-3-opus-20240229\"  # Default model name, adjustable as needed.\n",
    "    \n",
    "    # Constructs the JSON payload for the API request.\n",
    "    data = {\n",
    "        \"model\": model,  # The AI model to use for the request.\n",
    "        \"max_tokens\": 1024,  # Maximum number of tokens in the response.\n",
    "        \"messages\": [\n",
    "            {\"role\": \"user\", \"content\": input_text}  # The user message content for the AI to respond to.\n",
    "        ]\n",
    "    }\n",
    "    \n",
    "    # Sends the POST request to the Claude API endpoint.\n",
    "    response = requests.post(api_url_anthropic, json=data, headers=headers)\n",
    "    \n",
    "    # Checks if the request was successful (HTTP status code 200).\n",
    "    if response.status_code == 200:\n",
    "        response_data = response.json()  # Parse the JSON response data.\n",
    "        return extract_claude_message(response_data)  # Extract the AI's response message.\n",
    "    else:\n",
    "        # Returns a dictionary containing the error status code and message if the request fails.\n",
    "        return {\"statusCode\": response.status_code, \"body\": response.content.decode('utf-8')}\n",
    "\n",
    "def extract_claude_message(response_data):\n",
    "    # Checks if 'content' exists in the response data and if it contains any messages.\n",
    "    if 'content' in response_data and len(response_data['content']) > 0:\n",
    "        # Returns the text of the first message in the content array.\n",
    "        return response_data['content'][0]['text']\n",
    "    else:\n",
    "        # Returns an error message if 'content' is not found in the response data.\n",
    "        return \"Error: 'content' not found in response\"\n",
    "\n",
    "def display_message(response):\n",
    "    # Checks if the response is a dictionary, which indicates an error occurred.\n",
    "    if isinstance(response, dict):\n",
    "        # Constructs an error message string from the dictionary contents.\n",
    "        error_message = \"Error \" + str(response.get(\"statusCode\", \"\")) + \": \" + response.get(\"body\", \"\")\n",
    "        markdown_content = \"---\\n\\n\" + error_message + \"\\n\\n---\"  # Formats the error message in Markdown.\n",
    "    else:\n",
    "        # Formats the AI response message in Markdown.\n",
    "        markdown_content = \"---\\n\\n\" + response + \"\\n\\n---\"\n",
    "\n",
    "    # Displays the formatted Markdown content in a styled HTML div.\n",
    "    display(Markdown(\"<div style='color: #34568B;'>\\n\\n\" + markdown_content + \"\\n\\n</div>\"))\n",
    "\n"
   ]
  },
  {
   "cell_type": "markdown",
   "id": "9eebf6f4-2976-4f35-aee1-e87936bdb136",
   "metadata": {},
   "source": [
    "## Function to Generate JSA Document"
   ]
  },
  {
   "cell_type": "code",
   "execution_count": 129,
   "id": "fe42827e-1bee-4a56-91bd-9cecd1934219",
   "metadata": {},
   "outputs": [],
   "source": [
    "def generate_jsa_prompt_from_df(df, activity_name, start_index, batch_size):\n",
    "    # Filter DataFrame for a specific activity\n",
    "    df_filtered = df[df['Activity'] == activity_name]\n",
    "    # Groups the filtered DataFrame by 'Sub-Activity Name' to process data for each sub-activity separately.\n",
    "    grouped = df_filtered.groupby('Sub-Activity Name')\n",
    "    prompt_text = \"\"  # Initializes an empty string to accumulate the JSA content for each sub-activity.\n",
    "    \n",
    "    # Enumerates over each group, where 'i' is the index, 'name' is the sub-activity name, and 'group' is the DataFrame subset.\n",
    "    for i, (name, group) in enumerate(grouped):\n",
    "        if i < start_index:\n",
    "            continue  # Skips groups until reaching the specified start index.\n",
    "        if i >= start_index + batch_size:\n",
    "            break  # Stops processing once the batch size limit is reached.\n",
    "\n",
    "        # Extracts details from the group, converting unique values to strings and formatting them.\n",
    "        sub_activity = name  # Current sub-activity name.\n",
    "        hazard = \", \".join(map(str, group['Type Of Hazard'].unique()))  # Concatenates unique hazard types into a string.\n",
    "        risks = \", \".join(map(str, group['Risk(s) Involved'].unique()))  # Concatenates unique risks into a string.\n",
    "        measures = \"\\n\".join(map(str, group['Risk Control measures'].unique()))  # Formats control measures with new lines.\n",
    "\n",
    "        # Constructs a formatted text block for the current sub-activity's safety analysis.\n",
    "        sub_activity_text = f\"Sub-Activity: {sub_activity}\\n\"\n",
    "        hazard_text = f\"Type Of Hazard: {hazard}\\n\"\n",
    "        risks_text = f\"Risk(s) Involved: {risks}\\n\"\n",
    "        measures_text = f\"Risk Control measures:\\n{measures}\\n\"\n",
    "        \n",
    "        # Appends the formatted text block to the overall prompt text.\n",
    "        prompt_text += sub_activity_text + hazard_text + risks_text + measures_text + \"\\n\\n\"\n",
    "    \n",
    "    # Defines the full prompt including the main activity and all processed sub-activity details.\n",
    "    full_prompt = f\"Generate a Job Safety Analysis document for the following activity: {activity_name}.\\n\\n\" + prompt_text\n",
    "    return full_prompt  # Returns the complete formatted prompt for generating a JSA document."
   ]
  },
  {
   "cell_type": "markdown",
   "id": "54faa5f9-0268-4c44-9c3d-3d6b29683869",
   "metadata": {},
   "source": [
    "#### Activity 1: Area Hard Barrication"
   ]
  },
  {
   "cell_type": "code",
   "execution_count": 114,
   "id": "f1314347-a22a-4f6d-a384-08778182611d",
   "metadata": {},
   "outputs": [
    {
     "data": {
      "text/markdown": [
       "<div style='color: #34568B;'>\n",
       "\n",
       "---\n",
       "\n",
       "Job Safety Analysis (JSA) Document\n",
       "Activity: Area Hard Barrication\n",
       "\n",
       "1. Sub-Activity: Barrication\n",
       "   Type of Hazard: Fall of material\n",
       "   Risk(s) Involved: Personal Injury\n",
       "   Risk Control Measures:\n",
       "   - Ensure inducted labour at site\n",
       "   - Ensure sufficient manpower for carriage of material\n",
       "   - Ensure use of Fall Body Safety Harness (FBSH) while barrication near edge of the pit\n",
       "\n",
       "2. Sub-Activity: Loading & Unloading\n",
       "   Type of Hazard: Fall/Slip/Trip\n",
       "   Risk(s) Involved: Personal injury\n",
       "   Risk Control Measures:\n",
       "   - Evaluate the capacity of the dumper\n",
       "   - Provide a banks man for guiding the process and stopper for the vehicle\n",
       "   - Ensure level ground for unloading dumper at dumping area\n",
       "   - Material stacking should not be less than 1.5 meters from the edge of the pit\n",
       "   - Ensure safe working height for stacking of the material (1.5 meters)\n",
       "\n",
       "3. Sub-Activity: Manpower Mobilization\n",
       "   Type of Hazard: Untrained worker\n",
       "   Risk(s) Involved: Personal injury, Break down\n",
       "   Risk Control Measures:\n",
       "   - Only inducted workers shall be deputed at the workplace\n",
       "   - Provide Tool Box Talk to all workers\n",
       "   - Ensure daily maintenance of excavator\n",
       "\n",
       "4. Sub-Activity: Material Transport\n",
       "   Type of Hazard: Road accident\n",
       "   Risk(s) Involved: Personal injury, loss of property\n",
       "   Risk Control Measures:\n",
       "   - Identify the route of the vehicle\n",
       "   - Check the competency of the vehicle driver\n",
       "   - Check authorization papers of driver & vehicle\n",
       "   - Confirm fitness of the vehicle (brakes, tail lamps, reverse horns)\n",
       "\n",
       "5. Sub-Activity: Work During Dark Hours\n",
       "   Type of Hazard: Darkness, fall of person, fall of machinery\n",
       "   Risk(s) Involved: Personal injury, damage to property\n",
       "   Risk Control Measures:\n",
       "   - Obtain night work permit from concerned engineering and safety department\n",
       "   - Ensure proper illumination during dark hours\n",
       "   - Electrical cables should be at a minimum height of 2 meters with no exposed electrical wires and proper earthing\n",
       "   - Illuminate the route\n",
       "\n",
       "By following the above risk control measures for each sub-activity, the overall risk associated with the area hard barrication activity can be minimized, ensuring a safer working environment for all personnel involved.\n",
       "\n",
       "---\n",
       "\n",
       "</div>"
      ],
      "text/plain": [
       "<IPython.core.display.Markdown object>"
      ]
     },
     "metadata": {},
     "output_type": "display_data"
    }
   ],
   "source": [
    "# usage\n",
    "df = df_jsa  # Ensure your Excel file is loaded into a DataFrame\n",
    "activity_name = \"Area Hard barrication\"  # Specify the activity name you are interested in\n",
    "jsa_prompt = generate_jsa_prompt_from_df(df, activity_name, 0, 5)\n",
    "jsa_document = get_claude_response(jsa_prompt)\n",
    "display_message(jsa_document)"
   ]
  },
  {
   "cell_type": "markdown",
   "id": "4327d00e-84d3-4d06-a879-b99e529d68e1",
   "metadata": {},
   "source": [
    "#### Activity 2: Anti-Termite Treatment"
   ]
  },
  {
   "cell_type": "code",
   "execution_count": 115,
   "id": "5c1b4c1b-9ea3-4a71-9a79-aba7d3bcdc9c",
   "metadata": {},
   "outputs": [
    {
     "data": {
      "text/markdown": [
       "<div style='color: #34568B;'>\n",
       "\n",
       "---\n",
       "\n",
       "Job Safety Analysis (JSA) - Anti-Termite Treatment\n",
       "\n",
       "1. Sub-Activity: Anti-Termite Treatment\n",
       "   Type of Hazard: Toxic Material, Dermatitis\n",
       "   Risk(s) Involved: Inhalation, Injection, Eye irritation, Skin irritation\n",
       "   Risk Control Measures:\n",
       "   - Use all required Personal Protective Equipment (PPE) such as respirators, gloves, safety glasses, and protective clothing.\n",
       "   - Material Safety Data Sheets (MSDS) shall be made available at the site for reference.\n",
       "   - Work shall be carried out as per safe use of chemicals guidelines.\n",
       "   - Thoroughly wash hands and other exposed body parts before eating or after completion of work.\n",
       "   - Obtain a Work Permit prior to starting the activity.\n",
       "   - Store chemicals in a designated godown with restricted entry and maintain proper inventory records.\n",
       "\n",
       "2. Sub-Activity: Manpower Mobilization\n",
       "   Type of Hazard: Untrained workers, lack of skill awareness\n",
       "   Risk(s) Involved: Personal injury\n",
       "   Risk Control Measures:\n",
       "   - Only deploy inducted workers at the workplace.\n",
       "   - Conduct Tool Box Talks for all workers to raise awareness about safety procedures and precautions.\n",
       "\n",
       "3. Sub-Activity: Handling and Application of Anti-Termite Chemicals\n",
       "   Type of Hazard: Spillage, Improper application\n",
       "   Risk(s) Involved: Environmental contamination, Ineffective treatment\n",
       "   Risk Control Measures:\n",
       "   - Train workers on proper handling and application techniques for anti-termite chemicals.\n",
       "   - Ensure the use of appropriate tools and equipment for chemical application.\n",
       "   - Provide spill containment kits and train workers on spill response procedures.\n",
       "   - Supervise the application process to ensure adherence to manufacturer's instructions and safety guidelines.\n",
       "\n",
       "4. Sub-Activity: Disposal of Chemical Containers and Waste\n",
       "   Type of Hazard: Improper disposal\n",
       "   Risk(s) Involved: Environmental pollution, Health hazards\n",
       "   Risk Control Measures:\n",
       "   - Follow local regulations and guidelines for the proper disposal of chemical containers and waste.\n",
       "   - Store empty containers and waste materials in designated areas away from water sources and public access.\n",
       "   - Arrange for authorized waste disposal contractors to collect and dispose of the waste safely.\n",
       "\n",
       "5. Sub-Activity: Post-Treatment Monitoring\n",
       "   Type of Hazard: Residual chemicals\n",
       "   Risk(s) Involved: Exposure to treated areas\n",
       "   Risk Control Measures:\n",
       "   - Inform occupants about the treated areas and advise them to avoid contact until the specified safe re-entry time.\n",
       "   - Display warning signs in treated areas to prevent unauthorized access.\n",
       "   - Conduct post-treatment monitoring to ensure the effectiveness of the anti-termite treatment and the absence of any adverse effects on human health or the environment.\n",
       "\n",
       "Note: This JSA serves as a general guideline and should be adapted to the specific requirements and regulations of the local jurisdiction and the anti-termite treatment product being used. Always consult the product label, MSDS, and relevant safety regulations before conducting anti-termite treatment.\n",
       "\n",
       "---\n",
       "\n",
       "</div>"
      ],
      "text/plain": [
       "<IPython.core.display.Markdown object>"
      ]
     },
     "metadata": {},
     "output_type": "display_data"
    }
   ],
   "source": [
    "# usage\n",
    "df = df_jsa  # Ensure your Excel file is loaded into a DataFrame\n",
    "activity_name = \"Anti-termite treatment\"  # Specify the activity name you are interested in\n",
    "jsa_prompt = generate_jsa_prompt_from_df(df, activity_name, 0, 5)\n",
    "jsa_document = get_claude_response(jsa_prompt)\n",
    "display_message(jsa_document)"
   ]
  },
  {
   "cell_type": "markdown",
   "id": "2313a823-9fc6-47ce-9bdc-b08eed2cc3de",
   "metadata": {},
   "source": [
    "#### Activity 3: Alluminium Door Fixing"
   ]
  },
  {
   "cell_type": "code",
   "execution_count": 116,
   "id": "fd3fcead-1793-4d21-bc64-b6d18e2b3d29",
   "metadata": {},
   "outputs": [
    {
     "data": {
      "text/markdown": [
       "<div style='color: #34568B;'>\n",
       "\n",
       "---\n",
       "\n",
       "Job Safety Analysis (JSA) Document\n",
       "Activity: Aluminum Door Fixing\n",
       "\n",
       "1. Sub-Activity: Fixing of Frame\n",
       "   Type of Hazard: Fall of material, fall of man, electric shock, fall of equipment\n",
       "   Risk(s) Involved: Personal injury, property damage\n",
       "   Risk Control Measures:\n",
       "   - Ensure only inspected ladder/scaffold is used for work\n",
       "   - Ensure only inspected portable equipment is used for work\n",
       "   - Ensure safety belt (FBSH) is used above 2 meters height\n",
       "   - Ensure tools and materials are fixed with rope at height (work platform)\n",
       "   - Ensure no person stands below the load\n",
       "\n",
       "2. Sub-Activity: Manpower Mobilization\n",
       "   Type of Hazard: Untrained worker\n",
       "   Risk(s) Involved: Personal injury\n",
       "   Risk Control Measures:\n",
       "   - Only inducted workers shall be deputed at the workplace\n",
       "   - Provide Tool Box Talk to all workers\n",
       "   - Required work permits should be obtained before starting the activity\n",
       "   - Work shall be carried out under continuous supervision\n",
       "\n",
       "3. Sub-Activity: Work during dark hours\n",
       "   Type of Hazard: Darkness, fall of person, fall of machinery\n",
       "   Risk(s) Involved: Personal injury, damage to property\n",
       "   Risk Control Measures:\n",
       "   - Night work permit to be obtained from concerned engineering and safety departments\n",
       "   - Ensure the person can carry weight\n",
       "   - Electrical cables should be at a minimum height of 2 meters, with no exposed electrical wires and proper earthing\n",
       "   - Route shall be adequately illuminated\n",
       "\n",
       "Additional Recommendations:\n",
       "- Conduct regular safety training and awareness programs for workers\n",
       "- Ensure the availability and proper use of personal protective equipment (PPE)\n",
       "- Maintain a clean and organized work area to minimize tripping and falling hazards\n",
       "- Regularly inspect and maintain all tools, equipment, and machinery\n",
       "- Establish clear communication channels among workers and supervisors\n",
       "- Conduct regular safety audits and implement corrective actions as needed\n",
       "- Ensure compliance with all relevant safety regulations and guidelines\n",
       "\n",
       "By following this Job Safety Analysis document and implementing the recommended risk control measures, the risks associated with aluminum door fixing can be minimized, ensuring a safer working environment for all involved personnel.\n",
       "\n",
       "---\n",
       "\n",
       "</div>"
      ],
      "text/plain": [
       "<IPython.core.display.Markdown object>"
      ]
     },
     "metadata": {},
     "output_type": "display_data"
    }
   ],
   "source": [
    "# usage\n",
    "df = df_jsa  # Ensure your Excel file is loaded into a DataFrame\n",
    "activity_name = \"Alluminium door fixing\"  # Specify the activity name you are interested in\n",
    "jsa_prompt = generate_jsa_prompt_from_df(df, activity_name, 0, 5)\n",
    "jsa_document = get_claude_response(jsa_prompt)\n",
    "display_message(jsa_document)"
   ]
  },
  {
   "cell_type": "markdown",
   "id": "7d9f6db7-fd3e-4782-b886-d2de43896d43",
   "metadata": {},
   "source": [
    "#### Activity 4: Column Shuttering"
   ]
  },
  {
   "cell_type": "code",
   "execution_count": 117,
   "id": "db28e193-1d97-48b3-89cb-013644bc713f",
   "metadata": {},
   "outputs": [
    {
     "data": {
      "text/markdown": [
       "<div style='color: #34568B;'>\n",
       "\n",
       "---\n",
       "\n",
       "Job Safety Analysis: Column Shuttering\n",
       "\n",
       "Sub-Activity: Manpower Mobilization\n",
       "Type Of Hazard: Untrained worker, lack of skill awareness\n",
       "Risk(s) Involved: Personal injury\n",
       "Risk Control measures:\n",
       "1. Only inducted workers shall be deputed at the workplace.\n",
       "2. Provide Tool Box Talk to all workers.\n",
       "\n",
       "Sub-Activity: Shuttering\n",
       "Type Of Hazard: Fall of material / Collapse of shuttering, Trip / fall of personnel, Nail Piercing\n",
       "Risk(s) Involved: Injury/property damage, Personnel injury / fatal, Personnel injury\n",
       "Risk Control measures:\n",
       "1. Use of Basic PPE.\n",
       "2. Before erection of steel frame staging, a thorough inspection should be undertaken.\n",
       "3. Proper housekeeping/stacking of material in an isolated area.\n",
       "4. Tubular steel scaffolds / staging to be made as per the scheme.\n",
       "5. Work shall be carried out by competent persons under proper supervision of foremen / in-charge.\n",
       "6. Struts and diagonal braces must be in proper position and secured for frames to develop full load-carrying capacity.\n",
       "7. Lifting of shutter boards & placing in position shall be done by a sufficient number of workers to avoid fall of material.\n",
       "8. Labourers standing on scaffolds shall be given FBSH (Full Body Safety Harness).\n",
       "9. Scaffolds shall be supported to avoid overturning.\n",
       "10. Loose nails should be removed from the site & nails which have come out of plywood shall also be bent or removed.\n",
       "11. Timber jacks, joists, stringers, and ledgers should be inspected for defects such as cracks / excessive knots.\n",
       "\n",
       "Sub-Activity: Staging\n",
       "Type Of Hazard: Fall of person, material\n",
       "Risk(s) Involved: Personal Injury\n",
       "Risk Control measures:\n",
       "1. Area barricade to restrict entry.\n",
       "2. Ensure (FBSH) full body safety harness anchor by each workman.\n",
       "3. Cuplock verticals are checked against bending & breakages.\n",
       "4. Ledgers shall be placed at every 500mm & the same shall be covered with the cups.\n",
       "5. Maintain good housekeeping at the work site.\n",
       "\n",
       "Sub-Activity: Work during dark hours\n",
       "Type Of Hazard: Darkness, fall of person, fall of machinery\n",
       "Risk(s) Involved: Personal injury, damage to property\n",
       "Risk Control measures:\n",
       "1. Night work permit to be taken from concerned engineering and safety departments.\n",
       "2. Ensure proper illumination during dark hours.\n",
       "3. Electrical cables should lead to a minimum of 2 m height. No exposed electrical wire. Earthing.\n",
       "4. Route shall be illuminated.\n",
       "\n",
       "---\n",
       "\n",
       "</div>"
      ],
      "text/plain": [
       "<IPython.core.display.Markdown object>"
      ]
     },
     "metadata": {},
     "output_type": "display_data"
    }
   ],
   "source": [
    "# usage\n",
    "df = df_jsa  # Ensure your Excel file is loaded into a DataFrame\n",
    "activity_name = \"Column Shuttering\"  # Specify the activity name you are interested in\n",
    "jsa_prompt = generate_jsa_prompt_from_df(df, activity_name, 0, 5)\n",
    "jsa_document = get_claude_response(jsa_prompt)\n",
    "display_message(jsa_document)"
   ]
  },
  {
   "cell_type": "markdown",
   "id": "5cf6099f-5507-490d-a359-73db687e6d74",
   "metadata": {},
   "source": [
    "#### Activity 5: Rebaring"
   ]
  },
  {
   "cell_type": "code",
   "execution_count": 118,
   "id": "af85344a-33d4-4581-bdf0-bf8711a162c3",
   "metadata": {},
   "outputs": [
    {
     "data": {
      "text/markdown": [
       "<div style='color: #34568B;'>\n",
       "\n",
       "---\n",
       "\n",
       "Job Safety Analysis (JSA)\n",
       "Activity: Rebaring\n",
       "\n",
       "Sub-Activity: Drilling of holes on column\n",
       "Type Of Hazard: Fall of material, Fall of person\n",
       "Risk(s) Involved: Personal injury\n",
       "Risk Control measures:\n",
       "1. Ensure safe scaffolding, including proper access, working platform with mid rail, and top rail with support.\n",
       "2. Ensure drilling machine is inspected and has a damage-free cable and industrial pin top.\n",
       "3. Ensure workers working at height are wearing full body harnesses.\n",
       "4. Ensure tools and other materials on the working platform are properly secured.\n",
       "5. Ensure the use of inspected tools and tackles.\n",
       "\n",
       "Sub-Activity: Manpower Mobilization\n",
       "Type Of Hazard: Untrained worker\n",
       "Risk(s) Involved: Personal injury\n",
       "Risk Control measures:\n",
       "1. Only inducted workers shall be deputed at the workplace.\n",
       "2. Provide Tool Box Talk to all workers.\n",
       "\n",
       "Sub-Activity: Work during dark hours\n",
       "Type Of Hazard: Darkness, fall of person, fall of machinery\n",
       "Risk(s) Involved: Personal injury, damage to property\n",
       "Risk Control measures:\n",
       "1. Obtain a night work permit from the concerned engineering and safety departments.\n",
       "2. Ensure proper illumination during dark hours.\n",
       "3. Electrical cables should be positioned at a minimum height of 2 meters. No exposed electrical wires. Ensure proper earthing.\n",
       "4. The route shall be adequately illuminated.\n",
       "\n",
       "Additional Recommendations:\n",
       "1. Conduct regular safety training and toolbox meetings to reinforce safety protocols and procedures.\n",
       "2. Ensure all workers are provided with appropriate personal protective equipment (PPE) and are trained in its proper use.\n",
       "3. Implement a system for regular inspection and maintenance of all tools, equipment, and scaffolding.\n",
       "4. Establish clear communication channels between workers and supervisors to report any safety concerns or hazards immediately.\n",
       "5. Develop and implement an emergency response plan, including procedures for evacuating the worksite in case of an accident or incident.\n",
       "\n",
       "By following these risk control measures and additional recommendations, the risks associated with the rebaring activity can be minimized, ensuring a safer working environment for all personnel involved.\n",
       "\n",
       "---\n",
       "\n",
       "</div>"
      ],
      "text/plain": [
       "<IPython.core.display.Markdown object>"
      ]
     },
     "metadata": {},
     "output_type": "display_data"
    }
   ],
   "source": [
    "# usage\n",
    "df = df_jsa  # Ensure your Excel file is loaded into a DataFrame\n",
    "activity_name = \"Rebaring\"  # Specify the activity name you are interested in\n",
    "jsa_prompt = generate_jsa_prompt_from_df(df, activity_name, 0, 5)\n",
    "jsa_document = get_claude_response(jsa_prompt)\n",
    "display_message(jsa_document)"
   ]
  },
  {
   "cell_type": "markdown",
   "id": "81f6ccf6-c2ea-44c7-af2b-c54bcade3348",
   "metadata": {},
   "source": [
    "#### Experiment 2: Defined Function with Instructions"
   ]
  },
  {
   "cell_type": "code",
   "execution_count": 130,
   "id": "5a1d8071-b562-4fd0-a234-161ce740c5c5",
   "metadata": {},
   "outputs": [],
   "source": [
    "def generate_jsa_prompt_from_df(df, activity_name, start_index, batch_size):\n",
    "    # Filter the DataFrame to include only rows corresponding to the specified activity.\n",
    "    df_filtered = df[df['Activity'] == activity_name]\n",
    "    \n",
    "    # Group the filtered DataFrame by 'Sub-Activity Name' to organize data for each sub-activity.\n",
    "    grouped = df_filtered.groupby('Sub-Activity Name')\n",
    "    \n",
    "    # Initialize an empty string to accumulate the formatted text for the JSA content.\n",
    "    prompt_text = \"\"\n",
    "    \n",
    "    # Enumerate over each group, where 'i' is the index, 'name' is the sub-activity name, and 'group' is the DataFrame subset.\n",
    "    for i, (name, group) in enumerate(grouped):\n",
    "        if i < start_index:\n",
    "            continue  # Skip groups until reaching the specified starting index.\n",
    "        if i >= start_index + batch_size:\n",
    "            break  # Stop processing after reaching the specified batch size.\n",
    "\n",
    "        # Extract and format unique details from the group into strings.\n",
    "        sub_activity = name  # Current sub-activity name.\n",
    "        hazard = \", \".join(map(str, group['Type Of Hazard'].unique()))  # Join unique hazard types into a single string.\n",
    "        risks = \", \".join(map(str, group['Risk(s) Involved'].unique()))  # Join unique risks into a single string.\n",
    "        measures = \"\\n\".join(map(str, group['Risk Control measures'].unique()))  # Format control measures with new lines.\n",
    "\n",
    "        # Construct a formatted text block for the current sub-activity's safety analysis content.\n",
    "        sub_activity_text = f\"Sub-Activity: {sub_activity}\\n\"\n",
    "        hazard_text = f\"Type Of Hazard: {hazard}\\n\"\n",
    "        risks_text = f\"Risk(s) Involved: {risks}\\n\"\n",
    "        measures_text = f\"Risk Control measures:\\n{measures}\\n\"\n",
    "        \n",
    "        # Append the formatted text block to the overall prompt text.\n",
    "        prompt_text += sub_activity_text + hazard_text + risks_text + measures_text + \"\\n\\n\"\n",
    "    \n",
    "    # Construct the full prompt with a header specifying the activity and instructions to focus on dataset details.\n",
    "    full_prompt = (f\"Generate a Job Safety Analysis document for the following activity: {activity_name}.\\n\\n\" +\n",
    "                  \"Focus on the following details without adding any other additional information such as introductions, recommendations, or meanings. Only include details from the dataset provided:\\n\" +\n",
    "                  prompt_text)\n",
    "    \n",
    "    return full_prompt  # Return the complete, formatted prompt for generating a JSA document."
   ]
  },
  {
   "cell_type": "markdown",
   "id": "e68163f3-7d49-4351-8a43-185335af6e2a",
   "metadata": {},
   "source": [
    "#### Activity 1: Area Hard Barrication"
   ]
  },
  {
   "cell_type": "code",
   "execution_count": 121,
   "id": "db0fd24c-a153-4e85-bdf6-6b1a56b6d77d",
   "metadata": {},
   "outputs": [
    {
     "data": {
      "text/markdown": [
       "<div style='color: #34568B;'>\n",
       "\n",
       "---\n",
       "\n",
       "Job Safety Analysis: Area Hard Barrication\n",
       "\n",
       "Sub-Activity: Barrication \n",
       "Type Of Hazard: Fall of material\n",
       "Risk(s) Involved: Personal Injury\n",
       "Risk Control measures:\n",
       "- Ensure inducted labour at site\n",
       "- Ensure sufficient manpower for carriage of material\n",
       "- Ensure use of FBSH while barrication near edge of the pit\n",
       "\n",
       "Sub-Activity: Loading & unloading\n",
       "Type Of Hazard: Fall/Slip/Trip\n",
       "Risk(s) Involved: Personal injury\n",
       "Risk Control measures:\n",
       "- Evaluating the capacity of the dumper\n",
       "- Provision of banks man for guiding the process and stopper for vehicle\n",
       "- Ensuring the level ground for unloading dumper at dumping area\n",
       "- Material stacking not less than 1.5 mtrs from the edge of the pit\n",
       "- Ensuring safe working height for stacking of the material (1.5 mtrs)\n",
       "\n",
       "Sub-Activity: Manpower Mobilization\n",
       "Type Of Hazard: Untrained worker\n",
       "Risk(s) Involved: Personal injury, Break down\n",
       "Risk Control measures:\n",
       "- Only inducted worker shall be deputed at the work place\n",
       "- Given Tool Box Talk to all workers\n",
       "- Ensure daily maintance of excavator\n",
       "\n",
       "Sub-Activity: Material transports\n",
       "Type Of Hazard: Road accident\n",
       "Risk(s) Involved: Personal injury, loss of properly\n",
       "Risk Control measures:\n",
       "- Identifying the route of the vehicle\n",
       "- Checking the competency of the vehicle driver\n",
       "- Checking of authorization papers of driver & vehicle\n",
       "- Confirming fitness of the vehicle- viz. breaks, tale lamps, reverse horns\n",
       "\n",
       "Sub-Activity: Work during dark hours\n",
       "Type Of Hazard: Darkness, fall of person, fall of machinery\n",
       "Risk(s) Involved: Personal injury, damage to property\n",
       "Risk Control measures:\n",
       "- Night work permit to be taken from concern engg.and safety dept.\n",
       "- Ensure proper illumination during dark hours\n",
       "- Electrical cable should lead min 2 m height. No exposed electrical wire. Earthing.\n",
       "- Route shall be illuminated\n",
       "\n",
       "---\n",
       "\n",
       "</div>"
      ],
      "text/plain": [
       "<IPython.core.display.Markdown object>"
      ]
     },
     "metadata": {},
     "output_type": "display_data"
    }
   ],
   "source": [
    "# usage\n",
    "df = df_jsa  # Ensure your Excel file is loaded into a DataFrame\n",
    "activity_name = \"Area Hard barrication\"  # Specify the activity name you are interested in\n",
    "jsa_prompt = generate_jsa_prompt_from_df(df, activity_name, 0, 5)\n",
    "jsa_document = get_claude_response(jsa_prompt)\n",
    "display_message(jsa_document)"
   ]
  },
  {
   "cell_type": "markdown",
   "id": "26b88a67-a15a-4659-9c1d-e280bf563c2a",
   "metadata": {},
   "source": [
    "#### Activity 2: Anti-Termite Treatment"
   ]
  },
  {
   "cell_type": "code",
   "execution_count": 122,
   "id": "5bd82585-634f-40e8-a9b0-072178b0ff08",
   "metadata": {},
   "outputs": [
    {
     "data": {
      "text/markdown": [
       "<div style='color: #34568B;'>\n",
       "\n",
       "---\n",
       "\n",
       "Job Safety Analysis: Anti-Termite Treatment\n",
       "\n",
       "Sub-Activity: Anti-Termite Treatment\n",
       "Type Of Hazard: Toxic Material, Dermitites\n",
       "Risk(s) Involved: Inhaling, Injecting, Eye irritation, Skin irritation\n",
       "Risk Control measures:\n",
       "1. Use of all required PPE's.\n",
       "2. MSDS shall be made available at the site.\n",
       "3. Work shall be carried out as per safe use of chemical.\n",
       "4. Thoroughly wash the hand and other body parts exposed to chemical before intaking the food/ after completion of work.\n",
       "5. Work Permit shall be taken prior to the activity.\n",
       "6. Chemical shall be stored in godown with restricted entry and properly accounted.\n",
       "\n",
       "Sub-Activity: Manpower Mobilization\n",
       "Type Of Hazard: Untrained worker, lack of skill awareness\n",
       "Risk(s) Involved: Personal injury\n",
       "Risk Control measures:\n",
       "1. Only inducted worker shall be deputed at the work place.\n",
       "2. Given Tool Box Talk to all workers.\n",
       "\n",
       "---\n",
       "\n",
       "</div>"
      ],
      "text/plain": [
       "<IPython.core.display.Markdown object>"
      ]
     },
     "metadata": {},
     "output_type": "display_data"
    }
   ],
   "source": [
    "# usage\n",
    "df = df_jsa  # Ensure your Excel file is loaded into a DataFrame\n",
    "activity_name = \"Anti-termite treatment\"  # Specify the activity name you are interested in\n",
    "jsa_prompt = generate_jsa_prompt_from_df(df, activity_name, 0, 5)\n",
    "jsa_document = get_claude_response(jsa_prompt)\n",
    "display_message(jsa_document)"
   ]
  },
  {
   "cell_type": "markdown",
   "id": "b936db49-44fe-4789-95a3-83304b949477",
   "metadata": {},
   "source": [
    "#### Activity 3: Alluminium Door Fixing"
   ]
  },
  {
   "cell_type": "code",
   "execution_count": 123,
   "id": "54b87524-45d0-491c-ab3a-8cd0f608b7fe",
   "metadata": {},
   "outputs": [
    {
     "data": {
      "text/markdown": [
       "<div style='color: #34568B;'>\n",
       "\n",
       "---\n",
       "\n",
       "Job Safety Analysis - Aluminium Door Fixing\n",
       "\n",
       "Sub-Activity: Fixing of Frame\n",
       "Type Of Hazard: Fall of material, fall of man, electric shock, fall of equipment\n",
       "Risk(s) Involved: Personal Injury, property damage\n",
       "Risk Control measures:\n",
       "- Ensure only inspected ladder/ scaffold should use for work\n",
       "- Ensure only inspected portable equipments should use for work\n",
       "- Ensure safety belt(FBSH) above 2 mtr. Height\n",
       "- Ensure tools and material should fix with rope at height (work platform)\n",
       "- Ensure person should not stand below load\n",
       "\n",
       "Sub-Activity: Manpower Mobilization\n",
       "Type Of Hazard: Untrained worker\n",
       "Risk(s) Involved: Personal injury\n",
       "Risk Control measures:\n",
       "- Only inducted worker shall be deputed at the work place.\n",
       "- Given Tool Box Talk to all workers.\n",
       "- Required work permits should be taken before start of activity\n",
       "- Work Shall be carried out under continuous Supervision.\n",
       "\n",
       "Sub-Activity: Work during dark hours\n",
       "Type Of Hazard: Darkness, fall of person, fall of machinery\n",
       "Risk(s) Involved: Personal injury, damage to property\n",
       "Risk Control measures:\n",
       "- Night work permit to be taken from concern engg.and safety dept.\n",
       "- Ensure person can carry weight\n",
       "- Electrical cable should lead min 2 m height. No exposed electrical wire.Earthing.\n",
       "- Route shall be illuminated.\n",
       "\n",
       "---\n",
       "\n",
       "</div>"
      ],
      "text/plain": [
       "<IPython.core.display.Markdown object>"
      ]
     },
     "metadata": {},
     "output_type": "display_data"
    }
   ],
   "source": [
    "# usage\n",
    "df = df_jsa  # Ensure your Excel file is loaded into a DataFrame\n",
    "activity_name = \"Alluminium door fixing\"  # Specify the activity name you are interested in\n",
    "jsa_prompt = generate_jsa_prompt_from_df(df, activity_name, 0, 5)\n",
    "jsa_document = get_claude_response(jsa_prompt)\n",
    "display_message(jsa_document)"
   ]
  },
  {
   "cell_type": "markdown",
   "id": "1d486522-6621-44ed-9dbd-7e69f0bedea8",
   "metadata": {},
   "source": [
    "#### Activity 4: Column Shuttering"
   ]
  },
  {
   "cell_type": "code",
   "execution_count": 124,
   "id": "2d56db25-fcac-4b28-b1e7-1db0a4548311",
   "metadata": {},
   "outputs": [
    {
     "data": {
      "text/markdown": [
       "<div style='color: #34568B;'>\n",
       "\n",
       "---\n",
       "\n",
       "Job Safety Analysis: Column Shuttering\n",
       "\n",
       "Sub-Activity: Manpower Mobilization\n",
       "Type Of Hazard: Untrained worker, lack of skill awareness\n",
       "Risk(s) Involved: Personal injury\n",
       "Risk Control measures:\n",
       "- Only inducted worker shall be deputed at the work place.\n",
       "- Given Tool Box Talk to all workers.\n",
       "\n",
       "Sub-Activity: Shuttering\n",
       "Type Of Hazard: Fall of material / Collapse of shuttering, Trip / fall of personnel, Nail Piercing\n",
       "Risk(s) Involved: Injury/property damage, Personnel injury / fatal, Personnel injury\n",
       "Risk Control measures:\n",
       "- Use of Basic PPE\n",
       "- Before erection of steel frame staging is started, a through inspection should be undertaken on it.\n",
       "- Proper housekeeping/stacking of material in an isolated area.\n",
       "- Tubular steel scaffolds / staging to be made as per the scheme.\n",
       "- Work shall be carried out by competent person under proper supervision of foremen / incharge.\n",
       "- Struts and diagonal brace must be in proper position and secured for frames to develop full load carrying capacity.\n",
       "- Lifting of shutter boards & placing in position shall be done by sufficient nos of workers to avoid fall of material.\n",
       "- Labours standing on scaffolds hall be given FBSH.\n",
       "- Scaffolds shall be supported to avoid overturning.\n",
       "- Loose nail should be removed from site & nails which have came out of ply shall also be bent or removed.\n",
       "- Timber jacks, joists, stringers and ledgers should be inspected for defects such as cracks / excessive knots.\n",
       "\n",
       "Sub-Activity: Staging\n",
       "Type Of Hazard: Fall of person, material\n",
       "Risk(s) Involved: Personal Injury\n",
       "Risk Control measures:\n",
       "- Area barricade to restrict entry.\n",
       "- Ensure (FBSH) full body safety harness anchor by each workmen.\n",
       "- Cuplock verticals are checked against bending & breakages\n",
       "- Ledgers shall be placed at every 500mm & same shall be covered with the cups.\n",
       "- Maintain good house keeping at work site.\n",
       "\n",
       "Sub-Activity: Work during dark hours\n",
       "Type Of Hazard: Darkness, fall of person, fall of machinery\n",
       "Risk(s) Involved: Personal injury, damage to property\n",
       "Risk Control measures:\n",
       "- Night work permit to be taken from concern engg. and safety dept.\n",
       "- Ensure proper illumination during dark hours.\n",
       "- Electrical cable should lead min 2 m height. No exposed electrical wire. Earthing.\n",
       "- Route shall be illuminated.\n",
       "\n",
       "---\n",
       "\n",
       "</div>"
      ],
      "text/plain": [
       "<IPython.core.display.Markdown object>"
      ]
     },
     "metadata": {},
     "output_type": "display_data"
    }
   ],
   "source": [
    "# usage\n",
    "df = df_jsa  # Ensure your Excel file is loaded into a DataFrame\n",
    "activity_name = \"Column Shuttering\"  # Specify the activity name you are interested in\n",
    "jsa_prompt = generate_jsa_prompt_from_df(df, activity_name, 0, 5)\n",
    "jsa_document = get_claude_response(jsa_prompt)\n",
    "display_message(jsa_document)"
   ]
  },
  {
   "cell_type": "markdown",
   "id": "c5c54a78-5981-4662-9c73-22ee936d0e94",
   "metadata": {},
   "source": [
    "#### Activity 5: Rebaring"
   ]
  },
  {
   "cell_type": "code",
   "execution_count": 125,
   "id": "aa594200-e011-4a24-b809-dbdf279c520e",
   "metadata": {},
   "outputs": [
    {
     "data": {
      "text/markdown": [
       "<div style='color: #34568B;'>\n",
       "\n",
       "---\n",
       "\n",
       "Job Safety Analysis: Rebaring\n",
       "\n",
       "Sub-Activity: Drilling of holes on coloumn\n",
       "Type Of Hazard: Fall of material, Fall of person\n",
       "Risk(s) Involved: Personal injury\n",
       "Risk Control measures:\n",
       "- Ensure safe scaffolding e.g. access, working platform with mid rail, top rail with support \n",
       "- Ensure drilling m/c should inspected with damage free cable and industrial pin top\n",
       "- Ensure worker working on height with Full body harness\n",
       "- Ensure tools and other material on working platform should bind\n",
       "- Ensure use of inspected tools & tackles\n",
       "\n",
       "Sub-Activity: Manpower Mobilization\n",
       "Type Of Hazard: Untrained worker\n",
       "Risk(s) Involved: Personal injury\n",
       "Risk Control measures:\n",
       "- Only inducted worker shall be deputed at the work place.\n",
       "- Give Tool Box Talk to all workers.\n",
       "\n",
       "Sub-Activity: Work during dark hours\n",
       "Type Of Hazard: Darkness, fall of person, fall of machinery\n",
       "Risk(s) Involved: Personal injury, damage to property\n",
       "Risk Control measures:\n",
       "- Night work permit to be taken from concern engg.and safety dept.\n",
       "- Ensure proper illumination during dark hours.\n",
       "- Electrical cable should lead min 2 m height. No exposed electrical wire.Earthing.\n",
       "- Route shall be illuminated.\n",
       "\n",
       "---\n",
       "\n",
       "</div>"
      ],
      "text/plain": [
       "<IPython.core.display.Markdown object>"
      ]
     },
     "metadata": {},
     "output_type": "display_data"
    }
   ],
   "source": [
    "# usage\n",
    "df = df_jsa  # Ensure your Excel file is loaded into a DataFrame\n",
    "activity_name = \"Rebaring\"  # Specify the activity name you are interested in\n",
    "jsa_prompt = generate_jsa_prompt_from_df(df, activity_name, 0, 5)\n",
    "jsa_document = get_claude_response(jsa_prompt)\n",
    "display_message(jsa_document)"
   ]
  },
  {
   "cell_type": "code",
   "execution_count": null,
   "id": "7a1f47c5-4117-425d-899f-4a0e46e13db2",
   "metadata": {},
   "outputs": [],
   "source": []
  }
 ],
 "metadata": {
  "ai8-sym": {
   "notebook_id": "2df93815-83bb-4503-b425-952851b77b66"
  },
  "kernelspec": {
   "display_name": "Python 3 (ipykernel)",
   "language": "python",
   "name": "python3"
  },
  "language_info": {
   "codemirror_mode": {
    "name": "ipython",
    "version": 3
   },
   "file_extension": ".py",
   "mimetype": "text/x-python",
   "name": "python",
   "nbconvert_exporter": "python",
   "pygments_lexer": "ipython3",
   "version": "3.11.6"
  }
 },
 "nbformat": 4,
 "nbformat_minor": 5
}
