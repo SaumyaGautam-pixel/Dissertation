{
 "cells": [
  {
   "cell_type": "markdown",
   "id": "c17400c3-c1c8-4f74-8512-03fc4c3a939b",
   "metadata": {},
   "source": [
    "## Evaluation Metrics"
   ]
  },
  {
   "cell_type": "markdown",
   "id": "cbb5195e-bc04-4b0f-94e0-a203d4f0aa69",
   "metadata": {},
   "source": [
    "This notebook illustrates how two evaluation metrics were applied to measure the similarity between the reference output and the generated output."
   ]
  },
  {
   "cell_type": "markdown",
   "id": "885e8628-85fc-45c8-8762-86ab908743a5",
   "metadata": {},
   "source": [
    "### Installing NLTK Library"
   ]
  },
  {
   "cell_type": "code",
   "execution_count": 12,
   "id": "e2343933-9e6c-4aa1-8e3a-b8c0e52ec5ef",
   "metadata": {},
   "outputs": [
    {
     "name": "stdout",
     "output_type": "stream",
     "text": [
      "Requirement already satisfied: nltk in /usr/local/lib/python3.11/site-packages (3.8.1)\n",
      "Requirement already satisfied: click in /usr/local/lib/python3.11/site-packages (from nltk) (8.1.7)\n",
      "Requirement already satisfied: joblib in /usr/local/lib/python3.11/site-packages (from nltk) (1.4.2)\n",
      "Requirement already satisfied: regex>=2021.8.3 in /usr/local/lib/python3.11/site-packages (from nltk) (2024.5.15)\n",
      "Requirement already satisfied: tqdm in /usr/local/lib/python3.11/site-packages (from nltk) (4.66.4)\n",
      "\n",
      "\u001b[1m[\u001b[0m\u001b[34;49mnotice\u001b[0m\u001b[1;39;49m]\u001b[0m\u001b[39;49m A new release of pip is available: \u001b[0m\u001b[31;49m23.2.1\u001b[0m\u001b[39;49m -> \u001b[0m\u001b[32;49m24.2\u001b[0m\n",
      "\u001b[1m[\u001b[0m\u001b[34;49mnotice\u001b[0m\u001b[1;39;49m]\u001b[0m\u001b[39;49m To update, run: \u001b[0m\u001b[32;49mpip install --upgrade pip\u001b[0m\n",
      "Note: you may need to restart the kernel to use updated packages.\n"
     ]
    }
   ],
   "source": [
    "pip install nltk"
   ]
  },
  {
   "cell_type": "markdown",
   "id": "2e4d381b-67dc-4f81-a2ad-3984628dbc87",
   "metadata": {},
   "source": [
    "### Installing OpenAI Library"
   ]
  },
  {
   "cell_type": "markdown",
   "id": "07ce24d3-3f46-442e-94ee-56056f6f7627",
   "metadata": {},
   "source": [
    "An older version of the OpenAI Python library was utilized because the specific method attempted for retrieving embeddings has been discontinued in newer versions."
   ]
  },
  {
   "cell_type": "code",
   "execution_count": 2,
   "id": "9c78b104-ad8f-4d87-8f24-9aff1f38ea4e",
   "metadata": {},
   "outputs": [
    {
     "name": "stdout",
     "output_type": "stream",
     "text": [
      "Requirement already satisfied: openai==0.27.0 in /usr/local/lib/python3.11/site-packages (0.27.0)\n",
      "Requirement already satisfied: requests>=2.20 in /usr/local/lib/python3.11/site-packages (from openai==0.27.0) (2.31.0)\n",
      "Requirement already satisfied: tqdm in /usr/local/lib/python3.11/site-packages (from openai==0.27.0) (4.66.4)\n",
      "Requirement already satisfied: aiohttp in /usr/local/lib/python3.11/site-packages (from openai==0.27.0) (3.10.1)\n",
      "Requirement already satisfied: charset-normalizer<4,>=2 in /usr/local/lib/python3.11/site-packages (from requests>=2.20->openai==0.27.0) (3.3.2)\n",
      "Requirement already satisfied: idna<4,>=2.5 in /usr/local/lib/python3.11/site-packages (from requests>=2.20->openai==0.27.0) (3.6)\n",
      "Requirement already satisfied: urllib3<3,>=1.21.1 in /usr/local/lib/python3.11/site-packages (from requests>=2.20->openai==0.27.0) (2.1.0)\n",
      "Requirement already satisfied: certifi>=2017.4.17 in /usr/local/lib/python3.11/site-packages (from requests>=2.20->openai==0.27.0) (2023.11.17)\n",
      "Requirement already satisfied: aiohappyeyeballs>=2.3.0 in /usr/local/lib/python3.11/site-packages (from aiohttp->openai==0.27.0) (2.3.5)\n",
      "Requirement already satisfied: aiosignal>=1.1.2 in /usr/local/lib/python3.11/site-packages (from aiohttp->openai==0.27.0) (1.3.1)\n",
      "Requirement already satisfied: attrs>=17.3.0 in /usr/local/lib/python3.11/site-packages (from aiohttp->openai==0.27.0) (23.1.0)\n",
      "Requirement already satisfied: frozenlist>=1.1.1 in /usr/local/lib/python3.11/site-packages (from aiohttp->openai==0.27.0) (1.4.1)\n",
      "Requirement already satisfied: multidict<7.0,>=4.5 in /usr/local/lib/python3.11/site-packages (from aiohttp->openai==0.27.0) (6.0.5)\n",
      "Requirement already satisfied: yarl<2.0,>=1.0 in /usr/local/lib/python3.11/site-packages (from aiohttp->openai==0.27.0) (1.9.4)\n",
      "\n",
      "\u001b[1m[\u001b[0m\u001b[34;49mnotice\u001b[0m\u001b[1;39;49m]\u001b[0m\u001b[39;49m A new release of pip is available: \u001b[0m\u001b[31;49m23.2.1\u001b[0m\u001b[39;49m -> \u001b[0m\u001b[32;49m24.2\u001b[0m\n",
      "\u001b[1m[\u001b[0m\u001b[34;49mnotice\u001b[0m\u001b[1;39;49m]\u001b[0m\u001b[39;49m To update, run: \u001b[0m\u001b[32;49mpip install --upgrade pip\u001b[0m\n",
      "Note: you may need to restart the kernel to use updated packages.\n"
     ]
    }
   ],
   "source": [
    "pip install openai==0.27.0"
   ]
  },
  {
   "cell_type": "markdown",
   "id": "8678187a-b2e9-4299-8bcd-1db8ff55255a",
   "metadata": {},
   "source": [
    "### Importing the Necessary Functions"
   ]
  },
  {
   "cell_type": "code",
   "execution_count": 13,
   "id": "4f73eb00-ac0e-46a1-8eca-88fee63ff0ff",
   "metadata": {},
   "outputs": [],
   "source": [
    "import nltk \n",
    "from nltk.translate.bleu_score import sentence_bleu, SmoothingFunction\n",
    "from nltk.tokenize import word_tokenize\n",
    "import openai\n",
    "import numpy as np"
   ]
  },
  {
   "cell_type": "code",
   "execution_count": 14,
   "id": "2b446ef6-2c06-473a-995b-22f88d854170",
   "metadata": {},
   "outputs": [
    {
     "name": "stderr",
     "output_type": "stream",
     "text": [
      "[nltk_data] Downloading package punkt to /home/jovyan/nltk_data...\n",
      "[nltk_data]   Package punkt is already up-to-date!\n"
     ]
    },
    {
     "data": {
      "text/plain": [
       "True"
      ]
     },
     "execution_count": 14,
     "metadata": {},
     "output_type": "execute_result"
    }
   ],
   "source": [
    "# Ensure that NLTK tokenizers are downloaded\n",
    "nltk.download('punkt')"
   ]
  },
  {
   "cell_type": "markdown",
   "id": "213d02b5-3973-434c-8d6c-fc95c87506d5",
   "metadata": {},
   "source": [
    "Further section demonstrates how the BLEU and Cosine similarity scores were utlised to calculate similarity."
   ]
  },
  {
   "cell_type": "markdown",
   "id": "6ee669e0-b7dd-4929-bda7-52ab917dd35f",
   "metadata": {},
   "source": [
    "### Step 1: Creating a reference document"
   ]
  },
  {
   "cell_type": "markdown",
   "id": "0905c5d4-3367-412d-bf7d-0ece7fd7eeb6",
   "metadata": {},
   "source": [
    "A reference document was created with the information available in the dataset."
   ]
  },
  {
   "cell_type": "code",
   "execution_count": 7,
   "id": "3149253d-ff32-4abc-8223-84e26d66e04e",
   "metadata": {},
   "outputs": [],
   "source": [
    "# Reference Document\n",
    "reference_document = \"\"\"\n",
    "Activity Site Entrance\n",
    "\n",
    "Hazard: Unauthorized access \n",
    "Initial Risk Level: L4, S3, R12\n",
    "Identified at Risk Security Personnel, Visitors\n",
    "Residual Risk: L4, S1, R4\n",
    "\n",
    "Control Measures Safety induction and visible signage must be present\n",
    "\n",
    "Hazard: Struck by vehicle\n",
    "Initial Risk Level: L4, S3, R12\n",
    "Identified at Risk Security Personnel, Visitors\n",
    "Residual Risk: L4, S3, R12\n",
    "\n",
    "Control Measures Safety induction and visible signage must be present\n",
    "\"\"\""
   ]
  },
  {
   "cell_type": "markdown",
   "id": "73fa6146-18a1-4839-bf8d-41639a3b1461",
   "metadata": {},
   "source": [
    "### Step 2: Converting Generated Output to a string"
   ]
  },
  {
   "cell_type": "markdown",
   "id": "a5f2ce41-b2c0-4b1a-98dc-7c531645ad54",
   "metadata": {},
   "source": [
    "The generated document that was created by the models was converted into a string."
   ]
  },
  {
   "cell_type": "code",
   "execution_count": 20,
   "id": "f07631d7-65f5-433f-98d8-b8f9420d2fc5",
   "metadata": {},
   "outputs": [],
   "source": [
    "#Generated Document\n",
    "generated_document = \"\"\"\n",
    "Site Entrance Risk Assessment Document\n",
    "1. Introduction\n",
    "This document outlines the hazards associated with the site entrance of [Project Name], the level of risks, the individuals or groups identified at risk, the control measures implemented to mitigate these risks, and the level of residual risk after the implementation of control measures.\n",
    "2. Hazards Identified\n",
    "Slip, Trip, and Fall Hazards due to uneven or wet surfaces.\n",
    "Vehicle-Pedestrian Interaction increasing the risk of accidents and injuries.\n",
    "Unauthorized Access leading to potential safety or security breaches.\n",
    "Poor Visibility at the entrance can cause accidents.\n",
    "Dust and Air Pollution creating health issues for workers and visitors.\n",
    "3. Risk Level\n",
    "Slip, Trip, and Fall Hazards: High\n",
    "Vehicle-Pedestrian Interaction: High\n",
    "Unauthorized Access: Medium\n",
    "Poor Visibility: Medium\n",
    "Dust and Air Pollution: Low\n",
    "4. Identified at Risk\n",
    "Site Workers\n",
    "Visitors\n",
    "Delivery Personnel\n",
    "Pedestrians passing the site entrance\n",
    "5. Control Measures\n",
    "For Slip, Trip, and Fall Hazards\n",
    "Regular inspection and maintenance of entrance pathways.\n",
    "Adequate signage indicating uneven surfaces.\n",
    "Installation of anti-slip floor mats during wet conditions.\n",
    "For Vehicle-Pedestrian Interaction\n",
    "Designated pedestrian walkways separated from vehicle lanes.\n",
    "Speed limits imposed and visibly marked.\n",
    "Brightly colored pedestrian crossings with appropriate signage.\n",
    "For Unauthorized Access\n",
    "Secure fencing around the site perimeter.\n",
    "Security personnel stationed at the entrance.\n",
    "Visitor sign-in protocol and provision of visitor badges.\n",
    "For Poor Visibility\n",
    "Ample lighting installed at the site entrance.\n",
    "Reflective signs and markings used to enhance visibility.\n",
    "Mirrors installed at blind spots.\n",
    "For Dust and Air Pollution\n",
    "Water spraying systems to minimize dust.\n",
    "Mandatory use of personal protective equipment (PPE) such as masks.\n",
    "Regular monitoring of air quality at the site entrance.\n",
    "6. Residual Risk\n",
    "Slip, Trip, and Fall Hazards: Reduced to Low with regular monitoring and maintenance.\n",
    "Vehicle-Pedestrian Interaction: Reduced to Low with strict enforcement of pedestrian and vehicle separation.\n",
    "Unauthorized Access: Reduced to Low with effective security measures.\n",
    "Poor Visibility: Remains at Medium without constant monitoring and maintenance of visibility enhancements.\n",
    "Dust and Air Pollution: Remains at Low with effective use of control measures but may fluctuate based on site activity and weather conditions.\n",
    "7. Review and Monitoring\n",
    "This risk assessment will be reviewed every 6 months or following any significant changes at the site entrance or in regulations. Continuous monitoring of the entrance area is essential to ensure that control measures are appropriately maintained and adapted as necessary.\n",
    "8. Conclusion\n",
    "The control measures, when efficiently implemented and maintained, significantly reduce the risk levels at the site entrance. Ongoing vigilance, adherence to safety protocols, and regular review of these measures are paramount to ensuring the safety and health of all individuals entering or exiting the site.\"\"\"\n"
   ]
  },
  {
   "cell_type": "markdown",
   "id": "15af01e3-b834-4214-9e7c-3d4d9da02725",
   "metadata": {},
   "source": [
    "### Step 3: Calculate the BLEU Score"
   ]
  },
  {
   "cell_type": "code",
   "execution_count": 15,
   "id": "7af8a79d-0538-44e7-a563-def57b96a1d9",
   "metadata": {},
   "outputs": [
    {
     "name": "stdout",
     "output_type": "stream",
     "text": [
      "BLEU score: 0.0108\n"
     ]
    }
   ],
   "source": [
    "# Tokenize the reference and generated documents into words after converting them to lowercase.\n",
    "reference_tokens = word_tokenize(reference_document.lower())\n",
    "generated_tokens = word_tokenize(generated_document.lower())\n",
    "\n",
    "# Calculate the BLEU score using a smoothing function\n",
    "# Smoothing is used to avoid the BLEU score being unduly penalized by zero counts in the n-gram comparisons,\n",
    "# which often happens with shorter texts or texts with less common lexical items.\n",
    "smoothie = SmoothingFunction().method4\n",
    "bleu_score = sentence_bleu([reference_tokens], generated_tokens, smoothing_function=smoothie)\n",
    "\n",
    "# Print the BLEU score, formatted to four decimal places.\n",
    "# The BLEU score gives a numerical indication of the generated text's similarity to the reference text,\n",
    "# with a score of 1 indicating perfect overlap (identical text) and scores approaching zero indicating less similarity.\n",
    "print(f\"BLEU score: {bleu_score:.4f}\")"
   ]
  },
  {
   "cell_type": "markdown",
   "id": "fe406788-770c-4a4b-883e-f6718b23bdb0",
   "metadata": {},
   "source": [
    "### Calculate the Cosine Similarity Score"
   ]
  },
  {
   "cell_type": "code",
   "execution_count": 17,
   "id": "de6bc7cb-5094-4ee1-a27c-7646cbd3bdc8",
   "metadata": {},
   "outputs": [],
   "source": [
    "# Set your OpenAI API key\n",
    "openai.api_key = '' # API Key has been removed for privacy concerns\n",
    "\n",
    "# Function to get embeddings from OpenAI using the latest model\n",
    "def get_embedding(text, model=\"text-embedding-3-large\"):\n",
    "    # This line sends a request to the OpenAI API to create an embedding for the provided text.\n",
    "    # The 'model' parameter specifies which OpenAI embedding model to use.\n",
    "    response = openai.Embedding.create(model=model, input=[text])\n",
    "    \n",
    "    # This line extracts the embedding vector from the API response.\n",
    "    # The embedding is stored in the 'data' field of the response, at the first index.\n",
    "    embedding = response['data'][0]['embedding']\n",
    "    \n",
    "    # Convert the list of embedding values into a NumPy array for easier manipulation and use in further calculations.\n",
    "    return np.array(embedding)"
   ]
  },
  {
   "cell_type": "code",
   "execution_count": 18,
   "id": "5df5be50-0261-4791-bf8d-583904cfef91",
   "metadata": {},
   "outputs": [
    {
     "name": "stdout",
     "output_type": "stream",
     "text": [
      "Cosine Similarity: 0.7186\n"
     ]
    }
   ],
   "source": [
    "# Get embeddings\n",
    "embedding1 = get_embedding(reference_document)\n",
    "embedding2 = get_embedding(generated_document)\n",
    "\n",
    "# Calculate cosine similarity\n",
    "cosine_sim = np.dot(embedding1, embedding2) / (np.linalg.norm(embedding1) * np.linalg.norm(embedding2))\n",
    "print(f\"Cosine Similarity: {cosine_sim:.4f}\")"
   ]
  },
  {
   "cell_type": "markdown",
   "id": "72613643-50c1-4429-a020-3eabdf69c7c3",
   "metadata": {},
   "source": [
    "The BLEU and cosine similarity scores were calculated for each activity within the Risk Assessment Document and Job Safety Analysis by sequentially updating the reference and generated documents specific to each activity. This approach ensured that the assessments of textual similarity were tailored and relevant for the diverse activities covered in both documents."
   ]
  }
 ],
 "metadata": {
  "ai8-sym": {
   "notebook_id": "214e1fe8-ca95-48eb-95ab-b2d5261557ad"
  },
  "kernelspec": {
   "display_name": "Python 3 (ipykernel)",
   "language": "python",
   "name": "python3"
  },
  "language_info": {
   "codemirror_mode": {
    "name": "ipython",
    "version": 3
   },
   "file_extension": ".py",
   "mimetype": "text/x-python",
   "name": "python",
   "nbconvert_exporter": "python",
   "pygments_lexer": "ipython3",
   "version": "3.11.6"
  }
 },
 "nbformat": 4,
 "nbformat_minor": 5
}
